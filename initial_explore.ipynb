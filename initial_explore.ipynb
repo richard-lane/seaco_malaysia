{
 "cells": [
  {
   "cell_type": "markdown",
   "metadata": {},
   "source": [
    "Acceleromter Stuff\n",
    "====\n",
    "Initial exploration\n",
    "\n",
    "### Prerequisites\n",
    "The right version of python and various packages and probably a GPU\n",
    "\n",
    "### where the data is\n",
    "I've copied a single accelerometer file into the `data/` directory to do this initial exploration.\n",
    "\n",
    "This isn't a viable long-term solution, but downloading from RDSF takes forever\n",
    "\n",
    "I've also mounted the RDSF files on my `Z:` drive - change this in `userconf.yaml` if you've done something different\n",
    "\n",
    "One can also mount the files in the right place with\n",
    "```\n",
    "sudo mount -t cifs -o username=mh19137,workgroup=UOB //rdsfcifs.acrc.bris.ac.uk/SEACOCH20 /mnt/z/\n",
    "```"
   ]
  },
  {
   "cell_type": "code",
   "execution_count": null,
   "metadata": {},
   "outputs": [],
   "source": [
    "# I've written some modules\n",
    "from ema import read, parse, analysis"
   ]
  },
  {
   "cell_type": "markdown",
   "metadata": {},
   "source": [
    "### Choose a participant and check if they consented"
   ]
  },
  {
   "cell_type": "code",
   "execution_count": null,
   "metadata": {},
   "outputs": [],
   "source": [
    "device_id = \"6012582\"\n",
    "recording_id = \"0000291121\"\n",
    "participant_id = \"20029\"\n",
    "\n",
    "if not read.consented(participant_id):\n",
    "    raise ValueError(f\"Participant {participant_id} didn't consent\")"
   ]
  },
  {
   "cell_type": "code",
   "execution_count": null,
   "metadata": {},
   "outputs": [],
   "source": [
    "# Find the accelerometer file\n",
    "import pathlib\n",
    "\n",
    "filename = f\"{device_id}_{recording_id}-{participant_id}.cwa\"\n",
    "filepath = pathlib.Path(rf\"data/{filename}\")\n",
    "\n",
    "# TODO add some code to look for the right files in all the \"Week X\" folders\n",
    "\n",
    "assert filepath.exists()"
   ]
  },
  {
   "cell_type": "code",
   "execution_count": null,
   "metadata": {},
   "outputs": [],
   "source": [
    "\"\"\" Find the smartwatch data from the combined smartwatch file \"\"\"\n",
    "meal_df = read.meal_info(participant_id)\n",
    "allowed_meal_types = {\"Snack\", \"Drink\", \"Meal\", \"No food/drink\"}\n",
    "meal_df = parse.extract_meals(meal_df, allowed_meal_types, verbose=True)"
   ]
  },
  {
   "cell_type": "code",
   "execution_count": null,
   "metadata": {},
   "outputs": [],
   "source": [
    "\"\"\" Read the accelerometry file \"\"\"\n",
    "samples = read.accel_info(str(filepath))"
   ]
  },
  {
   "cell_type": "code",
   "execution_count": null,
   "metadata": {},
   "outputs": [],
   "source": [
    "# Use time as the index\n",
    "samples.set_index(\"time\", inplace=True, verify_integrity=False)"
   ]
  },
  {
   "cell_type": "code",
   "execution_count": null,
   "metadata": {},
   "outputs": [],
   "source": [
    "\"\"\" Find the total magnitude of acceleration \"\"\"\n",
    "import numpy as np\n",
    "\n",
    "samples[\"magnitude\"] = np.sqrt(\n",
    "    samples[\"accel_x\"] ** 2 + samples[\"accel_y\"] ** 2 + (samples[\"accel_z\"] - 1) ** 2\n",
    ")"
   ]
  },
  {
   "cell_type": "code",
   "execution_count": null,
   "metadata": {},
   "outputs": [],
   "source": [
    "import matplotlib.pyplot as plt\n",
    "\n",
    "fig, axis = plt.subplots(figsize=(18, 3))\n",
    "\n",
    "# Plot Accelerometry\n",
    "axis.plot(samples.index, samples[\"magnitude\"], linewidth=0.3, color=\"k\")"
   ]
  },
  {
   "cell_type": "code",
   "execution_count": null,
   "metadata": {},
   "outputs": [],
   "source": [
    "from pandas import Timedelta, to_datetime\n",
    "\n",
    "# Find meal times\n",
    "meal_times = meal_df[\"date\"].map(str) + meal_df[\"timestamp\"]\n",
    "\n",
    "# Find an hour slot before each meal\n",
    "ends = to_datetime(meal_times, format=r\"%d%b%Y%H:%M:%S\")\n",
    "starts = ends - Timedelta(1, \"hour\")"
   ]
  },
  {
   "cell_type": "code",
   "execution_count": null,
   "metadata": {},
   "outputs": [],
   "source": [
    "# Plot the total acceleration in an hour slot before each was recorded\n",
    "import pathlib\n",
    "from tqdm import tqdm\n",
    "\n",
    "from ema import util\n",
    "\n",
    "# Make interactive plotting work\n",
    "import os\n",
    "import PyQt6.QtCore\n",
    "os.environ[\"QT_API\"] = \"pyqt5\"\n",
    "\n",
    "%matplotlib qt\n",
    "\n",
    "\n",
    "keep = meal_df[\"meal_type\"] == \"Meal\"\n",
    "n_meals = np.sum(keep)\n",
    "\n",
    "plot_dir = pathlib.Path(\"plots/\")\n",
    "\n",
    "if not plot_dir.is_dir():\n",
    "    plot_dir.mkdir()\n",
    "\n",
    "# To explore some of the time series...\n",
    "for i, (start, end) in tqdm(enumerate(zip(starts[keep], ends[keep]))):\n",
    "    # First few are empty\n",
    "    if i < 5:\n",
    "        continue\n",
    "\n",
    "    accel = samples.loc[start:end][\"accel_x\"]\n",
    "\n",
    "    # 100Hz => dx=0.01\n",
    "    vely = util.integrate(accel, dx=0.01)\n",
    "    posn = util.integrate(vely, dx=0.01)\n",
    "\n",
    "    fig, axes = plt.subplots(3, 1, figsize=(12, 6))\n",
    "\n",
    "    for axis, label, data in zip(axes, (\"Posn\", \"Vely\", \"Accn\"), (posn, vely, accel)):\n",
    "        axis.plot(samples[start:end].index, data)\n",
    "        axis.set_ylabel(label)\n",
    "\n",
    "    break\n"
   ]
  },
  {
   "cell_type": "code",
   "execution_count": null,
   "metadata": {},
   "outputs": [],
   "source": [
    "# To explore some of the time series...\n",
    "from tqdm import tqdm\n",
    "%matplotlib qt\n",
    "\n",
    "def smooth(x, w):\n",
    "    return np.convolve(x, np.ones(w), \"same\") / w\n",
    "\n",
    "keep = meal_df[\"meal_type\"] == \"Meal\"\n",
    "\n",
    "for i, (start, end) in tqdm(enumerate(zip(starts[keep], ends[keep]))):\n",
    "    # First few are empty\n",
    "    if i < 5:\n",
    "        continue\n",
    "\n",
    "    slice = samples.loc[start:end]\n",
    "    accel = slice[\"accel_z\"]\n",
    "\n",
    "    smoothed = smooth(accel, 1)\n",
    "\n",
    "    smoothed = smoothed - np.mean(smoothed)\n",
    "\n",
    "    # 100Hz => dx=0.01\n",
    "    vely = util.integrate(smoothed, dx=0.01)\n",
    "    vely -= np.mean(vely)\n",
    "\n",
    "    posn = util.integrate(vely, dx=0.01)\n",
    "    posn -= np.mean(posn)\n",
    "\n",
    "    fig, axes = plt.subplots(3, 1, figsize=(12, 6))\n",
    "\n",
    "    axes[2].plot(slice.index, accel, linewidth=0.5, color=\"k\")\n",
    "    axes[2].plot(slice.index, smoothed, linewidth=1.5, linestyle=\"--\", color=\"r\")\n",
    "\n",
    "    axes[1].plot(slice.index, vely)\n",
    "    axes[0].plot(slice.index, posn)\n",
    "\n",
    "    for axis, label, data in zip(axes, (\"Posn\", \"Vely\", \"Accn\"), (posn, vely, accel)):\n",
    "        axis.plot(samples[start:end].index, data)\n",
    "        axis.set_ylabel(label)\n",
    "        axis.axhline(0)\n",
    "\n",
    "    break"
   ]
  },
  {
   "cell_type": "code",
   "execution_count": null,
   "metadata": {},
   "outputs": [],
   "source": []
  }
 ],
 "metadata": {
  "kernelspec": {
   "display_name": "malaysia",
   "language": "python",
   "name": "python3"
  },
  "language_info": {
   "codemirror_mode": {
    "name": "ipython",
    "version": 3
   },
   "file_extension": ".py",
   "mimetype": "text/x-python",
   "name": "python",
   "nbconvert_exporter": "python",
   "pygments_lexer": "ipython3",
   "version": "3.10.12"
  },
  "orig_nbformat": 4
 },
 "nbformat": 4,
 "nbformat_minor": 2
}
