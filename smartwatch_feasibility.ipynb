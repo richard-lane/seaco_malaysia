{
 "cells": [
  {
   "cell_type": "markdown",
   "metadata": {},
   "source": [
    "# Feasibility Studies for Smartwatch\n",
    "\n",
    "We're interested in a few things, but I'll probably hash them out properly later\n",
    "\n",
    "### Response Rate\n",
    "How often a participant entered a \"No response\", per day of the study"
   ]
  },
  {
   "cell_type": "code",
   "execution_count": 1,
   "metadata": {},
   "outputs": [
    {
     "name": "stderr",
     "output_type": "stream",
     "text": [
      "/home/mh19137/seaco_malaysia/ema/util.py:47: UserWarning: Not all dates are in 2022: set(dates.year.unique())={2021, 2022} \n",
      "  warnings.warn(f\"Not all dates are in 2022: {set(dates.year.unique())=} \")\n",
      "/home/mh19137/seaco_malaysia/ema/util.py:49: UserWarning: Dates are not a datetime series: type(dates)=<class 'pandas.core.series.Series'>\n",
      "  warnings.warn(f\"Dates are not a datetime series: {type(dates)=}\")\n",
      "/home/mh19137/seaco_malaysia/ema/util.py:49: UserWarning: Dates are not a datetime series: type(dates)=<class 'pandas.core.series.Series'>\n",
      "  warnings.warn(f\"Dates are not a datetime series: {type(dates)=}\")\n"
     ]
    }
   ],
   "source": [
    "\"\"\"\n",
    "Find \"No response\" rate per user per day of the study\n",
    "\n",
    "\"\"\"\n",
    "import pandas as pd\n",
    "import numpy as np\n",
    "from typing import Union\n",
    "\n",
    "from ema import clean\n",
    "\n",
    "meal_info = clean.cleaned_smartwatch(remove_catchups=True)\n",
    "\n",
    "\n",
    "def fraction(positive: pd.Series, negative: pd.Series) -> float:\n",
    "    \"\"\"\n",
    "    Given two series of positive and negative responses, find the fraction of positive responses\n",
    "\n",
    "    \"\"\"\n",
    "    return len(positive) / (len(positive) + len(negative))\n",
    "\n",
    "\n",
    "def fraction_err(positive: pd.Series, negative: pd.Series) -> float:\n",
    "    \"\"\"\n",
    "    Given two series of positive and negative responses, find error on the fraction of positive responses\n",
    "\n",
    "    \"\"\"\n",
    "    # I think this is right...\n",
    "    return fraction(positive, negative) * np.sqrt(1 / (len(positive) + len(negative)))\n",
    "\n",
    "\n",
    "def fraction_per_day(meal_df: pd.DataFrame, label: Union[str, list]) -> tuple:\n",
    "    \"\"\"\n",
    "    Get the fraction per day and its error for a specified type of meal_type\n",
    "\n",
    "    \"\"\"\n",
    "    if isinstance(label, str):\n",
    "        label = [label]\n",
    "\n",
    "    all_labels = [\"Meal\", \"Snack\", \"Drink\", \"No food/drink\", \"No response\"]\n",
    "    for l in label:\n",
    "        assert l in all_labels, l\n",
    "\n",
    "    # Iterate over days, slicing per day and finding the fraction of responses\n",
    "    fractions, errors = [], []\n",
    "\n",
    "    for day in range(1, 8):\n",
    "        # Find how many positive and negative responses on each day\n",
    "        mask = (meal_df[\"delta\"] > pd.Timedelta(days=day)) & (\n",
    "            meal_df[\"delta\"] < pd.Timedelta(days=day + 1)\n",
    "        )\n",
    "        meals_on_this_day = meal_df[mask]\n",
    "        positive = meals_on_this_day[meals_on_this_day[\"meal_type\"].isin(label)]\n",
    "        negative = meals_on_this_day[\n",
    "            meals_on_this_day[\"meal_type\"].isin(\n",
    "                [l for l in all_labels if l not in label]\n",
    "            )\n",
    "        ]\n",
    "\n",
    "        # Find the fraction of positive responses\n",
    "        fractions.append(fraction(positive, negative))\n",
    "\n",
    "        # Find its uncertainty by bootstrapping\n",
    "\n",
    "        # Find the standard deviation of the fractions\n",
    "        # This is the error\n",
    "        errors.append(fraction_err(positive, negative))\n",
    "\n",
    "    return np.array(fractions), np.array(errors)"
   ]
  },
  {
   "cell_type": "code",
   "execution_count": 2,
   "metadata": {},
   "outputs": [
    {
     "name": "stderr",
     "output_type": "stream",
     "text": [
      "/tmp/ipykernel_23625/939264812.py:41: UserWarning: FixedFormatter should only be used together with FixedLocator\n",
      "  axis.set_xticklabels([f\"Day {i}\" for i in range(8)])\n"
     ]
    },
    {
     "data": {
      "image/png": "[encoded data removed]",
      "text/plain": [
       "<Figure size 640x480 with 1 Axes>"
      ]
     },
     "metadata": {},
     "output_type": "display_data"
    }
   ],
   "source": [
    "\"\"\"\n",
    "Plot them\n",
    "\n",
    "\"\"\"\n",
    "import matplotlib.pyplot as plt\n",
    "\n",
    "\n",
    "def plot(\n",
    "    axis: plt.Axes, fractions: np.ndarray, errs: np.ndarray, x_ticks, **plot_kw\n",
    ") -> None:\n",
    "    \"\"\"\n",
    "    Plot the specified fractions and errors on the provided axis\n",
    "\n",
    "    \"\"\"\n",
    "    axis.errorbar(\n",
    "        x_ticks,\n",
    "        100 * fractions,\n",
    "        yerr=100 * errs,\n",
    "        fmt=\"-\",\n",
    "        **plot_kw,\n",
    "    )\n",
    "\n",
    "\n",
    "fig, axis = plt.subplots()\n",
    "\n",
    "plot(\n",
    "    axis,\n",
    "    *fraction_per_day(meal_info, \"No response\"),\n",
    "    np.arange(1, 8) - 0.1,\n",
    "    label=\"No response\",\n",
    "    color=\"r\",\n",
    ")\n",
    "plot(\n",
    "    axis,\n",
    "    *fraction_per_day(meal_info, [\"Meal\", \"Drink\", \"Snack\", \"No food/drink\"]),\n",
    "    np.arange(1, 8),\n",
    "    label=\"Meal/Drink/Snack/Nothing\",\n",
    "    color=\"g\",\n",
    ")\n",
    "\n",
    "axis.set_xticklabels([f\"Day {i}\" for i in range(8)])\n",
    "\n",
    "axis.set_ylim(0, 100)\n",
    "axis.set_title(\"Response Type per Day\")\n",
    "axis.set_ylabel(\"%\")\n",
    "axis.legend()\n",
    "\n",
    "fig.tight_layout()\n",
    "fig.savefig(\"img/response_types.png\")"
   ]
  },
  {
   "cell_type": "markdown",
   "metadata": {},
   "source": [
    "It looks like the response rate goes down during the study, but we want to formally check this.\n",
    "\n",
    "Let's do this with a multilevel model; we want to check whether a positive/negative is are predicted by the day of the study for each participant.\n",
    "To do this we'll make a dataframe holding the day of the study, the participant ID and whether each entry was a no-response"
   ]
  },
  {
   "cell_type": "code",
   "execution_count": 45,
   "metadata": {},
   "outputs": [
    {
     "name": "stderr",
     "output_type": "stream",
     "text": [
      "/home/mh19137/seaco_malaysia/ema/util.py:47: UserWarning: Not all dates are in 2022: set(dates.year.unique())={2021, 2022} \n",
      "  warnings.warn(f\"Not all dates are in 2022: {set(dates.year.unique())=} \")\n",
      "/home/mh19137/seaco_malaysia/ema/util.py:49: UserWarning: Dates are not a datetime series: type(dates)=<class 'pandas.core.series.Series'>\n",
      "  warnings.warn(f\"Dates are not a datetime series: {type(dates)=}\")\n",
      "/home/mh19137/seaco_malaysia/ema/util.py:49: UserWarning: Dates are not a datetime series: type(dates)=<class 'pandas.core.series.Series'>\n",
      "  warnings.warn(f\"Dates are not a datetime series: {type(dates)=}\")\n"
     ]
    },
    {
     "name": "stdout",
     "output_type": "stream",
     "text": [
      "             Binomial Mixed GLM Results\n",
      "====================================================\n",
      "      Type Post. Mean Post. SD   SD  SD (LB) SD (UB)\n",
      "----------------------------------------------------\n",
      "const    M     1.5604   0.1228                      \n",
      "day      M    -0.2345   0.0126                      \n",
      "VC_1     V     0.0000   1.0000 1.000   0.135   7.389\n",
      "VC_2     V    -0.0222   0.0899 0.978   0.817   1.171\n",
      "====================================================\n",
      "Parameter types are mean structure (M) and variance\n",
      "structure (V)\n",
      "Variance parameters are modeled as log standard\n",
      "deviations\n"
     ]
    }
   ],
   "source": [
    "\"\"\"\n",
    "Multilevel model for no response rate\n",
    "\n",
    "\"\"\"\n",
    "import patsy\n",
    "import statsmodels as sm\n",
    "\n",
    "meal_info = clean.cleaned_smartwatch(remove_catchups=True)\n",
    "\n",
    "# Create a dataframe holding the right information\n",
    "model_df = pd.DataFrame()\n",
    "\n",
    "# Participant ID and entry day\n",
    "model_df[\"p_id\"] = meal_info[\"p_id\"]\n",
    "model_df[\"day\"] = meal_info[\"delta\"].dt.days\n",
    "\n",
    "# Whether each entry was a response or not\n",
    "model_df[\"entry\"] = (\n",
    "    meal_info[\"meal_type\"].isin({\"Meal\", \"Drink\", \"Snack\", \"No food/drink\"}).astype(int)\n",
    ")\n",
    "\n",
    "# Need to create a design matrix for the random effects\n",
    "exog_vc = patsy.dmatrix(\"0 + C(p_id)\", model_df, return_type=\"dataframe\")\n",
    "\n",
    "# Do the multilevel model\n",
    "model = sm.genmod.bayes_mixed_glm.BinomialBayesMixedGLM(\n",
    "    endog=model_df[\"entry\"],  # The responses\n",
    "    exog=sm.tools.tools.add_constant(model_df[\"day\"]),  # The fixed part\n",
    "    exog_vc=exog_vc,  # Covariates\n",
    "    ident=np.ones(\n",
    "        model_df[\"p_id\"].nunique(), dtype=int\n",
    "    ),  # This tells us which random effects have a common variance - in our case, all of them\n",
    "    # vcp_p=0.5,  # I think the documentation says this might be better\n",
    ")\n",
    "result = model.fit_map()\n",
    "\n",
    "print(result.summary())\n",
    "model_df.to_csv(\"meal_info.csv\")"
   ]
  },
  {
   "cell_type": "code",
   "execution_count": 49,
   "metadata": {},
   "outputs": [
    {
     "name": "stderr",
     "output_type": "stream",
     "text": [
      "/home/mh19137/anaconda3/envs/malaysia310/lib/python3.10/site-packages/rpy2/robjects/pandas2ri.py:56: UserWarning: DataFrame contains duplicated elements in the index, which will lead to loss of the row names in the resulting data.frame\n",
      "  warnings.warn('DataFrame contains duplicated elements in the index, '\n"
     ]
    },
    {
     "ename": "PackageNotInstalledError",
     "evalue": "The R package \"lme4\" is not installed.",
     "output_type": "error",
     "traceback": [
      "\u001b[0;31m---------------------------------------------------------------------------\u001b[0m",
      "\u001b[0;31mPackageNotInstalledError\u001b[0m                  Traceback (most recent call last)",
      "\u001b[1;32m/home/mh19137/seaco_malaysia/smartwatch_feasibility.ipynb Cell 6\u001b[0m line \u001b[0;36m7\n\u001b[1;32m      <a href='vscode-notebook-cell://wsl%2Bubuntu/home/mh19137/seaco_malaysia/smartwatch_feasibility.ipynb#X12sdnNjb2RlLXJlbW90ZQ%3D%3D?line=3'>4</a>\u001b[0m model \u001b[39m=\u001b[39m Lmer(\u001b[39m'\u001b[39m\u001b[39mentry ~ day + (1|p_id)\u001b[39m\u001b[39m'\u001b[39m, data\u001b[39m=\u001b[39mmodel_df, family\u001b[39m=\u001b[39m\u001b[39m'\u001b[39m\u001b[39mbinomial\u001b[39m\u001b[39m'\u001b[39m)\n\u001b[1;32m      <a href='vscode-notebook-cell://wsl%2Bubuntu/home/mh19137/seaco_malaysia/smartwatch_feasibility.ipynb#X12sdnNjb2RlLXJlbW90ZQ%3D%3D?line=5'>6</a>\u001b[0m \u001b[39m# Print the model summary\u001b[39;00m\n\u001b[0;32m----> <a href='vscode-notebook-cell://wsl%2Bubuntu/home/mh19137/seaco_malaysia/smartwatch_feasibility.ipynb#X12sdnNjb2RlLXJlbW90ZQ%3D%3D?line=6'>7</a>\u001b[0m \u001b[39mprint\u001b[39m(model\u001b[39m.\u001b[39;49mfit())\n",
      "File \u001b[0;32m~/anaconda3/envs/malaysia310/lib/python3.10/site-packages/pymer4/models/Lmer.py:432\u001b[0m, in \u001b[0;36mLmer.fit\u001b[0;34m(self, conf_int, n_boot, factors, permute, ordered, verbose, REML, rank, rank_group, rank_exclude_cols, no_warnings, control, old_optimizer, **kwargs)\u001b[0m\n\u001b[1;32m    428\u001b[0m \u001b[39mif\u001b[39;00m verbose:\n\u001b[1;32m    429\u001b[0m     \u001b[39mprint\u001b[39m(\n\u001b[1;32m    430\u001b[0m         \u001b[39mf\u001b[39m\u001b[39m\"\u001b[39m\u001b[39mFitting generalized linear model using glmer (family \u001b[39m\u001b[39m{\u001b[39;00m\u001b[39mself\u001b[39m\u001b[39m.\u001b[39mfamily\u001b[39m}\u001b[39;00m\u001b[39m) with \u001b[39m\u001b[39m{\u001b[39;00mconf_int\u001b[39m}\u001b[39;00m\u001b[39m confidence intervals...\u001b[39m\u001b[39m\\n\u001b[39;00m\u001b[39m\"\u001b[39m\n\u001b[1;32m    431\u001b[0m     )\n\u001b[0;32m--> 432\u001b[0m lmer \u001b[39m=\u001b[39m importr(\u001b[39m\"\u001b[39;49m\u001b[39mlme4\u001b[39;49m\u001b[39m\"\u001b[39;49m)\n\u001b[1;32m    433\u001b[0m \u001b[39mif\u001b[39;00m \u001b[39mself\u001b[39m\u001b[39m.\u001b[39mfamily \u001b[39m==\u001b[39m \u001b[39m\"\u001b[39m\u001b[39minverse_gaussian\u001b[39m\u001b[39m\"\u001b[39m:\n\u001b[1;32m    434\u001b[0m     _fam \u001b[39m=\u001b[39m \u001b[39m\"\u001b[39m\u001b[39minverse.gaussian\u001b[39m\u001b[39m\"\u001b[39m\n",
      "File \u001b[0;32m~/anaconda3/envs/malaysia310/lib/python3.10/site-packages/rpy2/robjects/packages.py:472\u001b[0m, in \u001b[0;36mimportr\u001b[0;34m(name, lib_loc, robject_translations, signature_translation, suppress_messages, on_conflict, symbol_r2python, symbol_resolve, data)\u001b[0m\n\u001b[1;32m    440\u001b[0m \u001b[39m\u001b[39m\u001b[39m\"\"\" Import an R package.\u001b[39;00m\n\u001b[1;32m    441\u001b[0m \n\u001b[1;32m    442\u001b[0m \u001b[39mArguments:\u001b[39;00m\n\u001b[0;32m   (...)\u001b[0m\n\u001b[1;32m    468\u001b[0m \n\u001b[1;32m    469\u001b[0m \u001b[39m\"\"\"\u001b[39;00m\n\u001b[1;32m    471\u001b[0m \u001b[39mif\u001b[39;00m \u001b[39mnot\u001b[39;00m isinstalled(name, lib_loc\u001b[39m=\u001b[39mlib_loc):\n\u001b[0;32m--> 472\u001b[0m     \u001b[39mraise\u001b[39;00m PackageNotInstalledError(\n\u001b[1;32m    473\u001b[0m         \u001b[39m'\u001b[39m\u001b[39mThe R package \u001b[39m\u001b[39m\"\u001b[39m\u001b[39m%s\u001b[39;00m\u001b[39m\"\u001b[39m\u001b[39m is not installed.\u001b[39m\u001b[39m'\u001b[39m \u001b[39m%\u001b[39m name\n\u001b[1;32m    474\u001b[0m     )\n\u001b[1;32m    476\u001b[0m \u001b[39mif\u001b[39;00m suppress_messages:\n\u001b[1;32m    477\u001b[0m     ok \u001b[39m=\u001b[39m quiet_require(name, lib_loc\u001b[39m=\u001b[39mlib_loc)\n",
      "\u001b[0;31mPackageNotInstalledError\u001b[0m: The R package \"lme4\" is not installed."
     ]
    }
   ],
   "source": [
    "from pymer4.models import Lmer\n",
    "\n",
    "# Fit the model\n",
    "model = Lmer('entry ~ day + (1|p_id)', data=model_df, family='binomial')\n",
    "\n",
    "# Print the model summary\n",
    "print(model.fit())"
   ]
  },
  {
   "cell_type": "code",
   "execution_count": 50,
   "metadata": {},
   "outputs": [],
   "source": [
    "%load_ext rpy2.ipython"
   ]
  },
  {
   "cell_type": "code",
   "execution_count": 54,
   "metadata": {},
   "outputs": [
    {
     "name": "stderr",
     "output_type": "stream",
     "text": [
      "* installing *source* package ‘curl’ ...\n",
      "** package ‘curl’ successfully unpacked and MD5 sums checked\n",
      "** using staged installation\n",
      "Package libcurl was not found in the pkg-config search path.\n",
      "Perhaps you should add the directory containing `libcurl.pc'\n",
      "to the PKG_CONFIG_PATH environment variable\n",
      "No package 'libcurl' found\n",
      "Package libcurl was not found in the pkg-config search path.\n",
      "Perhaps you should add the directory containing `libcurl.pc'\n",
      "to the PKG_CONFIG_PATH environment variable\n",
      "No package 'libcurl' found\n",
      "ERROR: configuration failed for package ‘curl’\n",
      "* removing ‘/home/mh19137/R/x86_64-pc-linux-gnu-library/4.1/curl’\n"
     ]
    },
    {
     "name": "stdout",
     "output_type": "stream",
     "text": [
      "Using PKG_CFLAGS=\n",
      "Using PKG_LIBS=-lcurl\n",
      "--------------------------- [ANTICONF] --------------------------------\n",
      "Configuration failed because libcurl was not found. Try installing:\n",
      " * deb: libcurl4-openssl-dev (Debian, Ubuntu, etc)\n",
      " * rpm: libcurl-devel (Fedora, CentOS, RHEL)\n",
      "If libcurl is already installed, check that 'pkg-config' is in your\n",
      "PATH and PKG_CONFIG_PATH contains a libcurl.pc file. If pkg-config\n",
      "is unavailable you can set INCLUDE_DIR and LIB_DIR manually via:\n",
      "R CMD INSTALL --configure-vars='INCLUDE_DIR=... LIB_DIR=...'\n",
      "-------------------------- [ERROR MESSAGE] ---------------------------\n",
      "<stdin>:1:10: fatal error: curl/curl.h: No such file or directory\n",
      "compilation terminated.\n",
      "--------------------------------------------------------------------\n"
     ]
    },
    {
     "name": "stderr",
     "output_type": "stream",
     "text": [
      "* installing *source* package ‘openssl’ ...\n",
      "** package ‘openssl’ successfully unpacked and MD5 sums checked\n",
      "** using staged installation\n",
      "ERROR: configuration failed for package ‘openssl’\n",
      "* removing ‘/home/mh19137/R/x86_64-pc-linux-gnu-library/4.1/openssl’\n",
      "* installing *source* package ‘systemfonts’ ...\n",
      "** package ‘systemfonts’ successfully unpacked and MD5 sums checked\n",
      "** using staged installation\n",
      "Package fontconfig was not found in the pkg-config search path.\n",
      "Perhaps you should add the directory containing `fontconfig.pc'\n",
      "to the PKG_CONFIG_PATH environment variable\n",
      "No package 'fontconfig' found\n",
      "Package freetype2 was not found in the pkg-config search path.\n",
      "Perhaps you should add the directory containing `freetype2.pc'\n",
      "to the PKG_CONFIG_PATH environment variable\n",
      "No package 'freetype2' found\n"
     ]
    },
    {
     "name": "stdout",
     "output_type": "stream",
     "text": [
      "Using PKG_CFLAGS=\n",
      "--------------------------- [ANTICONF] --------------------------------\n",
      "Configuration failed because openssl was not found. Try installing:\n",
      " * deb: libssl-dev (Debian, Ubuntu, etc)\n",
      " * rpm: openssl-devel (Fedora, CentOS, RHEL)\n",
      " * csw: libssl_dev (Solaris)\n",
      " * brew: openssl (Mac OSX)\n",
      "If openssl is already installed, check that 'pkg-config' is in your\n",
      "PATH and PKG_CONFIG_PATH contains a openssl.pc file. If pkg-config\n",
      "is unavailable you can set INCLUDE_DIR and LIB_DIR manually via:\n",
      "R CMD INSTALL --configure-vars='INCLUDE_DIR=... LIB_DIR=...'\n",
      "-------------------------- [ERROR MESSAGE] ---------------------------\n",
      "tools/version.c:1:10: fatal error: openssl/opensslv.h: No such file or directory\n",
      "    1 | #include <openssl/opensslv.h>\n",
      "      |          ^~~~~~~~~~~~~~~~~~~~\n",
      "compilation terminated.\n",
      "--------------------------------------------------------------------\n",
      "Using PKG_CFLAGS=\n",
      "Using PKG_LIBS=-lfontconfig -lfreetype\n",
      "--------------------------- [ANTICONF] --------------------------------\n",
      "Configuration failed to find the fontconfig freetype2 library. Try installing:\n",
      " * deb: libfontconfig1-dev (Debian, Ubuntu, etc)\n",
      " * rpm: fontconfig-devel (Fedora, EPEL)\n",
      " * csw: fontconfig_dev (Solaris)\n",
      " * brew: freetype (OSX)\n",
      "If fontconfig freetype2 is already installed, check that 'pkg-config' is in your\n",
      "PATH and PKG_CONFIG_PATH contains a fontconfig freetype2.pc file. If pkg-config\n",
      "is unavailable you can set INCLUDE_DIR and LIB_DIR manually via:\n",
      "R CMD INSTALL --configure-vars='INCLUDE_DIR=... LIB_DIR=...'\n",
      "-------------------------- [ERROR MESSAGE] ---------------------------\n",
      "<stdin>:1:10: fatal error: fontconfig/fontconfig.h: No such file or directory\n",
      "compilation terminated.\n",
      "--------------------------------------------------------------------\n"
     ]
    },
    {
     "name": "stderr",
     "output_type": "stream",
     "text": [
      "ERROR: configuration failed for package ‘systemfonts’\n",
      "* removing ‘/home/mh19137/R/x86_64-pc-linux-gnu-library/4.1/systemfonts’\n",
      "* installing *source* package ‘xml2’ ...\n",
      "** package ‘xml2’ successfully unpacked and MD5 sums checked\n",
      "** using staged installation\n"
     ]
    },
    {
     "name": "stdout",
     "output_type": "stream",
     "text": [
      "Found pkg-config cflags and libs!\n",
      "Using PKG_CFLAGS=-I/home/mh19137/anaconda3/envs/malaysia310/include/libxml2 -I/home/mh19137/anaconda3/envs/malaysia310/include\n",
      "Using PKG_LIBS=-L/home/mh19137/anaconda3/envs/malaysia310/lib -lxml2 -L/home/mh19137/anaconda3/envs/malaysia310/lib -lz -L/home/mh19137/anaconda3/envs/malaysia310/lib -llzma -L/home/mh19137/anaconda3/envs/malaysia310/lib -L/home/mh19137/anaconda3/envs/malaysia310/lib -licui18n -licuuc -licudata -lm -ldl\n",
      "g++ -std=gnu++14 -I\"/usr/share/R/include\" -DNDEBUG -I../inst/include -I/home/mh19137/anaconda3/envs/malaysia310/include/libxml2 -I/home/mh19137/anaconda3/envs/malaysia310/include -DUCHAR_TYPE=wchar_t -DU_SHOW_CPLUSPLUS_API=0    -fvisibility=hidden -fpic  -g -O2 -ffile-prefix-map=/build/r-base-4A2Reg/r-base-4.1.2=. -fstack-protector-strong -Wformat -Werror=format-security -Wdate-time -D_FORTIFY_SOURCE=2 -g  -c connection.cpp -o connection.o\n"
     ]
    },
    {
     "name": "stderr",
     "output_type": "stream",
     "text": [
      "** libs\n"
     ]
    },
    {
     "name": "stdout",
     "output_type": "stream",
     "text": [
      "gcc -I\"/usr/share/R/include\" -DNDEBUG -I../inst/include -I/home/mh19137/anaconda3/envs/malaysia310/include/libxml2 -I/home/mh19137/anaconda3/envs/malaysia310/include -DUCHAR_TYPE=wchar_t -DU_SHOW_CPLUSPLUS_API=0     -fpic  -g -O2 -ffile-prefix-map=/build/r-base-4A2Reg/r-base-4.1.2=. -fstack-protector-strong -Wformat -Werror=format-security -Wdate-time -D_FORTIFY_SOURCE=2 -g  -c init.c -o init.o\n",
      "g++ -std=gnu++14 -I\"/usr/share/R/include\" -DNDEBUG -I../inst/include -I/home/mh19137/anaconda3/envs/malaysia310/include/libxml2 -I/home/mh19137/anaconda3/envs/malaysia310/include -DUCHAR_TYPE=wchar_t -DU_SHOW_CPLUSPLUS_API=0    -fvisibility=hidden -fpic  -g -O2 -ffile-prefix-map=/build/r-base-4A2Reg/r-base-4.1.2=. -fstack-protector-strong -Wformat -Werror=format-security -Wdate-time -D_FORTIFY_SOURCE=2 -g  -c xml2_doc.cpp -o xml2_doc.o\n",
      "g++ -std=gnu++14 -I\"/usr/share/R/include\" -DNDEBUG -I../inst/include -I/home/mh19137/anaconda3/envs/malaysia310/include/libxml2 -I/home/mh19137/anaconda3/envs/malaysia310/include -DUCHAR_TYPE=wchar_t -DU_SHOW_CPLUSPLUS_API=0    -fvisibility=hidden -fpic  -g -O2 -ffile-prefix-map=/build/r-base-4A2Reg/r-base-4.1.2=. -fstack-protector-strong -Wformat -Werror=format-security -Wdate-time -D_FORTIFY_SOURCE=2 -g  -c xml2_init.cpp -o xml2_init.o\n",
      "g++ -std=gnu++14 -I\"/usr/share/R/include\" -DNDEBUG -I../inst/include -I/home/mh19137/anaconda3/envs/malaysia310/include/libxml2 -I/home/mh19137/anaconda3/envs/malaysia310/include -DUCHAR_TYPE=wchar_t -DU_SHOW_CPLUSPLUS_API=0    -fvisibility=hidden -fpic  -g -O2 -ffile-prefix-map=/build/r-base-4A2Reg/r-base-4.1.2=. -fstack-protector-strong -Wformat -Werror=format-security -Wdate-time -D_FORTIFY_SOURCE=2 -g  -c xml2_namespace.cpp -o xml2_namespace.o\n",
      "g++ -std=gnu++14 -I\"/usr/share/R/include\" -DNDEBUG -I../inst/include -I/home/mh19137/anaconda3/envs/malaysia310/include/libxml2 -I/home/mh19137/anaconda3/envs/malaysia310/include -DUCHAR_TYPE=wchar_t -DU_SHOW_CPLUSPLUS_API=0    -fvisibility=hidden -fpic  -g -O2 -ffile-prefix-map=/build/r-base-4A2Reg/r-base-4.1.2=. -fstack-protector-strong -Wformat -Werror=format-security -Wdate-time -D_FORTIFY_SOURCE=2 -g  -c xml2_node.cpp -o xml2_node.o\n",
      "g++ -std=gnu++14 -I\"/usr/share/R/include\" -DNDEBUG -I../inst/include -I/home/mh19137/anaconda3/envs/malaysia310/include/libxml2 -I/home/mh19137/anaconda3/envs/malaysia310/include -DUCHAR_TYPE=wchar_t -DU_SHOW_CPLUSPLUS_API=0    -fvisibility=hidden -fpic  -g -O2 -ffile-prefix-map=/build/r-base-4A2Reg/r-base-4.1.2=. -fstack-protector-strong -Wformat -Werror=format-security -Wdate-time -D_FORTIFY_SOURCE=2 -g  -c xml2_output.cpp -o xml2_output.o\n",
      "g++ -std=gnu++14 -I\"/usr/share/R/include\" -DNDEBUG -I../inst/include -I/home/mh19137/anaconda3/envs/malaysia310/include/libxml2 -I/home/mh19137/anaconda3/envs/malaysia310/include -DUCHAR_TYPE=wchar_t -DU_SHOW_CPLUSPLUS_API=0    -fvisibility=hidden -fpic  -g -O2 -ffile-prefix-map=/build/r-base-4A2Reg/r-base-4.1.2=. -fstack-protector-strong -Wformat -Werror=format-security -Wdate-time -D_FORTIFY_SOURCE=2 -g  -c xml2_schema.cpp -o xml2_schema.o\n",
      "g++ -std=gnu++14 -I\"/usr/share/R/include\" -DNDEBUG -I../inst/include -I/home/mh19137/anaconda3/envs/malaysia310/include/libxml2 -I/home/mh19137/anaconda3/envs/malaysia310/include -DUCHAR_TYPE=wchar_t -DU_SHOW_CPLUSPLUS_API=0    -fvisibility=hidden -fpic  -g -O2 -ffile-prefix-map=/build/r-base-4A2Reg/r-base-4.1.2=. -fstack-protector-strong -Wformat -Werror=format-security -Wdate-time -D_FORTIFY_SOURCE=2 -g  -c xml2_url.cpp -o xml2_url.o\n",
      "g++ -std=gnu++14 -I\"/usr/share/R/include\" -DNDEBUG -I../inst/include -I/home/mh19137/anaconda3/envs/malaysia310/include/libxml2 -I/home/mh19137/anaconda3/envs/malaysia310/include -DUCHAR_TYPE=wchar_t -DU_SHOW_CPLUSPLUS_API=0    -fvisibility=hidden -fpic  -g -O2 -ffile-prefix-map=/build/r-base-4A2Reg/r-base-4.1.2=. -fstack-protector-strong -Wformat -Werror=format-security -Wdate-time -D_FORTIFY_SOURCE=2 -g  -c xml2_xpath.cpp -o xml2_xpath.o\n",
      "g++ -std=gnu++14 -shared -L/usr/lib/R/lib -Wl,-Bsymbolic-functions -flto=auto -ffat-lto-objects -flto=auto -Wl,-z,relro -o xml2.so connection.o init.o xml2_doc.o xml2_init.o xml2_namespace.o xml2_node.o xml2_output.o xml2_schema.o xml2_url.o xml2_xpath.o -L/home/mh19137/anaconda3/envs/malaysia310/lib -lxml2 -L/home/mh19137/anaconda3/envs/malaysia310/lib -lz -L/home/mh19137/anaconda3/envs/malaysia310/lib -llzma -L/home/mh19137/anaconda3/envs/malaysia310/lib -L/home/mh19137/anaconda3/envs/malaysia310/lib -licui18n -licuuc -licudata -lm -ldl -L/usr/lib/R/lib -lR\n"
     ]
    },
    {
     "name": "stderr",
     "output_type": "stream",
     "text": [
      "installing to /home/mh19137/R/x86_64-pc-linux-gnu-library/4.1/00LOCK-xml2/00new/xml2/libs\n",
      "** R\n",
      "** inst\n",
      "** byte-compile and prepare package for lazy loading\n",
      "** help\n",
      "Warning: program compiled against libxml 211 using older 209\n",
      "*** installing help indices\n",
      "** building package indices\n",
      "** installing vignettes\n",
      "** testing if installed package can be loaded from temporary location\n"
     ]
    },
    {
     "name": "stdout",
     "output_type": "stream",
     "text": [
      "Warning: program compiled against libxml 211 using older 209\n",
      "Warning: program compiled against libxml 211 using older 209\n"
     ]
    },
    {
     "name": "stderr",
     "output_type": "stream",
     "text": [
      "** checking absolute paths in shared objects and dynamic libraries\n",
      "** testing if installed package can be loaded from final location\n",
      "** testing if installed package keeps a record of temporary installation path\n",
      "* DONE (xml2)\n",
      "ERROR: dependency ‘openssl’ is not available for package ‘ids’\n",
      "* removing ‘/home/mh19137/R/x86_64-pc-linux-gnu-library/4.1/ids’\n",
      "ERROR: dependency ‘systemfonts’ is not available for package ‘textshaping’\n",
      "* removing ‘/home/mh19137/R/x86_64-pc-linux-gnu-library/4.1/textshaping’\n",
      "ERROR: dependencies ‘curl’, ‘openssl’ are not available for package ‘httr’\n",
      "* removing ‘/home/mh19137/R/x86_64-pc-linux-gnu-library/4.1/httr’\n",
      "ERROR: dependencies ‘httr’, ‘openssl’ are not available for package ‘gargle’\n",
      "* removing ‘/home/mh19137/R/x86_64-pc-linux-gnu-library/4.1/gargle’\n",
      "ERROR: dependencies ‘systemfonts’, ‘textshaping’ are not available for package ‘ragg’\n",
      "* removing ‘/home/mh19137/R/x86_64-pc-linux-gnu-library/4.1/ragg’\n",
      "ERROR: dependency ‘httr’ is not available for package ‘rvest’\n",
      "* removing ‘/home/mh19137/R/x86_64-pc-linux-gnu-library/4.1/rvest’\n",
      "ERROR: dependencies ‘gargle’, ‘httr’ are not available for package ‘googledrive’\n",
      "* removing ‘/home/mh19137/R/x86_64-pc-linux-gnu-library/4.1/googledrive’\n",
      "ERROR: dependencies ‘curl’, ‘gargle’, ‘googledrive’, ‘httr’, ‘ids’ are not available for package ‘googlesheets4’\n",
      "* removing ‘/home/mh19137/R/x86_64-pc-linux-gnu-library/4.1/googlesheets4’\n"
     ]
    },
    {
     "name": "stdout",
     "output_type": "stream",
     "text": [
      "Installing package into ‘/usr/local/lib/R/site-library’\n",
      "(as ‘lib’ is unspecified)\n",
      "Warning in install.packages(\"tidyverse\") :\n",
      "  'lib = \"/usr/local/lib/R/site-library\"' is not writable\n",
      "also installing the dependencies ‘gargle’, ‘curl’, ‘ids’, ‘openssl’, ‘systemfonts’, ‘textshaping’, ‘googledrive’, ‘googlesheets4’, ‘httr’, ‘ragg’, ‘rvest’, ‘xml2’\n",
      "\n",
      "trying URL 'https://cloud.r-project.org/src/contrib/gargle_1.5.2.tar.gz'\n",
      "Content type 'application/x-gzip' length 627560 bytes (612 KB)\n",
      "==================================================\n",
      "downloaded 612 KB\n",
      "\n",
      "trying URL 'https://cloud.r-project.org/src/contrib/curl_5.1.0.tar.gz'\n",
      "Content type 'application/x-gzip' length 714157 bytes (697 KB)\n",
      "==================================================\n",
      "downloaded 697 KB\n",
      "\n",
      "trying URL 'https://cloud.r-project.org/src/contrib/ids_1.0.1.tar.gz'\n",
      "Content type 'application/x-gzip' length 91213 bytes (89 KB)\n",
      "==================================================\n",
      "downloaded 89 KB\n",
      "\n",
      "trying URL 'https://cloud.r-project.org/src/contrib/openssl_2.1.1.tar.gz'\n",
      "Content type 'application/x-gzip' length 1206233 bytes (1.2 MB)\n",
      "==================================================\n",
      "downloaded 1.2 MB\n",
      "\n",
      "trying URL 'https://cloud.r-project.org/src/contrib/systemfonts_1.0.5.tar.gz'\n",
      "Content type 'application/x-gzip' length 80638 bytes (78 KB)\n",
      "==================================================\n",
      "downloaded 78 KB\n",
      "\n",
      "trying URL 'https://cloud.r-project.org/src/contrib/textshaping_0.3.7.tar.gz'\n",
      "Content type 'application/x-gzip' length 35100 bytes (34 KB)\n",
      "==================================================\n",
      "downloaded 34 KB\n",
      "\n",
      "trying URL 'https://cloud.r-project.org/src/contrib/googledrive_2.1.1.tar.gz'\n",
      "Content type 'application/x-gzip' length 1609266 bytes (1.5 MB)\n",
      "==================================================\n",
      "downloaded 1.5 MB\n",
      "\n",
      "trying URL 'https://cloud.r-project.org/src/contrib/googlesheets4_1.1.1.tar.gz'\n",
      "Content type 'application/x-gzip' length 232584 bytes (227 KB)\n",
      "==================================================\n",
      "downloaded 227 KB\n",
      "\n",
      "trying URL 'https://cloud.r-project.org/src/contrib/httr_1.4.7.tar.gz'\n",
      "Content type 'application/x-gzip' length 118500 bytes (115 KB)\n",
      "==================================================\n",
      "downloaded 115 KB\n",
      "\n",
      "trying URL 'https://cloud.r-project.org/src/contrib/ragg_1.2.6.tar.gz'\n",
      "Content type 'application/x-gzip' length 425391 bytes (415 KB)\n",
      "==================================================\n",
      "downloaded 415 KB\n",
      "\n",
      "trying URL 'https://cloud.r-project.org/src/contrib/rvest_1.0.3.tar.gz'\n",
      "Content type 'application/x-gzip' length 94659 bytes (92 KB)\n",
      "==================================================\n",
      "downloaded 92 KB\n",
      "\n",
      "trying URL 'https://cloud.r-project.org/src/contrib/xml2_1.3.5.tar.gz'\n",
      "Content type 'application/x-gzip' length 272664 bytes (266 KB)\n",
      "==================================================\n",
      "downloaded 266 KB\n",
      "\n",
      "trying URL 'https://cloud.r-project.org/src/contrib/tidyverse_2.0.0.tar.gz'\n",
      "Content type 'application/x-gzip' length 704618 bytes (688 KB)\n",
      "==================================================\n",
      "downloaded 688 KB\n",
      "\n",
      "\n",
      "The downloaded source packages are in\n",
      "\t‘/tmp/RtmpIykkuf/downloaded_packages’\n",
      "Error in library(tidyverse) : there is no package called ‘tidyverse’\n",
      "In addition: There were 12 warnings (use warnings() to see them)\n",
      "Error in library(tidyverse) : there is no package called ‘tidyverse’\n"
     ]
    },
    {
     "name": "stderr",
     "output_type": "stream",
     "text": [
      "ERROR: dependencies ‘googledrive’, ‘googlesheets4’, ‘httr’, ‘ragg’, ‘rvest’ are not available for package ‘tidyverse’\n",
      "* removing ‘/home/mh19137/R/x86_64-pc-linux-gnu-library/4.1/tidyverse’\n"
     ]
    },
    {
     "ename": "RInterpreterError",
     "evalue": "Failed to parse and evaluate line '\\ninstall.packages(\"tidyverse\")\\nlibrary(tidyverse)\\n'.\nR error message: 'Error in library(tidyverse) : there is no package called ‘tidyverse’'\nR stdout:\nInstalling package into ‘/usr/local/lib/R/site-library’\n(as ‘lib’ is unspecified)\nWarning in install.packages(\"tidyverse\") :\n  'lib = \"/usr/local/lib/R/site-library\"' is not writable\nalso installing the dependencies ‘gargle’, ‘curl’, ‘ids’, ‘openssl’, ‘systemfonts’, ‘textshaping’, ‘googledrive’, ‘googlesheets4’, ‘httr’, ‘ragg’, ‘rvest’, ‘xml2’\n\ntrying URL 'https://cloud.r-project.org/src/contrib/gargle_1.5.2.tar.gz'\nContent type 'application/x-gzip' length 627560 bytes (612 KB)\n==================================================\ndownloaded 612 KB\n\ntrying URL 'https://cloud.r-project.org/src/contrib/curl_5.1.0.tar.gz'\nContent type 'application/x-gzip' length 714157 bytes (697 KB)\n==================================================\ndownloaded 697 KB\n\ntrying URL 'https://cloud.r-project.org/src/contrib/ids_1.0.1.tar.gz'\nContent type 'application/x-gzip' length 91213 bytes (89 KB)\n==================================================\ndownloaded 89 KB\n\ntrying URL 'https://cloud.r-project.org/src/contrib/openssl_2.1.1.tar.gz'\nContent type 'application/x-gzip' length 1206233 bytes (1.2 MB)\n==================================================\ndownloaded 1.2 MB\n\ntrying URL 'https://cloud.r-project.org/src/contrib/systemfonts_1.0.5.tar.gz'\nContent type 'application/x-gzip' length 80638 bytes (78 KB)\n==================================================\ndownloaded 78 KB\n\ntrying URL 'https://cloud.r-project.org/src/contrib/textshaping_0.3.7.tar.gz'\nContent type 'application/x-gzip' length 35100 bytes (34 KB)\n==================================================\ndownloaded 34 KB\n\ntrying URL 'https://cloud.r-project.org/src/contrib/googledrive_2.1.1.tar.gz'\nContent type 'application/x-gzip' length 1609266 bytes (1.5 MB)\n==================================================\ndownloaded 1.5 MB\n\ntrying URL 'https://cloud.r-project.org/src/contrib/googlesheets4_1.1.1.tar.gz'\nContent type 'application/x-gzip' length 232584 bytes (227 KB)\n==================================================\ndownloaded 227 KB\n\ntrying URL 'https://cloud.r-project.org/src/contrib/httr_1.4.7.tar.gz'\nContent type 'application/x-gzip' length 118500 bytes (115 KB)\n==================================================\ndownloaded 115 KB\n\ntrying URL 'https://cloud.r-project.org/src/contrib/ragg_1.2.6.tar.gz'\nContent type 'application/x-gzip' length 425391 bytes (415 KB)\n==================================================\ndownloaded 415 KB\n\ntrying URL 'https://cloud.r-project.org/src/contrib/rvest_1.0.3.tar.gz'\nContent type 'application/x-gzip' length 94659 bytes (92 KB)\n==================================================\ndownloaded 92 KB\n\ntrying URL 'https://cloud.r-project.org/src/contrib/xml2_1.3.5.tar.gz'\nContent type 'application/x-gzip' length 272664 bytes (266 KB)\n==================================================\ndownloaded 266 KB\n\ntrying URL 'https://cloud.r-project.org/src/contrib/tidyverse_2.0.0.tar.gz'\nContent type 'application/x-gzip' length 704618 bytes (688 KB)\n==================================================\ndownloaded 688 KB\n\n\nThe downloaded source packages are in\n\t‘/tmp/RtmpIykkuf/downloaded_packages’\nError in library(tidyverse) : there is no package called ‘tidyverse’\nIn addition: There were 12 warnings (use warnings() to see them)",
     "output_type": "error",
     "traceback": [
      "\u001b[0;31m---------------------------------------------------------------------------\u001b[0m",
      "\u001b[0;31mRRuntimeError\u001b[0m                             Traceback (most recent call last)",
      "File \u001b[0;32m~/anaconda3/envs/malaysia310/lib/python3.10/site-packages/rpy2/ipython/rmagic.py:401\u001b[0m, in \u001b[0;36mRMagics.eval\u001b[0;34m(self, code)\u001b[0m\n\u001b[1;32m    400\u001b[0m     r_expr \u001b[39m=\u001b[39m ri\u001b[39m.\u001b[39mparse(code)\n\u001b[0;32m--> 401\u001b[0m     value, visible \u001b[39m=\u001b[39m ri\u001b[39m.\u001b[39;49mevalr_expr_with_visible(\n\u001b[1;32m    402\u001b[0m         r_expr\n\u001b[1;32m    403\u001b[0m     )\n\u001b[1;32m    404\u001b[0m \u001b[39mexcept\u001b[39;00m (ri\u001b[39m.\u001b[39membedded\u001b[39m.\u001b[39mRRuntimeError, \u001b[39mValueError\u001b[39;00m) \u001b[39mas\u001b[39;00m exception:\n\u001b[1;32m    405\u001b[0m     \u001b[39m# Otherwise next return seems to have copy of error.\u001b[39;00m\n",
      "File \u001b[0;32m~/anaconda3/envs/malaysia310/lib/python3.10/site-packages/rpy2/rinterface.py:196\u001b[0m, in \u001b[0;36mevalr_expr_with_visible\u001b[0;34m(expr, envir)\u001b[0m\n\u001b[1;32m    195\u001b[0m \u001b[39mif\u001b[39;00m error_occured[\u001b[39m0\u001b[39m]:\n\u001b[0;32m--> 196\u001b[0m     \u001b[39mraise\u001b[39;00m embedded\u001b[39m.\u001b[39mRRuntimeError(_rinterface\u001b[39m.\u001b[39m_geterrmessage())\n\u001b[1;32m    197\u001b[0m res \u001b[39m=\u001b[39m conversion\u001b[39m.\u001b[39m_cdata_to_rinterface(r_res)\n",
      "\u001b[0;31mRRuntimeError\u001b[0m: Error in library(tidyverse) : there is no package called ‘tidyverse’\n",
      "\nDuring handling of the above exception, another exception occurred:\n",
      "\u001b[0;31mRInterpreterError\u001b[0m                         Traceback (most recent call last)",
      "\u001b[1;32m/home/mh19137/seaco_malaysia/smartwatch_feasibility.ipynb Cell 8\u001b[0m line \u001b[0;36m1\n\u001b[0;32m----> <a href='vscode-notebook-cell://wsl%2Bubuntu/home/mh19137/seaco_malaysia/smartwatch_feasibility.ipynb#X15sdnNjb2RlLXJlbW90ZQ%3D%3D?line=0'>1</a>\u001b[0m get_ipython()\u001b[39m.\u001b[39;49mrun_cell_magic(\u001b[39m'\u001b[39;49m\u001b[39mR\u001b[39;49m\u001b[39m'\u001b[39;49m, \u001b[39m'\u001b[39;49m\u001b[39m-w 5 -h 5 --units in -r 200\u001b[39;49m\u001b[39m'\u001b[39;49m, \u001b[39m'\u001b[39;49m\u001b[39m\\n\u001b[39;49;00m\u001b[39minstall.packages(\u001b[39;49m\u001b[39m\"\u001b[39;49m\u001b[39mtidyverse\u001b[39;49m\u001b[39m\"\u001b[39;49m\u001b[39m)\u001b[39;49m\u001b[39m\\n\u001b[39;49;00m\u001b[39mlibrary(tidyverse)\u001b[39;49m\u001b[39m\\n\u001b[39;49;00m\u001b[39m'\u001b[39;49m)\n",
      "File \u001b[0;32m~/anaconda3/envs/malaysia310/lib/python3.10/site-packages/IPython/core/interactiveshell.py:2478\u001b[0m, in \u001b[0;36mInteractiveShell.run_cell_magic\u001b[0;34m(self, magic_name, line, cell)\u001b[0m\n\u001b[1;32m   2476\u001b[0m \u001b[39mwith\u001b[39;00m \u001b[39mself\u001b[39m\u001b[39m.\u001b[39mbuiltin_trap:\n\u001b[1;32m   2477\u001b[0m     args \u001b[39m=\u001b[39m (magic_arg_s, cell)\n\u001b[0;32m-> 2478\u001b[0m     result \u001b[39m=\u001b[39m fn(\u001b[39m*\u001b[39;49margs, \u001b[39m*\u001b[39;49m\u001b[39m*\u001b[39;49mkwargs)\n\u001b[1;32m   2480\u001b[0m \u001b[39m# The code below prevents the output from being displayed\u001b[39;00m\n\u001b[1;32m   2481\u001b[0m \u001b[39m# when using magics with decodator @output_can_be_silenced\u001b[39;00m\n\u001b[1;32m   2482\u001b[0m \u001b[39m# when the last Python token in the expression is a ';'.\u001b[39;00m\n\u001b[1;32m   2483\u001b[0m \u001b[39mif\u001b[39;00m \u001b[39mgetattr\u001b[39m(fn, magic\u001b[39m.\u001b[39mMAGIC_OUTPUT_CAN_BE_SILENCED, \u001b[39mFalse\u001b[39;00m):\n",
      "File \u001b[0;32m~/anaconda3/envs/malaysia310/lib/python3.10/site-packages/rpy2/ipython/rmagic.py:978\u001b[0m, in \u001b[0;36mRMagics.R\u001b[0;34m(self, line, cell, local_ns)\u001b[0m\n\u001b[1;32m    976\u001b[0m     \u001b[39mif\u001b[39;00m \u001b[39mnot\u001b[39;00m e\u001b[39m.\u001b[39mstdout\u001b[39m.\u001b[39mendswith(e\u001b[39m.\u001b[39merr):\n\u001b[1;32m    977\u001b[0m         \u001b[39mprint\u001b[39m(e\u001b[39m.\u001b[39merr)\n\u001b[0;32m--> 978\u001b[0m     \u001b[39mraise\u001b[39;00m e\n\u001b[1;32m    979\u001b[0m \u001b[39mfinally\u001b[39;00m:\n\u001b[1;32m    980\u001b[0m     \u001b[39mif\u001b[39;00m \u001b[39mself\u001b[39m\u001b[39m.\u001b[39mdevice \u001b[39min\u001b[39;00m DEVICES_STATIC:\n",
      "File \u001b[0;32m~/anaconda3/envs/malaysia310/lib/python3.10/site-packages/rpy2/ipython/rmagic.py:943\u001b[0m, in \u001b[0;36mRMagics.R\u001b[0;34m(self, line, cell, local_ns)\u001b[0m\n\u001b[1;32m    941\u001b[0m         return_output \u001b[39m=\u001b[39m \u001b[39mFalse\u001b[39;00m\n\u001b[1;32m    942\u001b[0m \u001b[39melse\u001b[39;00m:\n\u001b[0;32m--> 943\u001b[0m     text_result, result, visible \u001b[39m=\u001b[39m \u001b[39mself\u001b[39;49m\u001b[39m.\u001b[39;49meval(code)\n\u001b[1;32m    944\u001b[0m     text_output \u001b[39m+\u001b[39m\u001b[39m=\u001b[39m text_result\n\u001b[1;32m    945\u001b[0m     \u001b[39mif\u001b[39;00m visible:\n",
      "File \u001b[0;32m~/anaconda3/envs/malaysia310/lib/python3.10/site-packages/rpy2/ipython/rmagic.py:407\u001b[0m, in \u001b[0;36mRMagics.eval\u001b[0;34m(self, code)\u001b[0m\n\u001b[1;32m    404\u001b[0m \u001b[39mexcept\u001b[39;00m (ri\u001b[39m.\u001b[39membedded\u001b[39m.\u001b[39mRRuntimeError, \u001b[39mValueError\u001b[39;00m) \u001b[39mas\u001b[39;00m exception:\n\u001b[1;32m    405\u001b[0m     \u001b[39m# Otherwise next return seems to have copy of error.\u001b[39;00m\n\u001b[1;32m    406\u001b[0m     warning_or_other_msg \u001b[39m=\u001b[39m \u001b[39mself\u001b[39m\u001b[39m.\u001b[39mflush()\n\u001b[0;32m--> 407\u001b[0m     \u001b[39mraise\u001b[39;00m RInterpreterError(code, \u001b[39mstr\u001b[39m(exception),\n\u001b[1;32m    408\u001b[0m                             warning_or_other_msg)\n\u001b[1;32m    409\u001b[0m \u001b[39mfinally\u001b[39;00m:\n\u001b[1;32m    410\u001b[0m     ro\u001b[39m.\u001b[39m_print_deferred_warnings()\n",
      "\u001b[0;31mRInterpreterError\u001b[0m: Failed to parse and evaluate line '\\ninstall.packages(\"tidyverse\")\\nlibrary(tidyverse)\\n'.\nR error message: 'Error in library(tidyverse) : there is no package called ‘tidyverse’'\nR stdout:\nInstalling package into ‘/usr/local/lib/R/site-library’\n(as ‘lib’ is unspecified)\nWarning in install.packages(\"tidyverse\") :\n  'lib = \"/usr/local/lib/R/site-library\"' is not writable\nalso installing the dependencies ‘gargle’, ‘curl’, ‘ids’, ‘openssl’, ‘systemfonts’, ‘textshaping’, ‘googledrive’, ‘googlesheets4’, ‘httr’, ‘ragg’, ‘rvest’, ‘xml2’\n\ntrying URL 'https://cloud.r-project.org/src/contrib/gargle_1.5.2.tar.gz'\nContent type 'application/x-gzip' length 627560 bytes (612 KB)\n==================================================\ndownloaded 612 KB\n\ntrying URL 'https://cloud.r-project.org/src/contrib/curl_5.1.0.tar.gz'\nContent type 'application/x-gzip' length 714157 bytes (697 KB)\n==================================================\ndownloaded 697 KB\n\ntrying URL 'https://cloud.r-project.org/src/contrib/ids_1.0.1.tar.gz'\nContent type 'application/x-gzip' length 91213 bytes (89 KB)\n==================================================\ndownloaded 89 KB\n\ntrying URL 'https://cloud.r-project.org/src/contrib/openssl_2.1.1.tar.gz'\nContent type 'application/x-gzip' length 1206233 bytes (1.2 MB)\n==================================================\ndownloaded 1.2 MB\n\ntrying URL 'https://cloud.r-project.org/src/contrib/systemfonts_1.0.5.tar.gz'\nContent type 'application/x-gzip' length 80638 bytes (78 KB)\n==================================================\ndownloaded 78 KB\n\ntrying URL 'https://cloud.r-project.org/src/contrib/textshaping_0.3.7.tar.gz'\nContent type 'application/x-gzip' length 35100 bytes (34 KB)\n==================================================\ndownloaded 34 KB\n\ntrying URL 'https://cloud.r-project.org/src/contrib/googledrive_2.1.1.tar.gz'\nContent type 'application/x-gzip' length 1609266 bytes (1.5 MB)\n==================================================\ndownloaded 1.5 MB\n\ntrying URL 'https://cloud.r-project.org/src/contrib/googlesheets4_1.1.1.tar.gz'\nContent type 'application/x-gzip' length 232584 bytes (227 KB)\n==================================================\ndownloaded 227 KB\n\ntrying URL 'https://cloud.r-project.org/src/contrib/httr_1.4.7.tar.gz'\nContent type 'application/x-gzip' length 118500 bytes (115 KB)\n==================================================\ndownloaded 115 KB\n\ntrying URL 'https://cloud.r-project.org/src/contrib/ragg_1.2.6.tar.gz'\nContent type 'application/x-gzip' length 425391 bytes (415 KB)\n==================================================\ndownloaded 415 KB\n\ntrying URL 'https://cloud.r-project.org/src/contrib/rvest_1.0.3.tar.gz'\nContent type 'application/x-gzip' length 94659 bytes (92 KB)\n==================================================\ndownloaded 92 KB\n\ntrying URL 'https://cloud.r-project.org/src/contrib/xml2_1.3.5.tar.gz'\nContent type 'application/x-gzip' length 272664 bytes (266 KB)\n==================================================\ndownloaded 266 KB\n\ntrying URL 'https://cloud.r-project.org/src/contrib/tidyverse_2.0.0.tar.gz'\nContent type 'application/x-gzip' length 704618 bytes (688 KB)\n==================================================\ndownloaded 688 KB\n\n\nThe downloaded source packages are in\n\t‘/tmp/RtmpIykkuf/downloaded_packages’\nError in library(tidyverse) : there is no package called ‘tidyverse’\nIn addition: There were 12 warnings (use warnings() to see them)"
     ]
    }
   ],
   "source": [
    "%%R -w 5 -h 5 --units in -r 200\n",
    "\n",
    "install.packages(\"tidyverse\")\n",
    "library(tidyverse)"
   ]
  },
  {
   "cell_type": "code",
   "execution_count": 44,
   "metadata": {},
   "outputs": [
    {
     "name": "stderr",
     "output_type": "stream",
     "text": [
      "Only 83 samples in chain.\n"
     ]
    },
    {
     "name": "stderr",
     "output_type": "stream",
     "text": [
      "Auto-assigning NUTS sampler...\n",
      "Initializing NUTS using jitter+adapt_diag...\n"
     ]
    },
    {
     "ename": "IndexError",
     "evalue": "index 16231 is out of bounds for axis 0 with size 83\nApply node that caused the error: AdvancedSubtensor1(p_id, [16231 162 ... 055 39055])\nToposort index: 8\nInputs types: [TensorType(float64, shape=(83,)), TensorType(uint16, shape=(7722,))]\nInputs shapes: [(83,), (7722,)]\nInputs strides: [(8,), (2,)]\nInputs values: ['not shown', 'not shown']\nOutputs clients: [[Composite{...}(ExpandDims{axis=0}.0, [1. 1. 1. ... 6. 6. 6.], ExpandDims{axis=0}.0, AdvancedSubtensor1.0, [0. 0. 0. ... 1. 0. 0.], [  0.   0. ... 0.   0.], [-inf -inf ... -inf -inf], [1. 1. 1. ... 0. 1. 1.])]]\n\nBacktrace when the node is created (use PyTensor flag traceback__limit=N to make it longer):\n  File \"/home/mh19137/anaconda3/envs/malaysia310/lib/python3.10/site-packages/ipykernel/zmqshell.py\", line 546, in run_cell\n    return super().run_cell(*args, **kwargs)\n  File \"/home/mh19137/anaconda3/envs/malaysia310/lib/python3.10/site-packages/IPython/core/interactiveshell.py\", line 3009, in run_cell\n    result = self._run_cell(\n  File \"/home/mh19137/anaconda3/envs/malaysia310/lib/python3.10/site-packages/IPython/core/interactiveshell.py\", line 3064, in _run_cell\n    result = runner(coro)\n  File \"/home/mh19137/anaconda3/envs/malaysia310/lib/python3.10/site-packages/IPython/core/async_helpers.py\", line 129, in _pseudo_sync_runner\n    coro.send(None)\n  File \"/home/mh19137/anaconda3/envs/malaysia310/lib/python3.10/site-packages/IPython/core/interactiveshell.py\", line 3269, in run_cell_async\n    has_raised = await self.run_ast_nodes(code_ast.body, cell_name,\n  File \"/home/mh19137/anaconda3/envs/malaysia310/lib/python3.10/site-packages/IPython/core/interactiveshell.py\", line 3448, in run_ast_nodes\n    if await self.run_code(code, result, async_=asy):\n  File \"/home/mh19137/anaconda3/envs/malaysia310/lib/python3.10/site-packages/IPython/core/interactiveshell.py\", line 3508, in run_code\n    exec(code_obj, self.user_global_ns, self.user_ns)\n  File \"/tmp/ipykernel_23625/2987812481.py\", line 12, in <module>\n    logit_p = intercept + day_coef * model_df[\"day\"] + p_id[model_df[\"p_id\"]]\n\nHINT: Use the PyTensor flag `exception_verbosity=high` for a debug print-out and storage map footprint of this Apply node.",
     "output_type": "error",
     "traceback": [
      "\u001b[0;31m---------------------------------------------------------------------------\u001b[0m",
      "\u001b[0;31mIndexError\u001b[0m                                Traceback (most recent call last)",
      "File \u001b[0;32m~/anaconda3/envs/malaysia310/lib/python3.10/site-packages/pytensor/compile/function/types.py:970\u001b[0m, in \u001b[0;36mFunction.__call__\u001b[0;34m(self, *args, **kwargs)\u001b[0m\n\u001b[1;32m    968\u001b[0m \u001b[39mtry\u001b[39;00m:\n\u001b[1;32m    969\u001b[0m     outputs \u001b[39m=\u001b[39m (\n\u001b[0;32m--> 970\u001b[0m         \u001b[39mself\u001b[39;49m\u001b[39m.\u001b[39;49mvm()\n\u001b[1;32m    971\u001b[0m         \u001b[39mif\u001b[39;00m output_subset \u001b[39mis\u001b[39;00m \u001b[39mNone\u001b[39;00m\n\u001b[1;32m    972\u001b[0m         \u001b[39melse\u001b[39;00m \u001b[39mself\u001b[39m\u001b[39m.\u001b[39mvm(output_subset\u001b[39m=\u001b[39moutput_subset)\n\u001b[1;32m    973\u001b[0m     )\n\u001b[1;32m    974\u001b[0m \u001b[39mexcept\u001b[39;00m \u001b[39mException\u001b[39;00m:\n",
      "\u001b[0;31mIndexError\u001b[0m: index 16231 is out of bounds for axis 0 with size 83",
      "\nDuring handling of the above exception, another exception occurred:\n",
      "\u001b[0;31mIndexError\u001b[0m                                Traceback (most recent call last)",
      "\u001b[1;32m/home/mh19137/seaco_malaysia/smartwatch_feasibility.ipynb Cell 7\u001b[0m line \u001b[0;36m2\n\u001b[1;32m     <a href='vscode-notebook-cell://wsl%2Bubuntu/home/mh19137/seaco_malaysia/smartwatch_feasibility.ipynb#X13sdnNjb2RlLXJlbW90ZQ%3D%3D?line=18'>19</a>\u001b[0m \u001b[39m# Fit the model\u001b[39;00m\n\u001b[1;32m     <a href='vscode-notebook-cell://wsl%2Bubuntu/home/mh19137/seaco_malaysia/smartwatch_feasibility.ipynb#X13sdnNjb2RlLXJlbW90ZQ%3D%3D?line=19'>20</a>\u001b[0m \u001b[39mwith\u001b[39;00m model:\n\u001b[0;32m---> <a href='vscode-notebook-cell://wsl%2Bubuntu/home/mh19137/seaco_malaysia/smartwatch_feasibility.ipynb#X13sdnNjb2RlLXJlbW90ZQ%3D%3D?line=20'>21</a>\u001b[0m     trace \u001b[39m=\u001b[39m pm\u001b[39m.\u001b[39;49msample(draws\u001b[39m=\u001b[39;49m\u001b[39m83\u001b[39;49m, tune\u001b[39m=\u001b[39;49m\u001b[39m1000\u001b[39;49m, target_accept\u001b[39m=\u001b[39;49m\u001b[39m0.95\u001b[39;49m)\n\u001b[1;32m     <a href='vscode-notebook-cell://wsl%2Bubuntu/home/mh19137/seaco_malaysia/smartwatch_feasibility.ipynb#X13sdnNjb2RlLXJlbW90ZQ%3D%3D?line=22'>23</a>\u001b[0m \u001b[39m# Print the summary\u001b[39;00m\n\u001b[1;32m     <a href='vscode-notebook-cell://wsl%2Bubuntu/home/mh19137/seaco_malaysia/smartwatch_feasibility.ipynb#X13sdnNjb2RlLXJlbW90ZQ%3D%3D?line=23'>24</a>\u001b[0m pm\u001b[39m.\u001b[39msummary(trace)\n",
      "File \u001b[0;32m~/anaconda3/envs/malaysia310/lib/python3.10/site-packages/pymc/sampling/mcmc.py:718\u001b[0m, in \u001b[0;36msample\u001b[0;34m(draws, tune, chains, cores, random_seed, progressbar, step, nuts_sampler, initvals, init, jitter_max_retries, n_init, trace, discard_tuned_samples, compute_convergence_checks, keep_warning_stat, return_inferencedata, idata_kwargs, nuts_sampler_kwargs, callback, mp_ctx, model, **kwargs)\u001b[0m\n\u001b[1;32m    716\u001b[0m         [kwargs\u001b[39m.\u001b[39msetdefault(k, v) \u001b[39mfor\u001b[39;00m k, v \u001b[39min\u001b[39;00m nuts_kwargs\u001b[39m.\u001b[39mitems()]\n\u001b[1;32m    717\u001b[0m     _log\u001b[39m.\u001b[39minfo(\u001b[39m\"\u001b[39m\u001b[39mAuto-assigning NUTS sampler...\u001b[39m\u001b[39m\"\u001b[39m)\n\u001b[0;32m--> 718\u001b[0m     initial_points, step \u001b[39m=\u001b[39m init_nuts(\n\u001b[1;32m    719\u001b[0m         init\u001b[39m=\u001b[39;49minit,\n\u001b[1;32m    720\u001b[0m         chains\u001b[39m=\u001b[39;49mchains,\n\u001b[1;32m    721\u001b[0m         n_init\u001b[39m=\u001b[39;49mn_init,\n\u001b[1;32m    722\u001b[0m         model\u001b[39m=\u001b[39;49mmodel,\n\u001b[1;32m    723\u001b[0m         random_seed\u001b[39m=\u001b[39;49mrandom_seed_list,\n\u001b[1;32m    724\u001b[0m         progressbar\u001b[39m=\u001b[39;49mprogressbar,\n\u001b[1;32m    725\u001b[0m         jitter_max_retries\u001b[39m=\u001b[39;49mjitter_max_retries,\n\u001b[1;32m    726\u001b[0m         tune\u001b[39m=\u001b[39;49mtune,\n\u001b[1;32m    727\u001b[0m         initvals\u001b[39m=\u001b[39;49minitvals,\n\u001b[1;32m    728\u001b[0m         \u001b[39m*\u001b[39;49m\u001b[39m*\u001b[39;49mkwargs,\n\u001b[1;32m    729\u001b[0m     )\n\u001b[1;32m    731\u001b[0m \u001b[39mif\u001b[39;00m initial_points \u001b[39mis\u001b[39;00m \u001b[39mNone\u001b[39;00m:\n\u001b[1;32m    732\u001b[0m     \u001b[39m# Time to draw/evaluate numeric start points for each chain.\u001b[39;00m\n\u001b[1;32m    733\u001b[0m     ipfns \u001b[39m=\u001b[39m make_initial_point_fns_per_chain(\n\u001b[1;32m    734\u001b[0m         model\u001b[39m=\u001b[39mmodel,\n\u001b[1;32m    735\u001b[0m         overrides\u001b[39m=\u001b[39minitvals,\n\u001b[1;32m    736\u001b[0m         jitter_rvs\u001b[39m=\u001b[39m\u001b[39mset\u001b[39m(),\n\u001b[1;32m    737\u001b[0m         chains\u001b[39m=\u001b[39mchains,\n\u001b[1;32m    738\u001b[0m     )\n",
      "File \u001b[0;32m~/anaconda3/envs/malaysia310/lib/python3.10/site-packages/pymc/sampling/mcmc.py:1363\u001b[0m, in \u001b[0;36minit_nuts\u001b[0;34m(init, chains, n_init, model, random_seed, progressbar, jitter_max_retries, tune, initvals, **kwargs)\u001b[0m\n\u001b[1;32m   1356\u001b[0m _log\u001b[39m.\u001b[39minfo(\u001b[39mf\u001b[39m\u001b[39m\"\u001b[39m\u001b[39mInitializing NUTS using \u001b[39m\u001b[39m{\u001b[39;00minit\u001b[39m}\u001b[39;00m\u001b[39m...\u001b[39m\u001b[39m\"\u001b[39m)\n\u001b[1;32m   1358\u001b[0m cb \u001b[39m=\u001b[39m [\n\u001b[1;32m   1359\u001b[0m     pm\u001b[39m.\u001b[39mcallbacks\u001b[39m.\u001b[39mCheckParametersConvergence(tolerance\u001b[39m=\u001b[39m\u001b[39m1e-2\u001b[39m, diff\u001b[39m=\u001b[39m\u001b[39m\"\u001b[39m\u001b[39mabsolute\u001b[39m\u001b[39m\"\u001b[39m),\n\u001b[1;32m   1360\u001b[0m     pm\u001b[39m.\u001b[39mcallbacks\u001b[39m.\u001b[39mCheckParametersConvergence(tolerance\u001b[39m=\u001b[39m\u001b[39m1e-2\u001b[39m, diff\u001b[39m=\u001b[39m\u001b[39m\"\u001b[39m\u001b[39mrelative\u001b[39m\u001b[39m\"\u001b[39m),\n\u001b[1;32m   1361\u001b[0m ]\n\u001b[0;32m-> 1363\u001b[0m initial_points \u001b[39m=\u001b[39m _init_jitter(\n\u001b[1;32m   1364\u001b[0m     model,\n\u001b[1;32m   1365\u001b[0m     initvals,\n\u001b[1;32m   1366\u001b[0m     seeds\u001b[39m=\u001b[39;49mrandom_seed_list,\n\u001b[1;32m   1367\u001b[0m     jitter\u001b[39m=\u001b[39;49m\u001b[39m\"\u001b[39;49m\u001b[39mjitter\u001b[39;49m\u001b[39m\"\u001b[39;49m \u001b[39min\u001b[39;49;00m init,\n\u001b[1;32m   1368\u001b[0m     jitter_max_retries\u001b[39m=\u001b[39;49mjitter_max_retries,\n\u001b[1;32m   1369\u001b[0m )\n\u001b[1;32m   1371\u001b[0m apoints \u001b[39m=\u001b[39m [DictToArrayBijection\u001b[39m.\u001b[39mmap(point) \u001b[39mfor\u001b[39;00m point \u001b[39min\u001b[39;00m initial_points]\n\u001b[1;32m   1372\u001b[0m apoints_data \u001b[39m=\u001b[39m [apoint\u001b[39m.\u001b[39mdata \u001b[39mfor\u001b[39;00m apoint \u001b[39min\u001b[39;00m apoints]\n",
      "File \u001b[0;32m~/anaconda3/envs/malaysia310/lib/python3.10/site-packages/pymc/sampling/mcmc.py:1257\u001b[0m, in \u001b[0;36m_init_jitter\u001b[0;34m(model, initvals, seeds, jitter, jitter_max_retries)\u001b[0m\n\u001b[1;32m   1255\u001b[0m \u001b[39mif\u001b[39;00m i \u001b[39m<\u001b[39m jitter_max_retries:\n\u001b[1;32m   1256\u001b[0m     \u001b[39mtry\u001b[39;00m:\n\u001b[0;32m-> 1257\u001b[0m         model\u001b[39m.\u001b[39;49mcheck_start_vals(point)\n\u001b[1;32m   1258\u001b[0m     \u001b[39mexcept\u001b[39;00m SamplingError:\n\u001b[1;32m   1259\u001b[0m         \u001b[39m# Retry with a new seed\u001b[39;00m\n\u001b[1;32m   1260\u001b[0m         seed \u001b[39m=\u001b[39m rng\u001b[39m.\u001b[39mrandint(\u001b[39m2\u001b[39m\u001b[39m*\u001b[39m\u001b[39m*\u001b[39m\u001b[39m30\u001b[39m, dtype\u001b[39m=\u001b[39mnp\u001b[39m.\u001b[39mint64)\n",
      "File \u001b[0;32m~/anaconda3/envs/malaysia310/lib/python3.10/site-packages/pymc/model/core.py:1691\u001b[0m, in \u001b[0;36mModel.check_start_vals\u001b[0;34m(self, start)\u001b[0m\n\u001b[1;32m   1685\u001b[0m     valid_keys \u001b[39m=\u001b[39m \u001b[39m\"\u001b[39m\u001b[39m, \u001b[39m\u001b[39m\"\u001b[39m\u001b[39m.\u001b[39mjoin(value_names_set)\n\u001b[1;32m   1686\u001b[0m     \u001b[39mraise\u001b[39;00m \u001b[39mKeyError\u001b[39;00m(\n\u001b[1;32m   1687\u001b[0m         \u001b[39m\"\u001b[39m\u001b[39mSome start parameters do not appear in the model!\u001b[39m\u001b[39m\\n\u001b[39;00m\u001b[39m\"\u001b[39m\n\u001b[1;32m   1688\u001b[0m         \u001b[39mf\u001b[39m\u001b[39m\"\u001b[39m\u001b[39mValid keys are: \u001b[39m\u001b[39m{\u001b[39;00mvalid_keys\u001b[39m}\u001b[39;00m\u001b[39m, but \u001b[39m\u001b[39m{\u001b[39;00mextra_keys\u001b[39m}\u001b[39;00m\u001b[39m was supplied\u001b[39m\u001b[39m\"\u001b[39m\n\u001b[1;32m   1689\u001b[0m     )\n\u001b[0;32m-> 1691\u001b[0m initial_eval \u001b[39m=\u001b[39m \u001b[39mself\u001b[39;49m\u001b[39m.\u001b[39;49mpoint_logps(point\u001b[39m=\u001b[39;49melem)\n\u001b[1;32m   1693\u001b[0m \u001b[39mif\u001b[39;00m \u001b[39mnot\u001b[39;00m \u001b[39mall\u001b[39m(np\u001b[39m.\u001b[39misfinite(v) \u001b[39mfor\u001b[39;00m v \u001b[39min\u001b[39;00m initial_eval\u001b[39m.\u001b[39mvalues()):\n\u001b[1;32m   1694\u001b[0m     \u001b[39mraise\u001b[39;00m SamplingError(\n\u001b[1;32m   1695\u001b[0m         \u001b[39m\"\u001b[39m\u001b[39mInitial evaluation of model at starting point failed!\u001b[39m\u001b[39m\\n\u001b[39;00m\u001b[39m\"\u001b[39m\n\u001b[1;32m   1696\u001b[0m         \u001b[39mf\u001b[39m\u001b[39m\"\u001b[39m\u001b[39mStarting values:\u001b[39m\u001b[39m\\n\u001b[39;00m\u001b[39m{\u001b[39;00melem\u001b[39m}\u001b[39;00m\u001b[39m\\n\u001b[39;00m\u001b[39m\\n\u001b[39;00m\u001b[39m\"\u001b[39m\n\u001b[1;32m   1697\u001b[0m         \u001b[39mf\u001b[39m\u001b[39m\"\u001b[39m\u001b[39mLogp initial evaluation results:\u001b[39m\u001b[39m\\n\u001b[39;00m\u001b[39m{\u001b[39;00minitial_eval\u001b[39m}\u001b[39;00m\u001b[39m\\n\u001b[39;00m\u001b[39m\"\u001b[39m\n\u001b[1;32m   1698\u001b[0m         \u001b[39m\"\u001b[39m\u001b[39mYou can call `model.debug()` for more details.\u001b[39m\u001b[39m\"\u001b[39m\n\u001b[1;32m   1699\u001b[0m     )\n",
      "File \u001b[0;32m~/anaconda3/envs/malaysia310/lib/python3.10/site-packages/pymc/model/core.py:1726\u001b[0m, in \u001b[0;36mModel.point_logps\u001b[0;34m(self, point, round_vals)\u001b[0m\n\u001b[1;32m   1720\u001b[0m factors \u001b[39m=\u001b[39m \u001b[39mself\u001b[39m\u001b[39m.\u001b[39mbasic_RVs \u001b[39m+\u001b[39m \u001b[39mself\u001b[39m\u001b[39m.\u001b[39mpotentials\n\u001b[1;32m   1721\u001b[0m factor_logps_fn \u001b[39m=\u001b[39m [pt\u001b[39m.\u001b[39msum(factor) \u001b[39mfor\u001b[39;00m factor \u001b[39min\u001b[39;00m \u001b[39mself\u001b[39m\u001b[39m.\u001b[39mlogp(factors, \u001b[39msum\u001b[39m\u001b[39m=\u001b[39m\u001b[39mFalse\u001b[39;00m)]\n\u001b[1;32m   1722\u001b[0m \u001b[39mreturn\u001b[39;00m {\n\u001b[1;32m   1723\u001b[0m     factor\u001b[39m.\u001b[39mname: np\u001b[39m.\u001b[39mround(np\u001b[39m.\u001b[39masarray(factor_logp), round_vals)\n\u001b[1;32m   1724\u001b[0m     \u001b[39mfor\u001b[39;00m factor, factor_logp \u001b[39min\u001b[39;00m \u001b[39mzip\u001b[39m(\n\u001b[1;32m   1725\u001b[0m         factors,\n\u001b[0;32m-> 1726\u001b[0m         \u001b[39mself\u001b[39;49m\u001b[39m.\u001b[39;49mcompile_fn(factor_logps_fn)(point),\n\u001b[1;32m   1727\u001b[0m     )\n\u001b[1;32m   1728\u001b[0m }\n",
      "File \u001b[0;32m~/anaconda3/envs/malaysia310/lib/python3.10/site-packages/pymc/pytensorf.py:762\u001b[0m, in \u001b[0;36mPointFunc.__call__\u001b[0;34m(self, state)\u001b[0m\n\u001b[1;32m    761\u001b[0m \u001b[39mdef\u001b[39;00m \u001b[39m__call__\u001b[39m(\u001b[39mself\u001b[39m, state):\n\u001b[0;32m--> 762\u001b[0m     \u001b[39mreturn\u001b[39;00m \u001b[39mself\u001b[39;49m\u001b[39m.\u001b[39;49mf(\u001b[39m*\u001b[39;49m\u001b[39m*\u001b[39;49mstate)\n",
      "File \u001b[0;32m~/anaconda3/envs/malaysia310/lib/python3.10/site-packages/pytensor/compile/function/types.py:983\u001b[0m, in \u001b[0;36mFunction.__call__\u001b[0;34m(self, *args, **kwargs)\u001b[0m\n\u001b[1;32m    981\u001b[0m     \u001b[39mif\u001b[39;00m \u001b[39mhasattr\u001b[39m(\u001b[39mself\u001b[39m\u001b[39m.\u001b[39mvm, \u001b[39m\"\u001b[39m\u001b[39mthunks\u001b[39m\u001b[39m\"\u001b[39m):\n\u001b[1;32m    982\u001b[0m         thunk \u001b[39m=\u001b[39m \u001b[39mself\u001b[39m\u001b[39m.\u001b[39mvm\u001b[39m.\u001b[39mthunks[\u001b[39mself\u001b[39m\u001b[39m.\u001b[39mvm\u001b[39m.\u001b[39mposition_of_error]\n\u001b[0;32m--> 983\u001b[0m     raise_with_op(\n\u001b[1;32m    984\u001b[0m         \u001b[39mself\u001b[39;49m\u001b[39m.\u001b[39;49mmaker\u001b[39m.\u001b[39;49mfgraph,\n\u001b[1;32m    985\u001b[0m         node\u001b[39m=\u001b[39;49m\u001b[39mself\u001b[39;49m\u001b[39m.\u001b[39;49mvm\u001b[39m.\u001b[39;49mnodes[\u001b[39mself\u001b[39;49m\u001b[39m.\u001b[39;49mvm\u001b[39m.\u001b[39;49mposition_of_error],\n\u001b[1;32m    986\u001b[0m         thunk\u001b[39m=\u001b[39;49mthunk,\n\u001b[1;32m    987\u001b[0m         storage_map\u001b[39m=\u001b[39;49m\u001b[39mgetattr\u001b[39;49m(\u001b[39mself\u001b[39;49m\u001b[39m.\u001b[39;49mvm, \u001b[39m\"\u001b[39;49m\u001b[39mstorage_map\u001b[39;49m\u001b[39m\"\u001b[39;49m, \u001b[39mNone\u001b[39;49;00m),\n\u001b[1;32m    988\u001b[0m     )\n\u001b[1;32m    989\u001b[0m \u001b[39melse\u001b[39;00m:\n\u001b[1;32m    990\u001b[0m     \u001b[39m# old-style linkers raise their own exceptions\u001b[39;00m\n\u001b[1;32m    991\u001b[0m     \u001b[39mraise\u001b[39;00m\n",
      "File \u001b[0;32m~/anaconda3/envs/malaysia310/lib/python3.10/site-packages/pytensor/link/utils.py:531\u001b[0m, in \u001b[0;36mraise_with_op\u001b[0;34m(fgraph, node, thunk, exc_info, storage_map)\u001b[0m\n\u001b[1;32m    526\u001b[0m     warnings\u001b[39m.\u001b[39mwarn(\n\u001b[1;32m    527\u001b[0m         \u001b[39mf\u001b[39m\u001b[39m\"\u001b[39m\u001b[39m{\u001b[39;00mexc_type\u001b[39m}\u001b[39;00m\u001b[39m error does not allow us to add an extra error message\u001b[39m\u001b[39m\"\u001b[39m\n\u001b[1;32m    528\u001b[0m     )\n\u001b[1;32m    529\u001b[0m     \u001b[39m# Some exception need extra parameter in inputs. So forget the\u001b[39;00m\n\u001b[1;32m    530\u001b[0m     \u001b[39m# extra long error message in that case.\u001b[39;00m\n\u001b[0;32m--> 531\u001b[0m \u001b[39mraise\u001b[39;00m exc_value\u001b[39m.\u001b[39mwith_traceback(exc_trace)\n",
      "File \u001b[0;32m~/anaconda3/envs/malaysia310/lib/python3.10/site-packages/pytensor/compile/function/types.py:970\u001b[0m, in \u001b[0;36mFunction.__call__\u001b[0;34m(self, *args, **kwargs)\u001b[0m\n\u001b[1;32m    967\u001b[0m t0_fn \u001b[39m=\u001b[39m time\u001b[39m.\u001b[39mperf_counter()\n\u001b[1;32m    968\u001b[0m \u001b[39mtry\u001b[39;00m:\n\u001b[1;32m    969\u001b[0m     outputs \u001b[39m=\u001b[39m (\n\u001b[0;32m--> 970\u001b[0m         \u001b[39mself\u001b[39;49m\u001b[39m.\u001b[39;49mvm()\n\u001b[1;32m    971\u001b[0m         \u001b[39mif\u001b[39;00m output_subset \u001b[39mis\u001b[39;00m \u001b[39mNone\u001b[39;00m\n\u001b[1;32m    972\u001b[0m         \u001b[39melse\u001b[39;00m \u001b[39mself\u001b[39m\u001b[39m.\u001b[39mvm(output_subset\u001b[39m=\u001b[39moutput_subset)\n\u001b[1;32m    973\u001b[0m     )\n\u001b[1;32m    974\u001b[0m \u001b[39mexcept\u001b[39;00m \u001b[39mException\u001b[39;00m:\n\u001b[1;32m    975\u001b[0m     restore_defaults()\n",
      "\u001b[0;31mIndexError\u001b[0m: index 16231 is out of bounds for axis 0 with size 83\nApply node that caused the error: AdvancedSubtensor1(p_id, [16231 162 ... 055 39055])\nToposort index: 8\nInputs types: [TensorType(float64, shape=(83,)), TensorType(uint16, shape=(7722,))]\nInputs shapes: [(83,), (7722,)]\nInputs strides: [(8,), (2,)]\nInputs values: ['not shown', 'not shown']\nOutputs clients: [[Composite{...}(ExpandDims{axis=0}.0, [1. 1. 1. ... 6. 6. 6.], ExpandDims{axis=0}.0, AdvancedSubtensor1.0, [0. 0. 0. ... 1. 0. 0.], [  0.   0. ... 0.   0.], [-inf -inf ... -inf -inf], [1. 1. 1. ... 0. 1. 1.])]]\n\nBacktrace when the node is created (use PyTensor flag traceback__limit=N to make it longer):\n  File \"/home/mh19137/anaconda3/envs/malaysia310/lib/python3.10/site-packages/ipykernel/zmqshell.py\", line 546, in run_cell\n    return super().run_cell(*args, **kwargs)\n  File \"/home/mh19137/anaconda3/envs/malaysia310/lib/python3.10/site-packages/IPython/core/interactiveshell.py\", line 3009, in run_cell\n    result = self._run_cell(\n  File \"/home/mh19137/anaconda3/envs/malaysia310/lib/python3.10/site-packages/IPython/core/interactiveshell.py\", line 3064, in _run_cell\n    result = runner(coro)\n  File \"/home/mh19137/anaconda3/envs/malaysia310/lib/python3.10/site-packages/IPython/core/async_helpers.py\", line 129, in _pseudo_sync_runner\n    coro.send(None)\n  File \"/home/mh19137/anaconda3/envs/malaysia310/lib/python3.10/site-packages/IPython/core/interactiveshell.py\", line 3269, in run_cell_async\n    has_raised = await self.run_ast_nodes(code_ast.body, cell_name,\n  File \"/home/mh19137/anaconda3/envs/malaysia310/lib/python3.10/site-packages/IPython/core/interactiveshell.py\", line 3448, in run_ast_nodes\n    if await self.run_code(code, result, async_=asy):\n  File \"/home/mh19137/anaconda3/envs/malaysia310/lib/python3.10/site-packages/IPython/core/interactiveshell.py\", line 3508, in run_code\n    exec(code_obj, self.user_global_ns, self.user_ns)\n  File \"/tmp/ipykernel_23625/2987812481.py\", line 12, in <module>\n    logit_p = intercept + day_coef * model_df[\"day\"] + p_id[model_df[\"p_id\"]]\n\nHINT: Use the PyTensor flag `exception_verbosity=high` for a debug print-out and storage map footprint of this Apply node."
     ]
    }
   ],
   "source": [
    "import pymc as pm\n",
    "\n",
    "# Define the model\n",
    "with pm.Model() as model:\n",
    "    # Priors\n",
    "    intercept = pm.Normal(\"intercept\", mu=0, sigma=10)\n",
    "    day_coef = pm.Normal(\"day_coef\", mu=0, sigma=10)\n",
    "    p_id_sd = pm.HalfNormal(\"p_id_sd\", sigma=10)\n",
    "    p_id = pm.Normal(\"p_id\", mu=0, sigma=p_id_sd, shape=model_df[\"p_id\"].nunique())\n",
    "\n",
    "    # Expected value of outcome (using the logit link function)\n",
    "    logit_p = intercept + day_coef * model_df[\"day\"] + p_id[model_df[\"p_id\"]]\n",
    "\n",
    "    # Likelihood\n",
    "    entry = pm.Binomial(\n",
    "        \"entry\", n=1, p=pm.math.invlogit(logit_p), observed=model_df[\"entry\"]\n",
    "    )\n",
    "\n",
    "# Fit the model\n",
    "with model:\n",
    "    trace = pm.sample(draws=2000, tune=1000, target_accept=0.95)\n",
    "\n",
    "# Print the summary\n",
    "pm.summary(trace)"
   ]
  }
 ],
 "metadata": {
  "kernelspec": {
   "display_name": "Python 3",
   "language": "python",
   "name": "python3"
  },
  "language_info": {
   "codemirror_mode": {
    "name": "ipython",
    "version": 3
   },
   "file_extension": ".py",
   "mimetype": "text/x-python",
   "name": "python",
   "nbconvert_exporter": "python",
   "pygments_lexer": "ipython3",
   "version": "3.10.12"
  }
 },
 "nbformat": 4,
 "nbformat_minor": 2
}
