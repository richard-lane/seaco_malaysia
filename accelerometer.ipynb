{
 "cells": [
  {
   "cell_type": "markdown",
   "metadata": {},
   "source": [
    "Acceleromter Stuff\n",
    "====\n",
    "Initial investigation"
   ]
  },
  {
   "cell_type": "code",
   "execution_count": null,
   "metadata": {},
   "outputs": [],
   "source": [
    "from ema import read, parse, analysis"
   ]
  },
  {
   "cell_type": "code",
   "execution_count": null,
   "metadata": {},
   "outputs": [],
   "source": [
    "\"\"\" Find the accelerometer file \"\"\"\n",
    "import pathlib\n",
    "\n",
    "device_id = \"6012582\"\n",
    "recording_id = \"0000291121\"\n",
    "participant_id = \"20029\"\n",
    "\n",
    "# Check IDs are the right length\n",
    "assert len(str(device_id)) == 7\n",
    "assert len(str(recording_id)) == 10\n",
    "\n",
    "# TODO Check that the participant agreed to take part in the study\n",
    "# Do this by opening \"Z:\\SEACO data\\SEACO-CH20 qnaire data\\SEACO_CH20_17082022_de_id.csv\"\n",
    "# as a dataframe, finding the row with participant_id = df[\"residents_id\"] and checking\n",
    "# that the value of \"respondent_status\" here == 1\n",
    "# I've checked the one above by hand and it's fine\n",
    "...\n",
    "\n",
    "filename = f\"{device_id}_{recording_id}-{participant_id}.cwa\"\n",
    "# Windows path to RDSF mount on Z:\n",
    "# Let's hope it's in the Week 1 folder\n",
    "filepath = pathlib.Path(\n",
    "    rf\"Z:\\SEACO data\\Downloads\\AX6 Activity Monitor\\Week 1\\{filename}\"\n",
    ")\n",
    "\n",
    "# TODO add some code to look for the right file in all the \"Week X\" folders\n",
    "\n",
    "assert filepath.exists()"
   ]
  },
  {
   "cell_type": "code",
   "execution_count": null,
   "metadata": {},
   "outputs": [],
   "source": [
    "\"\"\" Find the smartwatch data from the combined smartwatch file \"\"\"\n",
    "meal_df = read.meal_info(participant_id)\n",
    "allowed_meal_types = {\"Snack\", \"Drink\", \"Meal\", \"No food/drink\"}\n",
    "meal_df = parse.extract_meals(meal_df, allowed_meal_types, verbose=True)"
   ]
  },
  {
   "cell_type": "code",
   "execution_count": null,
   "metadata": {},
   "outputs": [],
   "source": [
    "\"\"\" Read the accelerometry file \"\"\"\n",
    "samples = read.accel_info(str(filepath))"
   ]
  },
  {
   "cell_type": "code",
   "execution_count": null,
   "metadata": {},
   "outputs": [],
   "source": [
    "\"\"\" Plot each component of acceleration and the meal times \"\"\"\n",
    "import matplotlib.pyplot as plt\n",
    "\n",
    "times = samples[\"time\"]\n",
    "\n",
    "fig, axes = plt.subplots(\n",
    "    7,\n",
    "    1,\n",
    "    figsize=(14, 7),\n",
    "    sharex=True,\n",
    ")\n",
    "fig.subplots_adjust(hspace=0.0)\n",
    "\n",
    "# TODO add rotation column titles\n",
    "column_titles = [\"accel_{p}\" for p in (\"x\", \"y\", \"z\")] + []\n",
    "\n",
    "for col, axis in zip(column_titles, axes):\n",
    "    axis.plot(times, samples[col], linewidth=0.3, color=\"k\")\n",
    "    axis.set_ylabel(col)\n",
    "\n",
    "# Plot also the meal times on the bottom axis\n",
    "\n",
    "labels = axes.set_xticklabels(axes.get_xticklabels(), rotation=45, ha=\"right\")\n",
    "plt.show()"
   ]
  }
 ],
 "metadata": {
  "kernelspec": {
   "display_name": "malaysia",
   "language": "python",
   "name": "python3"
  },
  "language_info": {
   "codemirror_mode": {
    "name": "ipython",
    "version": 3
   },
   "file_extension": ".py",
   "mimetype": "text/x-python",
   "name": "python",
   "nbconvert_exporter": "python",
   "pygments_lexer": "ipython3",
   "version": "3.11.3"
  },
  "orig_nbformat": 4
 },
 "nbformat": 4,
 "nbformat_minor": 2
}
