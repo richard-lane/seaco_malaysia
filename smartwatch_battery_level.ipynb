{
 "cells": [
  {
   "cell_type": "code",
   "execution_count": 1,
   "metadata": {},
   "outputs": [],
   "source": [
    "%load_ext autoreload\n",
    "%autoreload 2"
   ]
  },
  {
   "cell_type": "code",
   "execution_count": 19,
   "metadata": {},
   "outputs": [
    {
     "name": "stderr",
     "output_type": "stream",
     "text": [
      "  3%|▎         | 2/77 [00:00<00:05, 14.10it/s]"
     ]
    },
    {
     "name": "stdout",
     "output_type": "stream",
     "text": [
      "Copied /mnt/z/SEACO data/Downloads/Smartwatch/Week 20/Week 20/EMADATA_15082_20220420.db to data/battery_dbs/EMADATA_15082_20220420.db\n",
      "Copied /mnt/z/SEACO data/Downloads/Smartwatch/Week 20/Week 20/EMADATA_765_20220422.db to data/battery_dbs/EMADATA_765_20220422.db\n",
      "Copied /mnt/z/SEACO data/Downloads/Smartwatch/Week 18/EMADATA_15853_20220412.db to data/battery_dbs/EMADATA_15853_20220412.db\n"
     ]
    },
    {
     "name": "stderr",
     "output_type": "stream",
     "text": [
      "  5%|▌         | 4/77 [00:00<00:07,  9.69it/s]"
     ]
    },
    {
     "name": "stdout",
     "output_type": "stream",
     "text": [
      "Copied /mnt/z/SEACO data/Downloads/Smartwatch/Week 18/EMADATA_20050_20220412.db to data/battery_dbs/EMADATA_20050_20220412.db\n",
      "Copied /mnt/z/SEACO data/Downloads/Smartwatch/Week 18/EMADATA_22470_20220412.db to data/battery_dbs/EMADATA_22470_20220412.db\n"
     ]
    },
    {
     "name": "stderr",
     "output_type": "stream",
     "text": [
      " 10%|█         | 8/77 [00:00<00:07,  8.65it/s]"
     ]
    },
    {
     "name": "stdout",
     "output_type": "stream",
     "text": [
      "Copied /mnt/z/SEACO data/Downloads/Smartwatch/Week 18/EMADATA_25279_20220412.db to data/battery_dbs/EMADATA_25279_20220412.db\n",
      "Copied /mnt/z/SEACO data/Downloads/Smartwatch/Week 33/EMADATA_13867_20220728.db to data/battery_dbs/EMADATA_13867_20220728.db\n",
      "Copied /mnt/z/SEACO data/Downloads/Smartwatch/Week 15/Week 15/EMADATA_26190_20220316.db to data/battery_dbs/EMADATA_26190_20220316.db\n"
     ]
    },
    {
     "name": "stderr",
     "output_type": "stream",
     "text": [
      " 14%|█▍        | 11/77 [00:01<00:07,  8.73it/s]"
     ]
    },
    {
     "name": "stdout",
     "output_type": "stream",
     "text": [
      "Copied /mnt/z/SEACO data/Downloads/Smartwatch/Week 15/Week 15/EMADATA_26041_20220316.db to data/battery_dbs/EMADATA_26041_20220316.db\n",
      "Copied /mnt/z/SEACO data/Downloads/Smartwatch/Week 30/EMADATA_33395_20220712.db to data/battery_dbs/EMADATA_33395_20220712.db\n",
      "Copied /mnt/z/SEACO data/Downloads/Smartwatch/Week 30/EMADATA_35265_20220712.db to data/battery_dbs/EMADATA_35265_20220712.db\n"
     ]
    },
    {
     "name": "stderr",
     "output_type": "stream",
     "text": [
      " 16%|█▌        | 12/77 [00:01<00:12,  5.06it/s]"
     ]
    },
    {
     "name": "stdout",
     "output_type": "stream",
     "text": [
      "Copied /mnt/z/SEACO data/Downloads/Smartwatch/Week 28/Week 28/EMADATA_29061_20220628.db to data/battery_dbs/EMADATA_29061_20220628.db\n"
     ]
    },
    {
     "name": "stderr",
     "output_type": "stream",
     "text": [
      " 18%|█▊        | 14/77 [00:02<00:13,  4.77it/s]"
     ]
    },
    {
     "name": "stdout",
     "output_type": "stream",
     "text": [
      "Copied /mnt/z/SEACO data/Downloads/Smartwatch/Week 28/Week 28/EMADATA_28403_20220628.db to data/battery_dbs/EMADATA_28403_20220628.db\n",
      "Copied /mnt/z/SEACO data/Downloads/Smartwatch/Week 28/Week 28/EMADATA_33583_20220628.db to data/battery_dbs/EMADATA_33583_20220628.db\n"
     ]
    },
    {
     "name": "stderr",
     "output_type": "stream",
     "text": [
      " 21%|██        | 16/77 [00:02<00:12,  4.96it/s]"
     ]
    },
    {
     "name": "stdout",
     "output_type": "stream",
     "text": [
      "Copied /mnt/z/SEACO data/Downloads/Smartwatch/Week 28/Week 28/EMADATA_24563_20220628.db to data/battery_dbs/EMADATA_24563_20220628.db\n",
      "Copied /mnt/z/SEACO data/Downloads/Smartwatch/Week 5/Week 5/EMADATA_3383_20220112.db to data/battery_dbs/EMADATA_3383_20220112.db\n"
     ]
    },
    {
     "name": "stderr",
     "output_type": "stream",
     "text": [
      " 23%|██▎       | 18/77 [00:02<00:09,  6.08it/s]"
     ]
    },
    {
     "name": "stdout",
     "output_type": "stream",
     "text": [
      "Copied /mnt/z/SEACO data/Downloads/Smartwatch/Week 16/EMADATA_26273_20220324.db to data/battery_dbs/EMADATA_26273_20220324.db\n",
      "Copied /mnt/z/SEACO data/Downloads/Smartwatch/Week 16/EMADATA_25819_20220324.db to data/battery_dbs/EMADATA_25819_20220324.db\n"
     ]
    },
    {
     "name": "stderr",
     "output_type": "stream",
     "text": [
      " 25%|██▍       | 19/77 [00:03<00:09,  6.09it/s]"
     ]
    },
    {
     "name": "stdout",
     "output_type": "stream",
     "text": [
      "Copied /mnt/z/SEACO data/Downloads/Smartwatch/Week 16/EMADATA_26912_20220330.db to data/battery_dbs/EMADATA_26912_20220330.db\n"
     ]
    },
    {
     "name": "stderr",
     "output_type": "stream",
     "text": [
      " 27%|██▋       | 21/77 [00:03<00:11,  4.67it/s]"
     ]
    },
    {
     "name": "stdout",
     "output_type": "stream",
     "text": [
      "Copied /mnt/z/SEACO data/Downloads/Smartwatch/Week 31/EMADATA_924_20220719.db to data/battery_dbs/EMADATA_924_20220719.db\n",
      "Copied /mnt/z/SEACO data/Downloads/Smartwatch/Week 31/EMADATA_37497_20220719.db to data/battery_dbs/EMADATA_37497_20220719.db\n"
     ]
    },
    {
     "name": "stderr",
     "output_type": "stream",
     "text": [
      " 31%|███       | 24/77 [00:03<00:07,  6.97it/s]"
     ]
    },
    {
     "name": "stdout",
     "output_type": "stream",
     "text": [
      "Copied /mnt/z/SEACO data/Downloads/Smartwatch/Week 26/Week 26/EMADATA_36593_20220609.db to data/battery_dbs/EMADATA_36593_20220609.db\n",
      "Copied /mnt/z/SEACO data/Downloads/Smartwatch/Week 26/Week 26/EMADATA_28788_20220601.db to data/battery_dbs/EMADATA_28788_20220601.db\n",
      "Copied /mnt/z/SEACO data/Downloads/Smartwatch/Week 3/EMADATA_16530_20211221.db to data/battery_dbs/EMADATA_16530_20211221.db\n",
      "Copied /mnt/z/SEACO data/Downloads/Smartwatch/Week 3/EMADATA_1339_20211222.db to data/battery_dbs/EMADATA_1339_20211222.db\n"
     ]
    },
    {
     "name": "stderr",
     "output_type": "stream",
     "text": [
      " 34%|███▍      | 26/77 [00:04<00:06,  7.52it/s]"
     ]
    },
    {
     "name": "stdout",
     "output_type": "stream",
     "text": [
      "Copied /mnt/z/SEACO data/Downloads/Smartwatch/Week 3/EMADATA_4260_20211221.db to data/battery_dbs/EMADATA_4260_20211221.db\n"
     ]
    },
    {
     "name": "stderr",
     "output_type": "stream",
     "text": [
      " 36%|███▋      | 28/77 [00:04<00:08,  5.78it/s]"
     ]
    },
    {
     "name": "stdout",
     "output_type": "stream",
     "text": [
      "Copied /mnt/z/SEACO data/Downloads/Smartwatch/Week 3/EMADATA_1361_20211222.db to data/battery_dbs/EMADATA_1361_20211222.db\n",
      "Copied /mnt/z/SEACO data/Downloads/Smartwatch/Week 3/EMADATA_2103_20211222.db to data/battery_dbs/EMADATA_2103_20211222.db\n"
     ]
    },
    {
     "name": "stderr",
     "output_type": "stream",
     "text": [
      " 39%|███▉      | 30/77 [00:04<00:06,  6.95it/s]"
     ]
    },
    {
     "name": "stdout",
     "output_type": "stream",
     "text": [
      "Copied /mnt/z/SEACO data/Downloads/Smartwatch/Week 14/Week 14/EMADATA_27330_20220309.db to data/battery_dbs/EMADATA_27330_20220309.db\n",
      "Copied /mnt/z/SEACO data/Downloads/Smartwatch/Week 11/Week 11/EMADATA_8502_20220218.db to data/battery_dbs/EMADATA_8502_20220218.db\n"
     ]
    },
    {
     "name": "stderr",
     "output_type": "stream",
     "text": [
      " 40%|████      | 31/77 [00:05<00:08,  5.16it/s]"
     ]
    },
    {
     "name": "stdout",
     "output_type": "stream",
     "text": [
      "Copied /mnt/z/SEACO data/Downloads/Smartwatch/Week 11/Week 11/EMADATA_4219_20220217.db to data/battery_dbs/EMADATA_4219_20220217.db\n"
     ]
    },
    {
     "name": "stderr",
     "output_type": "stream",
     "text": [
      " 42%|████▏     | 32/77 [00:05<00:09,  4.72it/s]"
     ]
    },
    {
     "name": "stdout",
     "output_type": "stream",
     "text": [
      "Copied /mnt/z/SEACO data/Downloads/Smartwatch/Week 27/Week 27/EMADATA_30883_20220615.db to data/battery_dbs/EMADATA_30883_20220615.db\n"
     ]
    },
    {
     "name": "stderr",
     "output_type": "stream",
     "text": [
      " 43%|████▎     | 33/77 [00:05<00:09,  4.45it/s]"
     ]
    },
    {
     "name": "stdout",
     "output_type": "stream",
     "text": [
      "Copied /mnt/z/SEACO data/Downloads/Smartwatch/Week 27/Week 27/EMADATA_27345_20220615.db to data/battery_dbs/EMADATA_27345_20220615.db\n"
     ]
    },
    {
     "name": "stderr",
     "output_type": "stream",
     "text": [
      " 44%|████▍     | 34/77 [00:06<00:12,  3.41it/s]"
     ]
    },
    {
     "name": "stdout",
     "output_type": "stream",
     "text": [
      "Copied /mnt/z/SEACO data/Downloads/Smartwatch/Week 27/Week 27/EMADATA_39184_20220615.db to data/battery_dbs/EMADATA_39184_20220615.db\n"
     ]
    },
    {
     "name": "stderr",
     "output_type": "stream",
     "text": [
      " 45%|████▌     | 35/77 [00:06<00:11,  3.53it/s]"
     ]
    },
    {
     "name": "stdout",
     "output_type": "stream",
     "text": [
      "Copied /mnt/z/SEACO data/Downloads/Smartwatch/Week 24/Week 24/EMADATA_24534_20220521.db to data/battery_dbs/EMADATA_24534_20220521.db\n"
     ]
    },
    {
     "name": "stderr",
     "output_type": "stream",
     "text": [
      " 48%|████▊     | 37/77 [00:06<00:09,  4.19it/s]"
     ]
    },
    {
     "name": "stdout",
     "output_type": "stream",
     "text": [
      "Copied /mnt/z/SEACO data/Downloads/Smartwatch/Week 24/Week 24/EMADATA_35272_20220520.db to data/battery_dbs/EMADATA_35272_20220520.db\n",
      "Copied /mnt/z/SEACO data/Downloads/Smartwatch/Week 24/Week 24/EMADATA_12961_20220520.db to data/battery_dbs/EMADATA_12961_20220520.db\n"
     ]
    },
    {
     "name": "stderr",
     "output_type": "stream",
     "text": [
      " 49%|████▉     | 38/77 [00:06<00:08,  4.85it/s]"
     ]
    },
    {
     "name": "stdout",
     "output_type": "stream",
     "text": [
      "Copied /mnt/z/SEACO data/Downloads/Smartwatch/Week 9/Week 9/EMADATA_17582_20220208.db to data/battery_dbs/EMADATA_17582_20220208.db\n"
     ]
    },
    {
     "name": "stderr",
     "output_type": "stream",
     "text": [
      " 51%|█████     | 39/77 [00:07<00:08,  4.63it/s]"
     ]
    },
    {
     "name": "stdout",
     "output_type": "stream",
     "text": [
      "Copied /mnt/z/SEACO data/Downloads/Smartwatch/Week 9/Week 9/EMADATA_3017_20220204.db to data/battery_dbs/EMADATA_3017_20220204.db\n"
     ]
    },
    {
     "name": "stderr",
     "output_type": "stream",
     "text": [
      " 53%|█████▎    | 41/77 [00:07<00:08,  4.23it/s]"
     ]
    },
    {
     "name": "stdout",
     "output_type": "stream",
     "text": [
      "Copied /mnt/z/SEACO data/Downloads/Smartwatch/Week 9/Week 9/EMADATA_23532_20220204.db to data/battery_dbs/EMADATA_23532_20220204.db\n",
      "Copied /mnt/z/SEACO data/Downloads/Smartwatch/Week 9/Week 9/EMADATA_3171_20220204.db to data/battery_dbs/EMADATA_3171_20220204.db\n"
     ]
    },
    {
     "name": "stderr",
     "output_type": "stream",
     "text": [
      " 55%|█████▍    | 42/77 [00:08<00:09,  3.53it/s]"
     ]
    }
   ],
   "source": [
    "\"\"\"\n",
    "Copy all the files to a local directory, because I don't have the right permissions on RDSF\n",
    "\n",
    "\"\"\"\n",
    "import os\n",
    "import yaml\n",
    "import shutil\n",
    "import pathlib\n",
    "from tqdm import tqdm\n",
    "\n",
    "# Create an output file directory\n",
    "battery_dir = \"data/battery_dbs/\"\n",
    "if not os.path.isdir(battery_dir):\n",
    "    os.makedirs(battery_dir)\n",
    "\n",
    "# Find all the files\n",
    "with open(\"config.yaml\", \"r\") as stream:\n",
    "    dirname = \"/mnt/z/\" + yaml.safe_load(stream)[\"smartwatch_dbs_dir\"]\n",
    "dirname = pathlib.Path(dirname)\n",
    "assert dirname.exists()\n",
    "\n",
    "# Recurse into all \"Week X\" directories, extracting all .db files\n",
    "source_files = [file for file in dirname.glob(\"Week*/**/*.db\")]\n",
    "dest_files = [os.path.join(battery_dir, file.name) for file in source_files]\n",
    "for source, dest in tqdm(zip(source_files, dest_files), total=len(source_files)):\n",
    "    assert not os.path.isfile(dest), f\"Duplicate name {source}\"\n",
    "    shutil.copyfile(source, dest)"
   ]
  },
  {
   "cell_type": "code",
   "execution_count": 3,
   "metadata": {},
   "outputs": [
    {
     "data": {
      "text/plain": [
       "'\\nCreate a csv of p_id, timestamp and battery level\\n\\n'"
      ]
     },
     "execution_count": 3,
     "metadata": {},
     "output_type": "execute_result"
    }
   ],
   "source": [
    "\"\"\"\n",
    "Create a csv of p_id, timestamp and battery level\n",
    "\n",
    "\"\"\""
   ]
  },
  {
   "cell_type": "code",
   "execution_count": 4,
   "metadata": {},
   "outputs": [
    {
     "data": {
      "text/plain": [
       "'\\nFind the start day of each participant\\n\\n'"
      ]
     },
     "execution_count": 4,
     "metadata": {},
     "output_type": "execute_result"
    }
   ],
   "source": [
    "\"\"\"\n",
    "Find the start day of each participant\n",
    "\n",
    "\"\"\""
   ]
  },
  {
   "cell_type": "code",
   "execution_count": 5,
   "metadata": {},
   "outputs": [
    {
     "data": {
      "text/plain": [
       "'\\nFind the delta for each participant\\n\\n'"
      ]
     },
     "execution_count": 5,
     "metadata": {},
     "output_type": "execute_result"
    }
   ],
   "source": [
    "\"\"\"\n",
    "Find the delta for each participant\n",
    "\n",
    "\"\"\""
   ]
  },
  {
   "cell_type": "code",
   "execution_count": 6,
   "metadata": {},
   "outputs": [
    {
     "data": {
      "text/plain": [
       "'\\nPlot battery level against delta\\n\\n'"
      ]
     },
     "execution_count": 6,
     "metadata": {},
     "output_type": "execute_result"
    }
   ],
   "source": [
    "\"\"\"\n",
    "Plot battery level against delta\n",
    "\n",
    "\"\"\""
   ]
  },
  {
   "cell_type": "code",
   "execution_count": 1,
   "metadata": {},
   "outputs": [
    {
     "data": {
      "text/plain": [
       "'\\nFind which participants made 0/few entries on the last day of the study\\n\\n'"
      ]
     },
     "execution_count": 1,
     "metadata": {},
     "output_type": "execute_result"
    }
   ],
   "source": [
    "\"\"\"\n",
    "Find which participants made 0/few entries on the last day of the study\n",
    "\n",
    "\"\"\""
   ]
  },
  {
   "cell_type": "code",
   "execution_count": null,
   "metadata": {},
   "outputs": [],
   "source": [
    "\"\"\"\n",
    "Plot the battery level of people who made few entries on the last day\n",
    "\n",
    "\"\"\""
   ]
  },
  {
   "cell_type": "code",
   "execution_count": 2,
   "metadata": {},
   "outputs": [
    {
     "data": {
      "text/plain": [
       "'\\nPlot battery level of people who made a lot of entries on the last day\\n\\n'"
      ]
     },
     "execution_count": 2,
     "metadata": {},
     "output_type": "execute_result"
    }
   ],
   "source": [
    "\"\"\"\n",
    "Plot battery level of people who made a lot of entries on the last day\n",
    "\n",
    "\"\"\""
   ]
  },
  {
   "cell_type": "code",
   "execution_count": null,
   "metadata": {},
   "outputs": [],
   "source": [
    "\"\"\"\n",
    "Scatter plot showing number of entries per day vs battery level on that day, colour coded by day\n",
    "\n",
    "\"\"\""
   ]
  }
 ],
 "metadata": {
  "kernelspec": {
   "display_name": "Python 3",
   "language": "python",
   "name": "python3"
  },
  "language_info": {
   "codemirror_mode": {
    "name": "ipython",
    "version": 3
   },
   "file_extension": ".py",
   "mimetype": "text/x-python",
   "name": "python",
   "nbconvert_exporter": "python",
   "pygments_lexer": "ipython3",
   "version": "3.10.12"
  }
 },
 "nbformat": 4,
 "nbformat_minor": 2
}
