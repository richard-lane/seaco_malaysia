{
 "cells": [
  {
   "cell_type": "markdown",
   "metadata": {},
   "source": [
    "Initial Explore of Malaysia data\n",
    "====\n",
    "\n",
    "Let's just see what's there\n",
    "\n",
    "Prerequisites\n",
    "----\n",
    " - map the RDSF network drive to Z:\\\n",
    " - python with the right packages installed"
   ]
  },
  {
   "cell_type": "code",
   "execution_count": 9,
   "metadata": {},
   "outputs": [],
   "source": [
    "import pandas as pd\n",
    "\n",
    "# First let's look at eating time from the smartwatches\n",
    "path = r\"Z:\\SEACO data\\SEACO-CH20_Smartwatch_data\\New_files\\combine_csv_file.csv\"\n",
    "\n",
    "df = pd.read_csv(path)"
   ]
  },
  {
   "cell_type": "markdown",
   "metadata": {},
   "source": [
    "What we're actually interested in is the eating data for one person over time - our dataset contains the data from lots of people.\n",
    "\n",
    "Let's just pick one person and extract the required times and eating events."
   ]
  },
  {
   "cell_type": "code",
   "execution_count": 10,
   "metadata": {},
   "outputs": [],
   "source": [
    "import numpy as np\n",
    "import datetime\n",
    "\n",
    "# Choose one participant based on the code\n",
    "participant_id = 1\n",
    "df = df[df[\"x_id\"] == participant_id]\n",
    "\n",
    "# Find the dates and times\n",
    "dates = df[\"date\"]\n",
    "times = df[\"timestamp\"]\n",
    "\n",
    "# It's easier to plot the unix timestamp instead of a date/time string, so convert dates + times here\n",
    "def timestamp(date: str, time: str) -> int:\n",
    "    \"\"\"\n",
    "    Convert a date and time to seconds since epoch\n",
    "\n",
    "    \"\"\"\n",
    "    assert len(date) == 9\n",
    "    assert len(time) == 8\n",
    "\n",
    "    # Convert to a datetime object \n",
    "    return datetime.datetime.strptime(date + time, r\"%d%b%Y%H:%M:%S\").timestamp()\n",
    "timestamps = [timestamp(date, time) for date, time in zip(dates, times)]\n",
    "\n"
   ]
  },
  {
   "cell_type": "code",
   "execution_count": null,
   "metadata": {},
   "outputs": [],
   "source": []
  }
 ],
 "metadata": {
  "kernelspec": {
   "display_name": "malaysia",
   "language": "python",
   "name": "python3"
  },
  "language_info": {
   "codemirror_mode": {
    "name": "ipython",
    "version": 3
   },
   "file_extension": ".py",
   "mimetype": "text/x-python",
   "name": "python",
   "nbconvert_exporter": "python",
   "pygments_lexer": "ipython3",
   "version": "3.11.3"
  },
  "orig_nbformat": 4
 },
 "nbformat": 4,
 "nbformat_minor": 2
}
