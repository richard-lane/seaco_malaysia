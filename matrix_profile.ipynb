{
 "cells": [
  {
   "cell_type": "markdown",
   "metadata": {},
   "source": [
    "Accelerometer Matrix Profile Example\n",
    "===="
   ]
  },
  {
   "cell_type": "code",
   "execution_count": 6,
   "metadata": {},
   "outputs": [
    {
     "name": "stdout",
     "output_type": "stream",
     "text": [
      "Discarding: {'Catch-up end': 1, 'Catch-up start': 1, 'No catch-up': 2, 'No response': 72}\n",
      "Kept: {'Drink': 35, 'Meal': 37, 'No food/drink': 4, 'Snack': 2}\n"
     ]
    }
   ],
   "source": [
    "# Read in accelerometer and meal time data from one user\n",
    "import pathlib\n",
    "\n",
    "from ema import read, parse\n",
    "\n",
    "device_id = \"6012582\"\n",
    "recording_id = \"0000291121\"\n",
    "participant_id = \"20029\"\n",
    "\n",
    "# Check IDs are the right length\n",
    "assert len(str(device_id)) == 7\n",
    "assert len(str(recording_id)) == 10\n",
    "\n",
    "# TODO Check that the participant agreed to take part in the study\n",
    "# Do this by opening \"Z:\\SEACO data\\SEACO-CH20 qnaire data\\SEACO_CH20_17082022_de_id.csv\"\n",
    "# as a dataframe, finding the row with participant_id = df[\"residents_id\"] and checking\n",
    "# that the value of \"respondent_status\" here == 1\n",
    "# I've checked the one above by hand and it's fine\n",
    "...\n",
    "\n",
    "filename = f\"{device_id}_{recording_id}-{participant_id}.cwa\"\n",
    "filepath = pathlib.Path(rf\"data/{filename}\")\n",
    "\n",
    "# TODO add some code to look for the right file in all the \"Week X\" folders\n",
    "\n",
    "assert filepath.exists()\n",
    "\n",
    "meal_df = read.meal_info(participant_id)\n",
    "allowed_meal_types = {\"Snack\", \"Drink\", \"Meal\", \"No food/drink\"}\n",
    "meal_df = parse.extract_meals(meal_df, allowed_meal_types, verbose=True)\n",
    "\n",
    "accel_df = read.accel_info(str(filepath))"
   ]
  },
  {
   "cell_type": "code",
   "execution_count": 7,
   "metadata": {},
   "outputs": [],
   "source": [
    "# Slice the time series to only keep data near a meal event\n",
    "from importlib import reload\n",
    "reload(parse)\n",
    "\n",
    "meal_times = parse.get_datetime(meal_df[\"date\"], meal_df[\"timestamp\"])"
   ]
  },
  {
   "cell_type": "code",
   "execution_count": null,
   "metadata": {},
   "outputs": [],
   "source": [
    "# Build the matrix profile for these events"
   ]
  },
  {
   "cell_type": "code",
   "execution_count": null,
   "metadata": {},
   "outputs": [],
   "source": [
    "# Plot them"
   ]
  }
 ],
 "metadata": {
  "kernelspec": {
   "display_name": "malaysia310",
   "language": "python",
   "name": "python3"
  },
  "language_info": {
   "codemirror_mode": {
    "name": "ipython",
    "version": 3
   },
   "file_extension": ".py",
   "mimetype": "text/x-python",
   "name": "python",
   "nbconvert_exporter": "python",
   "pygments_lexer": "ipython3",
   "version": "3.10.12"
  },
  "orig_nbformat": 4
 },
 "nbformat": 4,
 "nbformat_minor": 2
}
