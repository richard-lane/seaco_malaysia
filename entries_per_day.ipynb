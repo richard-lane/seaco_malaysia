{
 "cells": [
  {
   "cell_type": "markdown",
   "metadata": {},
   "source": [
    "How many entries were made per day?"
   ]
  },
  {
   "cell_type": "code",
   "execution_count": 1,
   "metadata": {},
   "outputs": [],
   "source": [
    "%load_ext autoreload\n",
    "%autoreload 2"
   ]
  },
  {
   "cell_type": "code",
   "execution_count": 2,
   "metadata": {},
   "outputs": [
    {
     "name": "stderr",
     "output_type": "stream",
     "text": [
      "/home/mh19137/seaco_malaysia/ema/clean.py:189: UserWarning: \u001b[94mLong catchup: not marking Meal at 2022-05-19 09:02:49 as catchup\u001b[0m\n",
      "  warnings.warn(\n"
     ]
    },
    {
     "name": "stdout",
     "output_type": "stream",
     "text": [
      " Open ended catchup at \u001b[92m2022-02-11 20:02:05\u001b[0m ended by No response at \u001b[92m2022-02-12 08:02:11\u001b[0m\n",
      " Open ended catchup at \u001b[92m2022-02-14 20:26:30\u001b[0m ended by No response at \u001b[92m2022-02-15 08:02:16\u001b[0m\n",
      " Open ended catchup at \u001b[93m2022-04-19 08:01:14\u001b[0m ended by No catch-up at \u001b[93m2022-04-19 08:01:17\u001b[0m\n",
      " Open ended catchup at \u001b[91m2022-06-27 15:53:14\u001b[0m ended by Catch-up start at \u001b[91m2022-06-27 15:54:06\u001b[0m\n",
      " Open ended catchup at \u001b[93m2021-12-31 22:11:10\u001b[0m ended by No catch-up at \u001b[93m2022-01-01 08:01:15\u001b[0m\n",
      " Open ended catchup at \u001b[91m2022-05-24 07:25:36\u001b[0m ended by Catch-up start at \u001b[91m2022-05-24 07:26:00\u001b[0m\n",
      " Open ended catchup at \u001b[93m2022-03-21 08:01:57\u001b[0m ended by No catch-up at \u001b[93m2022-03-21 08:02:04\u001b[0m\n",
      " Open ended catchup at \u001b[93m2022-03-07 18:33:30\u001b[0m ended by No catch-up at \u001b[93m2022-03-07 18:33:34\u001b[0m\n",
      " Open ended catchup at \u001b[93m2022-03-07 18:37:08\u001b[0m ended by No catch-up at \u001b[93m2022-03-07 18:37:14\u001b[0m\n",
      " Open ended catchup at \u001b[92m2022-03-07 19:29:23\u001b[0m ended by No response at \u001b[92m2022-03-08 08:02:56\u001b[0m\n",
      " Open ended catchup at \u001b[93m2022-03-08 08:30:40\u001b[0m ended by No catch-up at \u001b[93m2022-03-08 08:31:08\u001b[0m\n",
      " Open ended catchup at \u001b[93m2022-03-08 09:49:20\u001b[0m ended by No catch-up at \u001b[93m2022-03-08 09:49:28\u001b[0m\n",
      " Open ended catchup at \u001b[93m2022-03-09 08:00:59\u001b[0m ended by No catch-up at \u001b[93m2022-03-09 08:01:03\u001b[0m\n",
      " Open ended catchup at \u001b[92m2022-04-28 15:48:57\u001b[0m ended by No response at \u001b[92m2022-04-28 15:50:59\u001b[0m\n",
      " Open ended catchup at \u001b[92m2022-04-28 16:24:21\u001b[0m ended by No response at \u001b[92m2022-05-10 09:53:52\u001b[0m\n",
      " Open ended catchup at \u001b[93m2021-12-05 08:00:54\u001b[0m ended by No catch-up at \u001b[93m2021-12-05 08:00:57\u001b[0m\n",
      " Open ended catchup at \u001b[93m2022-04-04 08:04:36\u001b[0m ended by No catch-up at \u001b[93m2022-04-04 08:04:45\u001b[0m\n",
      " Open ended catchup at \u001b[93m2022-04-04 14:20:29\u001b[0m ended by No catch-up at \u001b[93m2022-04-04 14:23:32\u001b[0m\n",
      " Open ended catchup at \u001b[92m2021-12-23 23:03:50\u001b[0m ended by No response at \u001b[92m2021-12-24 08:02:07\u001b[0m\n",
      " Open ended catchup at \u001b[92m2021-12-24 19:40:45\u001b[0m ended by No response at \u001b[92m2021-12-24 19:49:38\u001b[0m\n",
      " Open ended catchup at \u001b[93m2021-12-15 08:00:55\u001b[0m ended by No catch-up at \u001b[93m2021-12-15 08:01:06\u001b[0m\n",
      " Open ended catchup at \u001b[93m2021-11-09 08:00:19\u001b[0m ended by No catch-up at \u001b[93m2021-11-09 08:00:30\u001b[0m\n",
      " Open ended catchup at \u001b[93m2022-04-06 08:01:23\u001b[0m ended by No catch-up at \u001b[93m2022-04-06 08:02:01\u001b[0m\n",
      " Open ended catchup at \u001b[93m2022-07-12 15:19:19\u001b[0m ended by No catch-up at \u001b[93m2022-07-12 15:19:27\u001b[0m\n",
      " Open ended catchup at \u001b[93m2022-05-12 10:02:47\u001b[0m ended by No catch-up at \u001b[93m2022-05-12 10:03:16\u001b[0m\n",
      " Open ended catchup at \u001b[93m2022-02-16 16:56:14\u001b[0m ended by No catch-up at \u001b[93m2022-02-16 16:56:50\u001b[0m\n",
      "n_open_ended=26\n"
     ]
    }
   ],
   "source": [
    "\"\"\"\n",
    "Make a dataframe showing only whether meals were successfully recorded, and remove nearby ones\n",
    "\n",
    "\"\"\"\n",
    "import pandas as pd\n",
    "from itertools import islice\n",
    "\n",
    "from ema import clean\n",
    "\n",
    "# Read data in\n",
    "meal_df = clean.cleaned_smartwatch(keep_catchups=False)\n",
    "\n",
    "# Collapse meal type to positive/negative response\n",
    "assert set(meal_df[\"meal_type\"].unique()) == {\n",
    "    \"Meal\",\n",
    "    \"Drink\",\n",
    "    \"Snack\",\n",
    "    \"No food/drink\",\n",
    "    \"No response\",\n",
    "}, set(meal_df[\"meal_type\"].unique())\n",
    "meal_df[\"pos_entry\"] = meal_df[\"meal_type\"].isin({\"Meal\", \"Drink\", \"Snack\", \"No Food\"})\n",
    "\n",
    "# Column for day of the study\n",
    "meal_df[\"day\"] = meal_df[\"delta\"].dt.days\n",
    "\n",
    "# Use multiindex\n",
    "meal_df.set_index([\"p_id\", meal_df.index], inplace=True)\n",
    "\n",
    "# Remove duplicates\n",
    "meal_df = meal_df[~meal_df.index.duplicated(keep=\"first\")]\n",
    "\n",
    "# Set index back\n",
    "meal_df.reset_index(inplace=True)\n",
    "meal_df.set_index(\"Datetime\", inplace=True)\n",
    "\n",
    "n_rows = len(meal_df)\n",
    "meal_df[\"keep\"] = True\n",
    "for _, group in meal_df.groupby(\"p_id\"):\n",
    "    for (prev_time, prev_row), (next_time, next_row) in zip(\n",
    "        islice(group.iterrows(), n_rows - 1), islice(group.iterrows(), 1, n_rows)\n",
    "    ):\n",
    "        # If this is the within 2min of the previous entry and they are both True, mark the later ones to remove\n",
    "        if (\n",
    "            next_time - prev_time < pd.Timedelta(minutes=2)\n",
    "            and prev_row[\"pos_entry\"]\n",
    "            and next_row[\"pos_entry\"]\n",
    "        ):\n",
    "            meal_df.loc[next_time, \"keep\"] = False\n",
    "\n",
    "# Remove also No responses at 8am since these are probably missed catchups\n",
    "meal_df.loc[\n",
    "    ((meal_df[\"pos_entry\"] == False) & (meal_df.index.hour == 8)), \"keep\"\n",
    "] = False\n",
    "\n",
    "meal_df = meal_df[meal_df[\"keep\"]]\n",
    "meal_df.drop(columns=[\"keep\"], inplace=True)"
   ]
  },
  {
   "cell_type": "code",
   "execution_count": 3,
   "metadata": {},
   "outputs": [],
   "source": [
    "\"\"\"\n",
    "Find how many entries were made per day\n",
    "\n",
    "\"\"\"\n",
    "import numpy as np\n",
    "\n",
    "pos_entries_per_day = []\n",
    "neg_entries_per_day = []\n",
    "total_entries_per_day = []\n",
    "pos_days = []\n",
    "neg_days = []\n",
    "total_days = []\n",
    "for (_, day), group in meal_df.groupby([\"p_id\", \"day\"]):\n",
    "\n",
    "    value_counts = group[\"pos_entry\"].value_counts()\n",
    "    try:\n",
    "        pos_entries_per_day.append(value_counts[True])\n",
    "        pos_days.append(day)\n",
    "    except KeyError:\n",
    "        ...\n",
    "\n",
    "    try:\n",
    "        neg_entries_per_day.append(value_counts[False])\n",
    "        neg_days.append(day)\n",
    "    except KeyError:\n",
    "        ...\n",
    "    \n",
    "    total_entries_per_day.append(len(group))\n",
    "    total_days.append(day)\n",
    "    \n",
    "\n",
    "pos_entries_per_day = np.array(pos_entries_per_day)\n",
    "neg_entries_per_day = np.array(neg_entries_per_day)\n",
    "pos_days = np.array(pos_days)\n",
    "neg_days = np.array(neg_days)\n",
    "total_entries_per_day = np.array(total_entries_per_day)\n",
    "total_days = np.array(total_days)"
   ]
  },
  {
   "cell_type": "code",
   "execution_count": 22,
   "metadata": {},
   "outputs": [
    {
     "name": "stdout",
     "output_type": "stream",
     "text": [
      "Fraction 85.69%\n",
      "0.11703958691910499\n",
      "0.04819277108433735\n",
      "0.6919104991394148\n"
     ]
    }
   ],
   "source": [
    "\"\"\"\n",
    "Find the mean compliance rate\n",
    "\n",
    "\"\"\"\n",
    "n_participants = len(meal_df[\"p_id\"].unique())\n",
    "n_days = len(meal_df[\"day\"].unique())\n",
    "\n",
    "expected_per_day = 12\n",
    "expected = expected_per_day * n_days * n_participants\n",
    "actual = total_entries_per_day.sum()\n",
    "\n",
    "fraction = actual / expected\n",
    "\n",
    "print(f\"Fraction {100 * fraction:.2f}%\")\n",
    "\n",
    "\n",
    "print((total_entries_per_day > 12).sum() / n_days / n_participants)\n",
    "print((total_entries_per_day < 12).sum() / n_days / n_participants)\n",
    "print((total_entries_per_day == 12).sum() / n_days / n_participants)"
   ]
  },
  {
   "cell_type": "code",
   "execution_count": 11,
   "metadata": {},
   "outputs": [
    {
     "data": {
      "image/png": "[encoded data removed]",
      "text/plain": [
       "<Figure size 800x800 with 1 Axes>"
      ]
     },
     "metadata": {},
     "output_type": "display_data"
    }
   ],
   "source": [
    "\"\"\"\n",
    "Boxplot of how many positive/negative/total entries were made per day\n",
    "\n",
    "\"\"\"\n",
    "\n",
    "import matplotlib.pyplot as plt\n",
    "from matplotlib.patches import Patch\n",
    "\n",
    "fig, axis = plt.subplots(figsize=(8, 8))\n",
    "\n",
    "box_kw = {\"widths\": 0.1, \"showfliers\": False, \"patch_artist\": True}\n",
    "days = np.arange(1, 8)\n",
    "\n",
    "for day in days:\n",
    "    pos_box = axis.boxplot(\n",
    "        pos_entries_per_day[pos_days == day],\n",
    "        positions=[day - box_kw[\"widths\"]],\n",
    "        **box_kw,\n",
    "    )\n",
    "    for box in pos_box[\"boxes\"]:\n",
    "        box.set_facecolor(\"b\")\n",
    "\n",
    "    neg_box = axis.boxplot(\n",
    "        neg_entries_per_day[neg_days == day],\n",
    "        positions=[day + box_kw[\"widths\"]],\n",
    "        **box_kw,\n",
    "    )\n",
    "    for box in neg_box[\"boxes\"]:\n",
    "        box.set_facecolor(\"r\")\n",
    "\n",
    "    total_box = axis.boxplot(\n",
    "        total_entries_per_day[total_days == day], positions=[day], **box_kw\n",
    "    )\n",
    "    for box in total_box[\"boxes\"]:\n",
    "        box.set_facecolor(\"k\")\n",
    "\n",
    "axis.set_xticks(days, days)\n",
    "\n",
    "axis.set_xlabel(\"Day\")\n",
    "axis.set_ylabel(\"N entries\")\n",
    "\n",
    "axis.legend(\n",
    "    [Patch(color=\"b\"), Patch(color=\"r\"), Patch(color=\"k\")],\n",
    "    [\"Positive\", \"Negative\", \"Total\"],\n",
    "    loc=\"upper right\",\n",
    ")\n",
    "\n",
    "fig.suptitle(\"Number of smartwatch entries per day\")\n",
    "axis.set_title(\"We expect to have 12 entries per day\")\n",
    "\n",
    "fig.tight_layout()\n",
    "\n",
    "fig.savefig(\"img/entries_per_day_boxplot.png\")"
   ]
  }
 ],
 "metadata": {
  "kernelspec": {
   "display_name": "Python 3",
   "language": "python",
   "name": "python3"
  },
  "language_info": {
   "codemirror_mode": {
    "name": "ipython",
    "version": 3
   },
   "file_extension": ".py",
   "mimetype": "text/x-python",
   "name": "python",
   "nbconvert_exporter": "python",
   "pygments_lexer": "ipython3",
   "version": "3.10.12"
  }
 },
 "nbformat": 4,
 "nbformat_minor": 2
}
