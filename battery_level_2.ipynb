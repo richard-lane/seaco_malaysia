{
 "cells": [
  {
   "cell_type": "markdown",
   "metadata": {},
   "source": [
    "Battery level study, but only interesting things\n",
    "===="
   ]
  },
  {
   "cell_type": "code",
   "execution_count": 1,
   "metadata": {},
   "outputs": [],
   "source": [
    "%load_ext autoreload\n",
    "%autoreload 2"
   ]
  },
  {
   "cell_type": "code",
   "execution_count": 3,
   "metadata": {},
   "outputs": [],
   "source": [
    "\"\"\"\n",
    "Copy files from RDSF to a local directory so I can read them\n",
    "\n",
    "\"\"\"\n",
    "\n",
    "from ema import read\n",
    "\n",
    "read.copy_battery_files()"
   ]
  },
  {
   "cell_type": "code",
   "execution_count": 9,
   "metadata": {},
   "outputs": [
    {
     "name": "stderr",
     "output_type": "stream",
     "text": [
      "100%|██████████| 77/77 [00:00<00:00, 422.67it/s]\n"
     ]
    },
    {
     "name": "stdout",
     "output_type": "stream",
     "text": [
      "/home/mh19137/seaco_malaysia/data/battery_dbs/EMADATA_22904_20211209.db failed with Execution failed on sql 'SELECT * FROM Event;': database disk image is malformed\n",
      "/home/mh19137/seaco_malaysia/data/battery_dbs/EMADATA_20050_20220412.db failed with Execution failed on sql 'SELECT * FROM Event;': database disk image is malformed\n",
      "/home/mh19137/seaco_malaysia/data/battery_dbs/EMADATA_15082_20220420.db failed with Execution failed on sql 'SELECT * FROM Event;': database disk image is malformed\n",
      "/home/mh19137/seaco_malaysia/data/battery_dbs/EMADATA_638_20220428.db failed with Execution failed on sql 'SELECT * FROM Event;': database disk image is malformed\n",
      "/home/mh19137/seaco_malaysia/data/battery_dbs/EMADATA_35272_20220520.db failed with Execution failed on sql 'SELECT * FROM Event;': database disk image is malformed\n",
      "/home/mh19137/seaco_malaysia/data/battery_dbs/EMADATA_27345_20220615.db failed with Execution failed on sql 'SELECT * FROM Event;': database disk image is malformed\n",
      "/home/mh19137/seaco_malaysia/data/battery_dbs/EMADATA_29061_20220628.db failed with Execution failed on sql 'SELECT * FROM Event;': database disk image is malformed\n",
      "/home/mh19137/seaco_malaysia/data/battery_dbs/EMADATA_4260_20211221.db failed with Execution failed on sql 'SELECT * FROM Event;': database disk image is malformed\n",
      "/home/mh19137/seaco_malaysia/data/battery_dbs/EMADATA_9359_20220719.db failed with Execution failed on sql 'SELECT * FROM Event;': database disk image is malformed\n",
      "/home/mh19137/seaco_malaysia/data/battery_dbs/EMADATA_23532_20220204.db failed with Execution failed on sql 'SELECT * FROM Event;': database disk image is malformed\n",
      "/home/mh19137/seaco_malaysia/data/battery_dbs/EMADATA_3017_20220204.db failed with Execution failed on sql 'SELECT * FROM Event;': database disk image is malformed\n"
     ]
    },
    {
     "data": {
      "text/html": [
       "<div>\n",
       "<style scoped>\n",
       "    .dataframe tbody tr th:only-of-type {\n",
       "        vertical-align: middle;\n",
       "    }\n",
       "\n",
       "    .dataframe tbody tr th {\n",
       "        vertical-align: top;\n",
       "    }\n",
       "\n",
       "    .dataframe thead th {\n",
       "        text-align: right;\n",
       "    }\n",
       "</style>\n",
       "<table border=\"1\" class=\"dataframe\">\n",
       "  <thead>\n",
       "    <tr style=\"text-align: right;\">\n",
       "      <th></th>\n",
       "      <th>p_id</th>\n",
       "      <th>battery_lvl</th>\n",
       "      <th>delta</th>\n",
       "      <th>charges</th>\n",
       "      <th>discharges</th>\n",
       "    </tr>\n",
       "    <tr>\n",
       "      <th>Datetime</th>\n",
       "      <th></th>\n",
       "      <th></th>\n",
       "      <th></th>\n",
       "      <th></th>\n",
       "      <th></th>\n",
       "    </tr>\n",
       "  </thead>\n",
       "  <tbody>\n",
       "    <tr>\n",
       "      <th>2021-12-01 08:00:52</th>\n",
       "      <td>15402</td>\n",
       "      <td>99</td>\n",
       "      <td>1 days 08:00:52</td>\n",
       "      <td>5</td>\n",
       "      <td>6</td>\n",
       "    </tr>\n",
       "    <tr>\n",
       "      <th>2021-12-01 09:02:53</th>\n",
       "      <td>15402</td>\n",
       "      <td>97</td>\n",
       "      <td>1 days 09:02:53</td>\n",
       "      <td>5</td>\n",
       "      <td>6</td>\n",
       "    </tr>\n",
       "    <tr>\n",
       "      <th>2021-12-01 10:04:53</th>\n",
       "      <td>15402</td>\n",
       "      <td>96</td>\n",
       "      <td>1 days 10:04:53</td>\n",
       "      <td>5</td>\n",
       "      <td>6</td>\n",
       "    </tr>\n",
       "    <tr>\n",
       "      <th>2021-12-01 11:06:53</th>\n",
       "      <td>15402</td>\n",
       "      <td>93</td>\n",
       "      <td>1 days 11:06:53</td>\n",
       "      <td>5</td>\n",
       "      <td>6</td>\n",
       "    </tr>\n",
       "    <tr>\n",
       "      <th>2021-12-01 12:06:59</th>\n",
       "      <td>15402</td>\n",
       "      <td>91</td>\n",
       "      <td>1 days 12:06:59</td>\n",
       "      <td>5</td>\n",
       "      <td>6</td>\n",
       "    </tr>\n",
       "  </tbody>\n",
       "</table>\n",
       "</div>"
      ],
      "text/plain": [
       "                      p_id  battery_lvl           delta  charges  discharges\n",
       "Datetime                                                                    \n",
       "2021-12-01 08:00:52  15402           99 1 days 08:00:52        5           6\n",
       "2021-12-01 09:02:53  15402           97 1 days 09:02:53        5           6\n",
       "2021-12-01 10:04:53  15402           96 1 days 10:04:53        5           6\n",
       "2021-12-01 11:06:53  15402           93 1 days 11:06:53        5           6\n",
       "2021-12-01 12:06:59  15402           91 1 days 12:06:59        5           6"
      ]
     },
     "execution_count": 9,
     "metadata": {},
     "output_type": "execute_result"
    }
   ],
   "source": [
    "\"\"\"\n",
    "Create a dataframe of all the battery data\n",
    "\n",
    "\"\"\"\n",
    "\n",
    "battery_df = read.battery_lvl_df()\n",
    "battery_df.head()"
   ]
  }
 ],
 "metadata": {
  "kernelspec": {
   "display_name": "Python 3",
   "language": "python",
   "name": "python3"
  },
  "language_info": {
   "codemirror_mode": {
    "name": "ipython",
    "version": 3
   },
   "file_extension": ".py",
   "mimetype": "text/x-python",
   "name": "python",
   "nbconvert_exporter": "python",
   "pygments_lexer": "ipython3",
   "version": "3.10.12"
  }
 },
 "nbformat": 4,
 "nbformat_minor": 2
}
