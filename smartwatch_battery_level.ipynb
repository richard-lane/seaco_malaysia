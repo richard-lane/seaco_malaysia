{
 "cells": [
  {
   "cell_type": "code",
   "execution_count": 1,
   "metadata": {},
   "outputs": [],
   "source": [
    "%load_ext autoreload\n",
    "%autoreload 2"
   ]
  },
  {
   "cell_type": "code",
   "execution_count": 2,
   "metadata": {},
   "outputs": [
    {
     "name": "stderr",
     "output_type": "stream",
     "text": [
      "100%|██████████| 77/77 [00:28<00:00,  2.70it/s]\n"
     ]
    }
   ],
   "source": [
    "\"\"\"\n",
    "Copy all the files to a local directory, because I don't have the right permissions on RDSF\n",
    "\n",
    "\"\"\"\n",
    "import os\n",
    "import yaml\n",
    "import shutil\n",
    "import pathlib\n",
    "from tqdm import tqdm\n",
    "\n",
    "# Create an output file directory\n",
    "battery_dir = \"data/battery_dbs/\"\n",
    "if not os.path.isdir(battery_dir):\n",
    "    os.makedirs(battery_dir)\n",
    "\n",
    "# Find all the files\n",
    "with open(\"config.yaml\", \"r\") as stream:\n",
    "    dirname = \"/mnt/z/\" + yaml.safe_load(stream)[\"smartwatch_dbs_dir\"]\n",
    "dirname = pathlib.Path(dirname)\n",
    "assert dirname.exists()\n",
    "\n",
    "# Recurse into all \"Week X\" directories, extracting all .db files\n",
    "source_files = [file for file in dirname.glob(\"Week*/**/*.db\")]\n",
    "dest_files = [os.path.join(battery_dir, file.name) for file in source_files]\n",
    "\n",
    "# Check that they don't all exist\n",
    "if not all([os.path.isfile(dest) for dest in dest_files]):\n",
    "    for source, dest in tqdm(zip(source_files, dest_files), total=len(source_files)):\n",
    "        assert not os.path.isfile(dest), f\"Duplicate name {source}\"\n",
    "        shutil.copyfile(source, dest)"
   ]
  },
  {
   "cell_type": "code",
   "execution_count": 43,
   "metadata": {},
   "outputs": [
    {
     "name": "stderr",
     "output_type": "stream",
     "text": [
      "100%|██████████| 77/77 [00:00<00:00, 1155.03it/s]"
     ]
    },
    {
     "name": "stdout",
     "output_type": "stream",
     "text": [
      "data/battery_dbs/EMADATA_15082_20220420.db failed with Execution failed on sql 'SELECT * FROM Event;': database disk image is malformed\n",
      "data/battery_dbs/EMADATA_20050_20220412.db failed with Execution failed on sql 'SELECT * FROM Event;': database disk image is malformed\n",
      "data/battery_dbs/EMADATA_29061_20220628.db failed with Execution failed on sql 'SELECT * FROM Event;': database disk image is malformed\n",
      "data/battery_dbs/EMADATA_4260_20211221.db failed with Execution failed on sql 'SELECT * FROM Event;': database disk image is malformed\n",
      "data/battery_dbs/EMADATA_27345_20220615.db failed with Execution failed on sql 'SELECT * FROM Event;': database disk image is malformed\n",
      "data/battery_dbs/EMADATA_35272_20220520.db failed with Execution failed on sql 'SELECT * FROM Event;': database disk image is malformed\n",
      "data/battery_dbs/EMADATA_3017_20220204.db failed with Execution failed on sql 'SELECT * FROM Event;': database disk image is malformed\n",
      "data/battery_dbs/EMADATA_23532_20220204.db failed with Execution failed on sql 'SELECT * FROM Event;': database disk image is malformed\n",
      "data/battery_dbs/EMADATA_22904_20211209.db failed with Execution failed on sql 'SELECT * FROM Event;': database disk image is malformed\n",
      "data/battery_dbs/EMADATA_638_20220428.db failed with Execution failed on sql 'SELECT * FROM Event;': database disk image is malformed\n",
      "data/battery_dbs/EMADATA_9359_20220719.db failed with Execution failed on sql 'SELECT * FROM Event;': database disk image is malformed\n"
     ]
    },
    {
     "name": "stderr",
     "output_type": "stream",
     "text": [
      "\n"
     ]
    }
   ],
   "source": [
    "\"\"\"\n",
    "Create a csv of p_id, timestamp and battery level\n",
    "\n",
    "\"\"\"\n",
    "import sqlite3\n",
    "import pandas as pd\n",
    "\n",
    "\n",
    "for path in tqdm(dest_files):\n",
    "    # Get the p_id from the path\n",
    "    path = pathlib.Path(path)\n",
    "    p_id = path.name.split(\"_\")[1]\n",
    "\n",
    "    # Open the db\n",
    "    conn = sqlite3.connect(path, uri=True)\n",
    "\n",
    "    # Get the battery level\n",
    "    try:\n",
    "        df = pd.read_sql_query(\"SELECT * FROM Event;\", conn)\n",
    "\n",
    "    except pd.io.sql.DatabaseError as e:\n",
    "        print(f\"{path} failed with {e}\")\n",
    "\n",
    "    # conn.execute(\"SELECT * FROM Event\")\n",
    "    # battery = c.fetchall()\n",
    "    # assert len(battery) == 1\n",
    "    # battery = battery[0][1]\n",
    "\n",
    "    # # Get the timestamp\n",
    "    # c.execute(\"SELECT * FROM battery_timestamp\")\n",
    "    # timestamp = c.fetchall()\n",
    "    # assert len(timestamp) == 1\n",
    "    # timestamp = timestamp[0][1]\n",
    "\n",
    "    # # Write to a csv\n",
    "    # with open(os.path.join(battery_dir, \"battery.csv\"), \"a\") as f:\n",
    "    #     f.write(f\"{p_id},{timestamp},{battery}\\n\")\n",
    "\n",
    "    # Close the db\n",
    "    conn.close()"
   ]
  },
  {
   "cell_type": "markdown",
   "metadata": {},
   "source": []
  },
  {
   "cell_type": "code",
   "execution_count": 4,
   "metadata": {},
   "outputs": [
    {
     "data": {
      "text/plain": [
       "'\\nFind the start day of each participant\\n\\n'"
      ]
     },
     "execution_count": 4,
     "metadata": {},
     "output_type": "execute_result"
    }
   ],
   "source": [
    "\"\"\"\n",
    "Find the start day of each participant\n",
    "\n",
    "\"\"\""
   ]
  },
  {
   "cell_type": "code",
   "execution_count": 5,
   "metadata": {},
   "outputs": [
    {
     "data": {
      "text/plain": [
       "'\\nFind the delta for each participant\\n\\n'"
      ]
     },
     "execution_count": 5,
     "metadata": {},
     "output_type": "execute_result"
    }
   ],
   "source": [
    "\"\"\"\n",
    "Find the delta for each participant\n",
    "\n",
    "\"\"\""
   ]
  },
  {
   "cell_type": "code",
   "execution_count": 6,
   "metadata": {},
   "outputs": [
    {
     "data": {
      "text/plain": [
       "'\\nPlot battery level against delta\\n\\n'"
      ]
     },
     "execution_count": 6,
     "metadata": {},
     "output_type": "execute_result"
    }
   ],
   "source": [
    "\"\"\"\n",
    "Plot battery level against delta\n",
    "\n",
    "\"\"\""
   ]
  },
  {
   "cell_type": "code",
   "execution_count": 7,
   "metadata": {},
   "outputs": [
    {
     "data": {
      "text/plain": [
       "'\\nFind which participants made 0/few entries on the last day of the study\\n\\n'"
      ]
     },
     "execution_count": 7,
     "metadata": {},
     "output_type": "execute_result"
    }
   ],
   "source": [
    "\"\"\"\n",
    "Find which participants made 0/few entries on the last day of the study\n",
    "\n",
    "\"\"\""
   ]
  },
  {
   "cell_type": "code",
   "execution_count": 8,
   "metadata": {},
   "outputs": [
    {
     "data": {
      "text/plain": [
       "'\\nPlot the battery level of people who made few entries on the last day\\n\\n'"
      ]
     },
     "execution_count": 8,
     "metadata": {},
     "output_type": "execute_result"
    }
   ],
   "source": [
    "\"\"\"\n",
    "Plot the battery level of people who made few entries on the last day\n",
    "\n",
    "\"\"\""
   ]
  },
  {
   "cell_type": "code",
   "execution_count": 9,
   "metadata": {},
   "outputs": [
    {
     "data": {
      "text/plain": [
       "'\\nPlot battery level of people who made a lot of entries on the last day\\n\\n'"
      ]
     },
     "execution_count": 9,
     "metadata": {},
     "output_type": "execute_result"
    }
   ],
   "source": [
    "\"\"\"\n",
    "Plot battery level of people who made a lot of entries on the last day\n",
    "\n",
    "\"\"\""
   ]
  },
  {
   "cell_type": "code",
   "execution_count": 10,
   "metadata": {},
   "outputs": [
    {
     "data": {
      "text/plain": [
       "'\\nScatter plot showing number of entries per day vs battery level on that day, colour coded by day\\n\\n'"
      ]
     },
     "execution_count": 10,
     "metadata": {},
     "output_type": "execute_result"
    }
   ],
   "source": [
    "\"\"\"\n",
    "Scatter plot showing number of entries per day vs battery level on that day, colour coded by day\n",
    "\n",
    "\"\"\""
   ]
  }
 ],
 "metadata": {
  "kernelspec": {
   "display_name": "Python 3",
   "language": "python",
   "name": "python3"
  },
  "language_info": {
   "codemirror_mode": {
    "name": "ipython",
    "version": 3
   },
   "file_extension": ".py",
   "mimetype": "text/x-python",
   "name": "python",
   "nbconvert_exporter": "python",
   "pygments_lexer": "ipython3",
   "version": "3.10.12"
  }
 },
 "nbformat": 4,
 "nbformat_minor": 2
}
