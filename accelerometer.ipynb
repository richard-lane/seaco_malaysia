{
 "cells": [
  {
   "cell_type": "markdown",
   "metadata": {},
   "source": [
    "Acceleromter Stuff\n",
    "====\n",
    "Initial investigation"
   ]
  },
  {
   "cell_type": "code",
   "execution_count": 1,
   "metadata": {},
   "outputs": [],
   "source": [
    "\"\"\" Find the accelerometer file \"\"\"\n",
    "import pathlib\n",
    "\n",
    "device_id = \"6012582\"\n",
    "recording_id = \"0000291121\"\n",
    "participant_id = \"20029\"\n",
    "\n",
    "# Check IDs are the right length\n",
    "assert len(str(device_id)) == 7\n",
    "assert len(str(recording_id)) == 10\n",
    "\n",
    "# TODO Check that the participant agreed to take part in the study\n",
    "# Do this by opening \"Z:\\SEACO data\\SEACO-CH20 qnaire data\\SEACO_CH20_17082022_de_id.csv\"\n",
    "# as a dataframe, finding the row with participant_id = df[\"residents_id\"] and checking\n",
    "# that the value of \"respondent_status\" here == 1\n",
    "# I've checked the one above by hand and it's fine\n",
    "...\n",
    "\n",
    "filename = f\"{device_id}_{recording_id}-{participant_id}.cwa\"\n",
    "# Windows path to RDSF mount on Z:\n",
    "# Let's hope it's in the Week 1 folder\n",
    "filepath = pathlib.Path(fr\"Z:\\SEACO data\\Downloads\\AX6 Activity Monitor\\Week 1\\{filename}\")\n",
    "\n",
    "# TODO add some code to look for the right file in all the \"Week X\" folders\n",
    "\n",
    "assert filepath.exists()"
   ]
  },
  {
   "cell_type": "code",
   "execution_count": 15,
   "metadata": {},
   "outputs": [
    {
     "name": "stdout",
     "output_type": "stream",
     "text": [
      "      x_id timestamp    meal_type portion_size      utensil     location  \\\n",
      "6762     1  16:30:32  No catch-up  No response  No response  No response   \n",
      "6763     2  19:30:51  No response  No response  No response  No response   \n",
      "6764     3  20:09:59  No response  No response  No response  No response   \n",
      "6765     4  16:25:45  No response  No response  No response  No response   \n",
      "6766     5  17:27:45  No response  No response  No response  No response   \n",
      "...    ...       ...          ...          ...          ...          ...   \n",
      "6911   150  10:04:43         Meal        Small   Fork/spoon         Home   \n",
      "6912   151  10:04:47        Drink        Small  No response         Home   \n",
      "6913   152  10:04:50        Drink        Large  No response         Home   \n",
      "6914   153  11:06:51  No response  No response  No response  No response   \n",
      "6915   154  12:08:51  No response  No response  No response  No response   \n",
      "\n",
      "           date   week_day   p_id ramadanstart ramadanend firstdate  lastdate  \\\n",
      "6762  04may2021    Tuesday  20029    03apr2022  01may2022  3 May 21  7 Dec 21   \n",
      "6763  03may2021     Monday  20029    03apr2022  01may2022  3 May 21  7 Dec 21   \n",
      "6764  21jul2021  Wednesday  20029    03apr2022  01may2022  3 May 21  7 Dec 21   \n",
      "6765  21aug2021   Saturday  20029    03apr2022  01may2022  3 May 21  7 Dec 21   \n",
      "6766  21aug2021   Saturday  20029    03apr2022  01may2022  3 May 21  7 Dec 21   \n",
      "...         ...        ...    ...          ...        ...       ...       ...   \n",
      "6911  07dec2021    Tuesday  20029    03apr2022  01may2022  3 May 21  7 Dec 21   \n",
      "6912  07dec2021    Tuesday  20029    03apr2022  01may2022  3 May 21  7 Dec 21   \n",
      "6913  07dec2021    Tuesday  20029    03apr2022  01may2022  3 May 21  7 Dec 21   \n",
      "6914  07dec2021    Tuesday  20029    03apr2022  01may2022  3 May 21  7 Dec 21   \n",
      "6915  07dec2021    Tuesday  20029    03apr2022  01may2022  3 May 21  7 Dec 21   \n",
      "\n",
      "      ramadanflag_whole_period  ramadanflag_part_period  \n",
      "6762                         0                        0  \n",
      "6763                         0                        0  \n",
      "6764                         0                        0  \n",
      "6765                         0                        0  \n",
      "6766                         0                        0  \n",
      "...                        ...                      ...  \n",
      "6911                         0                        0  \n",
      "6912                         0                        0  \n",
      "6913                         0                        0  \n",
      "6914                         0                        0  \n",
      "6915                         0                        0  \n",
      "\n",
      "[154 rows x 15 columns]\n"
     ]
    }
   ],
   "source": [
    "\"\"\" Find the smartwatch data from the combined smartwatch file \"\"\"\n",
    "import pandas as pd\n",
    "\n",
    "def meal_info(participant_id) -> pd.DataFrame:\n",
    "    \"\"\" Get the mealtime info for a participant \"\"\"\n",
    "    p_id = int(participant_id)\n",
    "    path = r\"Z:\\SEACO data\\SEACO-CH20_Smartwatch_data\\New_files\\combine_csv_file.csv\"\n",
    "    df = pd.read_csv(path)\n",
    "\n",
    "    return df[df[\"p_id\"] == p_id]\n",
    "\n",
    "meal_df = meal_info(participant_id)\n",
    "print(meal_df)"
   ]
  },
  {
   "cell_type": "code",
   "execution_count": 2,
   "metadata": {},
   "outputs": [],
   "source": [
    "\"\"\" Open this file \"\"\"\n",
    "from openmovement.load import CwaData\n",
    "\n",
    "with CwaData(str(filepath), include_accel=True, include_gyro=True) as cwa_data:\n",
    "    samples = cwa_data.get_samples()"
   ]
  },
  {
   "cell_type": "code",
   "execution_count": 12,
   "metadata": {},
   "outputs": [],
   "source": [
    "\"\"\" Get the moving averages of acceleration and times \"\"\"\n",
    "import datetime\n",
    "import numpy as np\n",
    "from scipy.signal import convolve\n",
    "\n",
    "times = samples[\"time\"]\n",
    "accel = np.sqrt(np.add.reduce([samples[f\"accel_{p}\"] ** 2 for p in (\"x\", \"y\", \"z\")]))\n",
    "\n",
    "# Smooth dates and times\n",
    "def moving_avg(array: np.ndarray, width: int):\n",
    "    \"\"\" Use FFT to convolve an array with a rectangular window \"\"\"\n",
    "    return convolve(array, np.ones(width) / width, method=\"fft\", mode=\"valid\")\n",
    "\n",
    "# 100Hz data rate so if we make the window 500 elements then we've got 5 second averages\n",
    "width = 500\n",
    "\n",
    "# Acceleration is just a number\n",
    "smooth_accel = moving_avg(accel, 500)\n",
    "\n",
    "# Times are datetime objects so we need to do something more complicated\n",
    "# Get the first time, get the time deltas from this in ms, find the moving avg of time deltas and then add this back to the initial time\n",
    "initial_time = times[0]\n",
    "timedeltas = (times - initial_time) / datetime.timedelta(milliseconds=1)\n",
    "\n",
    "smooth_deltas = moving_avg(timedeltas, 500)\n",
    "smooth_times = initial_time + datetime.timedelta(milliseconds=1) * smooth_deltas\n"
   ]
  },
  {
   "cell_type": "code",
   "execution_count": 16,
   "metadata": {},
   "outputs": [],
   "source": [
    "\"\"\" Plot the smoothed times \"\"\"\n",
    "import matplotlib.pyplot as plt\n",
    "\n",
    "fig, axes = plt.subplots(figsize=(15, 5))\n",
    "plt.plot(smooth_times, smooth_accel, \"r\", linewidth=0.1)\n",
    "plt.plot(times, accel, \"k\", alpha=0.5, linewidth=0.1)\n",
    "\n",
    "plt.show()"
   ]
  },
  {
   "cell_type": "code",
   "execution_count": null,
   "metadata": {},
   "outputs": [],
   "source": [
    "\"\"\" Plot the overall magnitude of the accelration as a function of time \"\"\"\n",
    "fig, axes = plt.subplots(figsize=(12, 4))\n",
    "axes.plot(times, accel)\n",
    "\n",
    "# Set axis label rotation\n",
    "labels = axes.set_xticklabels(axes.get_xticklabels(), rotation=45, ha=\"right\")\n",
    "\n",
    "# Shade nights (10pm-6am)\n",
    "dates = [label.get_text() for label in labels]\n",
    "\n",
    "sunrise = [datetime.datetime.strptime(date + \"06\", r\"%Y-%m-%d%H\") for date in dates]\n",
    "sunset = [datetime.datetime.strptime(date + \"22\", r\"%Y-%m-%d%H\") for date in dates]\n",
    "\n",
    "for start, end in zip(sunset, sunrise):\n",
    "    ylim = axes.get_ylim()\n",
    "    axes.fill_betweenx(ylim, [start - datetime.timedelta(days=1)] * 2, [end] * 2, color=\"r\", alpha=0.3)\n",
    "    axes.set_ylim(ylim)\n",
    "\n",
    "axes.set_ylabel(\"Total acceleration\")\n",
    "\n",
    "fig.tight_layout()"
   ]
  },
  {
   "cell_type": "code",
   "execution_count": null,
   "metadata": {},
   "outputs": [],
   "source": [
    "\"\"\" Show also meal times \"\"\"\n",
    "fig"
   ]
  },
  {
   "cell_type": "code",
   "execution_count": null,
   "metadata": {},
   "outputs": [],
   "source": []
  }
 ],
 "metadata": {
  "kernelspec": {
   "display_name": "malaysia",
   "language": "python",
   "name": "python3"
  },
  "language_info": {
   "codemirror_mode": {
    "name": "ipython",
    "version": 3
   },
   "file_extension": ".py",
   "mimetype": "text/x-python",
   "name": "python",
   "nbconvert_exporter": "python",
   "pygments_lexer": "ipython3",
   "version": "3.11.3"
  },
  "orig_nbformat": 4
 },
 "nbformat": 4,
 "nbformat_minor": 2
}
