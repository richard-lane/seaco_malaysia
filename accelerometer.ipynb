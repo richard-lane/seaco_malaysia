{
 "cells": [
  {
   "cell_type": "markdown",
   "metadata": {},
   "source": [
    "Acceleromter Stuff\n",
    "====\n",
    "Initial investigation"
   ]
  },
  {
   "cell_type": "code",
   "execution_count": 2,
   "metadata": {},
   "outputs": [],
   "source": [
    "from ema import read, parse, analysis"
   ]
  },
  {
   "cell_type": "code",
   "execution_count": 3,
   "metadata": {},
   "outputs": [],
   "source": [
    "\"\"\" Find the accelerometer file \"\"\"\n",
    "device_id = \"6012582\"\n",
    "recording_id = \"0000291121\"\n",
    "participant_id = \"20029\"\n",
    "\n",
    "# Windows path to RDSF mount on Z:\n",
    "# Let's hope it's in the Week 1 folder\n",
    "accel_path = read.accel_filepath(device_id, recording_id, participant_id)\n",
    "\n",
    "assert accel_path.exists()"
   ]
  },
  {
   "cell_type": "code",
   "execution_count": 4,
   "metadata": {},
   "outputs": [
    {
     "name": "stdout",
     "output_type": "stream",
     "text": [
      "Discarding: {'Catch-up end': 1, 'Catch-up start': 1, 'No catch-up': 2, 'No response': 72}\n",
      "Kept: {'Drink': 35, 'Meal': 37, 'No food/drink': 4, 'Snack': 2}\n"
     ]
    }
   ],
   "source": [
    "\"\"\" Find the smartwatch data from the combined smartwatch file \"\"\"\n",
    "meal_df = read.meal_info(participant_id)\n",
    "allowed_meal_types = {\"Snack\", \"Drink\", \"Meal\", \"No food/drink\"}\n",
    "meal_df = parse.extract_meals(meal_df, allowed_meal_types, verbose=True)"
   ]
  },
  {
   "cell_type": "code",
   "execution_count": 5,
   "metadata": {},
   "outputs": [],
   "source": [
    "\"\"\" Read the accelerometry file \"\"\"\n",
    "samples = read.accel_info(str(accel_path))"
   ]
  },
  {
   "cell_type": "code",
   "execution_count": 9,
   "metadata": {},
   "outputs": [],
   "source": [
    "\"\"\" Plot each component of acceleration and the meal times \"\"\"\n",
    "import matplotlib.pyplot as plt\n",
    "\n",
    "times = samples[\"time\"]\n",
    "\n",
    "fig, axes = plt.subplots(\n",
    "    7,\n",
    "    1,\n",
    "    figsize=(14, 7),\n",
    "    sharex=True,\n",
    ")\n",
    "\n",
    "column_titles = [f\"accel_{p}\" for p in (\"x\", \"y\", \"z\")] + [\n",
    "    f\"gyro_{p}\" for p in (\"x\", \"y\", \"z\")\n",
    "]\n",
    "\n",
    "for col, axis in zip(column_titles, axes):\n",
    "    axis.plot(times, samples[col], linewidth=0.3, color=\"k\")\n",
    "    axis.set_ylabel(col)\n",
    "\n",
    "# Plot also the meal times on the bottom axis\n",
    "\n",
    "fig.tight_layout()\n",
    "fig.subplots_adjust(hspace=0.0)\n",
    "\n",
    "plt.show()"
   ]
  },
  {
   "cell_type": "code",
   "execution_count": null,
   "metadata": {},
   "outputs": [],
   "source": []
  }
 ],
 "metadata": {
  "kernelspec": {
   "display_name": "malaysia",
   "language": "python",
   "name": "python3"
  },
  "language_info": {
   "codemirror_mode": {
    "name": "ipython",
    "version": 3
   },
   "file_extension": ".py",
   "mimetype": "text/x-python",
   "name": "python",
   "nbconvert_exporter": "python",
   "pygments_lexer": "ipython3",
   "version": "3.11.3"
  },
  "orig_nbformat": 4
 },
 "nbformat": 4,
 "nbformat_minor": 2
}
