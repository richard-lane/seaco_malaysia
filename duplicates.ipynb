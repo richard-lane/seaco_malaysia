{
 "cells": [
  {
   "cell_type": "markdown",
   "metadata": {},
   "source": [
    "Investigating duplicates\n",
    "===="
   ]
  },
  {
   "cell_type": "code",
   "execution_count": 1,
   "metadata": {},
   "outputs": [],
   "source": [
    "%load_ext autoreload\n",
    "%autoreload 2"
   ]
  },
  {
   "cell_type": "code",
   "execution_count": 2,
   "metadata": {},
   "outputs": [],
   "source": [
    "\"\"\" Load data \"\"\"\n",
    "from ema import read\n",
    "\n",
    "meal_info = read.all_meal_info()\n",
    "meal_info = read.add_timedelta(meal_info)\n",
    "\n",
    "# Remove early entries\n",
    "meal_info = meal_info[meal_info[\"delta\"].dt.days >= 1]"
   ]
  },
  {
   "cell_type": "code",
   "execution_count": 3,
   "metadata": {},
   "outputs": [],
   "source": [
    "\"\"\" Find the watch serial number of each participant \"\"\"\n",
    "import re\n",
    "\n",
    "# Open the feasibility file\n",
    "feasibility_info = read.smartwatch_feasibility()\n",
    "keep = feasibility_info[\"smartwatchwilling\"] == 1\n",
    "feasibility_info = feasibility_info[keep]\n",
    "\n",
    "# Find unique smartwatchid's\n",
    "sw_ids = list({id_ for id_ in feasibility_info[\"smarwatchid\"].str.upper()})\n",
    "\n",
    "\n",
    "def sort_key(s):\n",
    "    # Find all digit groups\n",
    "    digits = re.findall(r\"\\d+\", s)\n",
    "    if digits:\n",
    "        # If there are digits, return a tuple with the non-digit part and the first group of digits as an integer\n",
    "        return (s.rstrip(digits[0]), int(digits[0]))\n",
    "    else:\n",
    "        # If there are no digits, just return the string\n",
    "        return (s,)\n",
    "\n",
    "\n",
    "sw_ids = sorted(sw_ids, key=sort_key)\n",
    "\n",
    "\n",
    "# Create dict of resident ID : smartwatch ID\n",
    "lookup = dict(\n",
    "    zip(feasibility_info[\"residents_id\"], feasibility_info[\"smarwatchid\"].str.upper())\n",
    ")"
   ]
  },
  {
   "cell_type": "code",
   "execution_count": 4,
   "metadata": {},
   "outputs": [],
   "source": [
    "\"\"\" Find which watches had the most duplicates \"\"\"\n",
    "import numpy as np\n",
    "from ema import clean\n",
    "\n",
    "pids = []\n",
    "n_duplicates = []\n",
    "\n",
    "for p_id, slice in meal_info.groupby(\"p_id\"):\n",
    "    # Count the number of duplicates per participant\n",
    "    n_duplicates.append(np.sum(clean.duplicates(slice)))\n",
    "\n",
    "    pids.append(p_id)\n",
    "\n",
    "# Find the serial number of each participant's watch\n",
    "dups_per_sw = {id_: [] for id_ in sw_ids}\n",
    "\n",
    "# Find the number of duplicates per watch\n",
    "# Iterate over participants and how many duplicates\n",
    "# Find which watch the participant had\n",
    "# Append the number of duplicates to the watch\n",
    "for p_id, n_dup in zip(pids, n_duplicates):\n",
    "    # Find the watch serial number\n",
    "    sw_id = lookup[p_id]\n",
    "\n",
    "    # Append the number of duplicates to the watch\n",
    "    dups_per_sw[sw_id].append(n_dup)\n",
    "\n",
    "dups_per_sw = dict(sorted(dups_per_sw.items()))"
   ]
  },
  {
   "cell_type": "code",
   "execution_count": 5,
   "metadata": {},
   "outputs": [
    {
     "data": {
      "image/png": "[encoded data removed]",
      "text/plain": [
       "<Figure size 640x480 with 2 Axes>"
      ]
     },
     "metadata": {},
     "output_type": "display_data"
    }
   ],
   "source": [
    "\"\"\" Plot a stacked bar chart of which watches had the most duplicates \"\"\"\n",
    "import matplotlib.pyplot as plt\n",
    "\n",
    "\n",
    "def plot_bars(axis):\n",
    "    max_bars = max(len(duplicates) for duplicates in dups_per_sw.values())\n",
    "    # Create a list of colors for the bars\n",
    "    colors = plt.cm.tab10(np.linspace(0, 1, max_bars))\n",
    "\n",
    "    for i in range(max_bars):\n",
    "        heights = []\n",
    "        bottoms = []\n",
    "        for watch_id in sw_ids:\n",
    "            if i < len(dups_per_sw[watch_id]):\n",
    "                # If this watch has this bar, get the height and bottom\n",
    "                height = dups_per_sw[watch_id][i]\n",
    "                bottom = sum(dups_per_sw[watch_id][:i])\n",
    "            else:\n",
    "                # If this watch doesn't have this bar, the height is 0 and the bottom is the last cumulative sum\n",
    "                height = 0\n",
    "                bottom = sum(dups_per_sw[watch_id])\n",
    "\n",
    "            heights.append(height)\n",
    "            bottoms.append(bottom)\n",
    "\n",
    "        axis.bar(sw_ids, heights, bottom=bottoms, color=colors[i])\n",
    "\n",
    "\n",
    "fig, axes = plt.subplots(2, 1, sharex=True)\n",
    "\n",
    "plot_bars(axes[0])\n",
    "plot_bars(axes[1])\n",
    "\n",
    "axes[0].set_ylim(225, 270)\n",
    "axes[1].set_ylim(0, 45)\n",
    "\n",
    "axes[0].spines.bottom.set_visible(False)\n",
    "axes[1].spines.top.set_visible(False)\n",
    "axes[0].xaxis.tick_top()\n",
    "axes[0].tick_params(labeltop=False)  # don't put tick labels at the top\n",
    "axes[1].xaxis.tick_bottom()\n",
    "\n",
    "# Plot the slanted lines\n",
    "d = 0.5  # proportion of vertical to horizontal extent of the slanted line\n",
    "kwargs = dict(\n",
    "    marker=[(-1, -d), (1, d)],\n",
    "    markersize=12,\n",
    "    linestyle=\"none\",\n",
    "    color=\"k\",\n",
    "    mec=\"k\",\n",
    "    mew=1,\n",
    "    clip_on=False,\n",
    ")\n",
    "axes[0].plot([0, 1], [0, 0], transform=axes[0].transAxes, **kwargs)\n",
    "axes[1].plot([0, 1], [1, 1], transform=axes[1].transAxes, **kwargs)\n",
    "\n",
    "axes[1].set_xlabel(\"Watch ID\")\n",
    "fig.supylabel(\"Number of Duplicates\")\n",
    "fig.suptitle(\"Stacked Bar Chart of Duplicates by Watch\")\n",
    "fig.tight_layout()"
   ]
  },
  {
   "cell_type": "code",
   "execution_count": null,
   "metadata": {},
   "outputs": [],
   "source": []
  }
 ],
 "metadata": {
  "kernelspec": {
   "display_name": "Python 3",
   "language": "python",
   "name": "python3"
  },
  "language_info": {
   "codemirror_mode": {
    "name": "ipython",
    "version": 3
   },
   "file_extension": ".py",
   "mimetype": "text/x-python",
   "name": "python",
   "nbconvert_exporter": "python",
   "pygments_lexer": "ipython3",
   "version": "3.10.12"
  }
 },
 "nbformat": 4,
 "nbformat_minor": 2
}
