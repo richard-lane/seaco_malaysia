{
 "cells": [
  {
   "cell_type": "code",
   "execution_count": 1,
   "metadata": {},
   "outputs": [],
   "source": [
    "from ema import read"
   ]
  },
  {
   "cell_type": "code",
   "execution_count": 2,
   "metadata": {},
   "outputs": [],
   "source": [
    "meal_info = read.all_meal_info()"
   ]
  },
  {
   "cell_type": "code",
   "execution_count": null,
   "metadata": {},
   "outputs": [],
   "source": [
    "\"\"\"\n",
    "Plot a cumulative histogram showing the number of each type of meal\n",
    "\n",
    "\"\"\"\n",
    "import pandas as pd\n",
    "import matplotlib.pyplot as plt\n",
    "\n",
    "min_time, max_time = meal_info.index.min(), meal_info.index.max()\n",
    "\n",
    "fig, axis = plt.subplots()\n",
    "bins = pd.date_range(min_time, max_time, freq=\"1H\")\n",
    "\n",
    "labels = meal_info[\"meal_type\"].unique()\n",
    "data = [meal_info[meal_info[\"meal_type\"] == meal_type].index for meal_type in labels]\n",
    "axis.hist(data, bins=bins, stacked=True, label=labels, cumulative=True)\n",
    "\n",
    "axis.legend()"
   ]
  },
  {
   "cell_type": "code",
   "execution_count": null,
   "metadata": {},
   "outputs": [],
   "source": [
    "meal_info.head()"
   ]
  },
  {
   "cell_type": "code",
   "execution_count": null,
   "metadata": {},
   "outputs": [],
   "source": [
    "import numpy as np\n",
    "\n",
    "# Find each unique user\n",
    "p_ids = meal_info[\"p_id\"].unique()\n",
    "\n",
    "# Find the first date for each participant\n",
    "first_dates = []\n",
    "for p_id in p_ids:\n",
    "    dates = pd.unique(meal_info[meal_info[\"p_id\"] == p_id][\"firstdate\"])\n",
    "    assert len(dates) == 1, f\"Multiple first dates for participant {p_id}\"\n",
    "\n",
    "    first_dates.append(pd.to_datetime(dates[0], format=r\"%d %b %y\"))\n",
    "\n",
    "first_dates = pd.Series(first_dates)\n",
    "\n",
    "# build up a matrix of participant ids and non-response rate\n",
    "non_response_matrix = np.ones((len(p_ids), 8)) * np.nan\n",
    "response_matrix = np.ones((len(p_ids), 8)) * np.nan\n",
    "\n",
    "# For each participant, find the non-response rate for each of the eight days following their first recording\n",
    "for p_id, start_date, non_response_row, response_row in zip(\n",
    "    p_ids, first_dates, non_response_matrix, response_matrix\n",
    "):\n",
    "    # Slice the dataframe to find the meals recorded by this participant\n",
    "    this_participant = meal_info[meal_info[\"p_id\"] == p_id]\n",
    "\n",
    "    # Find the non-response rate for each day\n",
    "    for i in range(8):\n",
    "        date = start_date + pd.Timedelta(days=i)\n",
    "        this_date = this_participant[this_participant.index.date == date.date()]\n",
    "\n",
    "        # Find the number of \"no response\" entries\n",
    "        negative_response = [\"No response\"]\n",
    "        n_no_response = np.sum(this_date[\"meal_type\"].isin(negative_response))\n",
    "\n",
    "        non_response_row[i] = n_no_response\n",
    "\n",
    "        # Find the number of \"Drink\", \"Meal\", \"Snack\", \"No food/drink\" entries\n",
    "        positive_response = [\"Drink\", \"Meal\", \"Snack\", \"No food/drink\"]\n",
    "        n_response = np.sum(this_date[\"meal_type\"].isin(positive_response))\n",
    "\n",
    "        response_row[i] = n_response\n",
    "\n",
    "        # Error if there's anything else\n",
    "        ignore_response = [\"No catch-up\", \"Catch-up start\", \"Catch-up end\"]\n",
    "        assert (\n",
    "            this_date[\"meal_type\"]\n",
    "            .isin(ignore_response + positive_response + negative_response)\n",
    "            .values.all()\n",
    "        ), \"Unexpected meal type encountered\""
   ]
  }
 ],
 "metadata": {
  "kernelspec": {
   "display_name": "malaysia310",
   "language": "python",
   "name": "python3"
  },
  "language_info": {
   "codemirror_mode": {
    "name": "ipython",
    "version": 3
   },
   "file_extension": ".py",
   "mimetype": "text/x-python",
   "name": "python",
   "nbconvert_exporter": "python",
   "pygments_lexer": "ipython3",
   "version": "3.10.12"
  }
 },
 "nbformat": 4,
 "nbformat_minor": 2
}
