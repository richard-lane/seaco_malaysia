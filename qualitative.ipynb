{
 "cells": [
  {
   "cell_type": "markdown",
   "metadata": {},
   "source": [
    "Results from demographic + experience smartwatch survey\n",
    "===="
   ]
  },
  {
   "cell_type": "code",
   "execution_count": 1,
   "metadata": {},
   "outputs": [],
   "source": [
    "%load_ext autoreload\n",
    "%autoreload 2"
   ]
  },
  {
   "cell_type": "code",
   "execution_count": 2,
   "metadata": {},
   "outputs": [
    {
     "name": "stderr",
     "output_type": "stream",
     "text": [
      "/tmp/ipykernel_21120/3104238101.py:9: DtypeWarning: Columns (17,25,26,52,197,198,200,201,209,210,212,213,216,218,219,222,225,227,228,230,231,233,234,236,237,239,240,243,246,248,249,252,254,255,257,258,261,263,264,267,269,270,272,273,276,279,281,284,291,293,294,296,297,300,302,303,305,306,309,311,312,314,315,317,318,321,324,327,330,344,351,352,354,355,360,361,362,363,364,369,370,371,372,373,378,379,380,381,382,387,390,391,396,397,398,399,400,406,407,415,425,432,434,435,436,446,456,486,499,504,506,512,513,549) have mixed types. Specify dtype option on import or set low_memory=False.\n",
      "  qnaire_data = pd.read_csv(path)\n"
     ]
    },
    {
     "data": {
      "text/html": [
       "<div>\n",
       "<style scoped>\n",
       "    .dataframe tbody tr th:only-of-type {\n",
       "        vertical-align: middle;\n",
       "    }\n",
       "\n",
       "    .dataframe tbody tr th {\n",
       "        vertical-align: top;\n",
       "    }\n",
       "\n",
       "    .dataframe thead th {\n",
       "        text-align: right;\n",
       "    }\n",
       "</style>\n",
       "<table border=\"1\" class=\"dataframe\">\n",
       "  <thead>\n",
       "    <tr style=\"text-align: right;\">\n",
       "      <th></th>\n",
       "      <th>deviceid</th>\n",
       "      <th>updatelistselected</th>\n",
       "      <th>barcodehouse</th>\n",
       "      <th>residents_id</th>\n",
       "      <th>respondent_status</th>\n",
       "      <th>verify_note</th>\n",
       "      <th>verify_address</th>\n",
       "      <th>address_barcode</th>\n",
       "      <th>respondent_sex</th>\n",
       "      <th>respondent_ethnicity</th>\n",
       "      <th>...</th>\n",
       "      <th>field_note</th>\n",
       "      <th>formdef_version</th>\n",
       "      <th>key</th>\n",
       "      <th>review_quality</th>\n",
       "      <th>review_corrections</th>\n",
       "      <th>submissiondate</th>\n",
       "      <th>starttime</th>\n",
       "      <th>endtime</th>\n",
       "      <th>dob</th>\n",
       "      <th>bp_start</th>\n",
       "    </tr>\n",
       "  </thead>\n",
       "  <tbody>\n",
       "    <tr>\n",
       "      <th>0</th>\n",
       "      <td>1111dda705a8df02</td>\n",
       "      <td>2104</td>\n",
       "      <td>JBI000024</td>\n",
       "      <td>2104</td>\n",
       "      <td>1</td>\n",
       "      <td>NaN</td>\n",
       "      <td>1.0</td>\n",
       "      <td>1.0</td>\n",
       "      <td>1.0</td>\n",
       "      <td>1.0</td>\n",
       "      <td>...</td>\n",
       "      <td>Done blood</td>\n",
       "      <td>2.112000e+09</td>\n",
       "      <td>uuid:9c4dfbbd-efd6-4dfa-bd94-35e1e64a7f45</td>\n",
       "      <td>OKAY</td>\n",
       "      <td>nurul.syazwana@monash.edu (Mar 11, 2022 4:21:3...</td>\n",
       "      <td>19jan2022 09:17:38</td>\n",
       "      <td>18jan2022 21:44:56</td>\n",
       "      <td>19jan2022 08:59:50</td>\n",
       "      <td>13mar2007</td>\n",
       "      <td>18jan2022</td>\n",
       "    </tr>\n",
       "    <tr>\n",
       "      <th>1</th>\n",
       "      <td>1833a79c47db6bdc</td>\n",
       "      <td>2864</td>\n",
       "      <td>GMH000071</td>\n",
       "      <td>2864</td>\n",
       "      <td>1</td>\n",
       "      <td>NaN</td>\n",
       "      <td>1.0</td>\n",
       "      <td>1.0</td>\n",
       "      <td>1.0</td>\n",
       "      <td>1.0</td>\n",
       "      <td>...</td>\n",
       "      <td>NaN</td>\n",
       "      <td>2.112000e+09</td>\n",
       "      <td>uuid:cd20720f-3c19-48f9-bc27-76f749e257c9</td>\n",
       "      <td>OKAY</td>\n",
       "      <td>NaN</td>\n",
       "      <td>26jan2022 12:01:19</td>\n",
       "      <td>21jan2022 16:22:03</td>\n",
       "      <td>24jan2022 11:32:27</td>\n",
       "      <td>11jul2013</td>\n",
       "      <td>24jan2022</td>\n",
       "    </tr>\n",
       "    <tr>\n",
       "      <th>2</th>\n",
       "      <td>1833a79c47db6bdc</td>\n",
       "      <td>15697</td>\n",
       "      <td>GMH000980</td>\n",
       "      <td>15697</td>\n",
       "      <td>1</td>\n",
       "      <td>NaN</td>\n",
       "      <td>1.0</td>\n",
       "      <td>1.0</td>\n",
       "      <td>1.0</td>\n",
       "      <td>1.0</td>\n",
       "      <td>...</td>\n",
       "      <td>NaN</td>\n",
       "      <td>2.112000e+09</td>\n",
       "      <td>uuid:39a85c45-a319-45e7-bbab-ff683d328ef9</td>\n",
       "      <td>GOOD</td>\n",
       "      <td>NaN</td>\n",
       "      <td>26jan2022 12:01:19</td>\n",
       "      <td>24jan2022 11:37:03</td>\n",
       "      <td>24jan2022 12:01:56</td>\n",
       "      <td>10mar2008</td>\n",
       "      <td>24jan2022</td>\n",
       "    </tr>\n",
       "    <tr>\n",
       "      <th>3</th>\n",
       "      <td>1833a79c47db6bdc</td>\n",
       "      <td>1382</td>\n",
       "      <td>JBI000014</td>\n",
       "      <td>1382</td>\n",
       "      <td>1</td>\n",
       "      <td>NaN</td>\n",
       "      <td>1.0</td>\n",
       "      <td>1.0</td>\n",
       "      <td>1.0</td>\n",
       "      <td>1.0</td>\n",
       "      <td>...</td>\n",
       "      <td>NaN</td>\n",
       "      <td>2.112000e+09</td>\n",
       "      <td>uuid:3471f3f6-fe16-4d76-b747-210b12d2266a</td>\n",
       "      <td>GOOD</td>\n",
       "      <td>NaN</td>\n",
       "      <td>26jan2022 12:01:20</td>\n",
       "      <td>24jan2022 12:12:45</td>\n",
       "      <td>26jan2022 11:35:36</td>\n",
       "      <td>13jan2013</td>\n",
       "      <td>26jan2022</td>\n",
       "    </tr>\n",
       "    <tr>\n",
       "      <th>4</th>\n",
       "      <td>1833a79c47db6bdc</td>\n",
       "      <td>3632</td>\n",
       "      <td>JBI000329</td>\n",
       "      <td>3632</td>\n",
       "      <td>1</td>\n",
       "      <td>NaN</td>\n",
       "      <td>1.0</td>\n",
       "      <td>1.0</td>\n",
       "      <td>2.0</td>\n",
       "      <td>1.0</td>\n",
       "      <td>...</td>\n",
       "      <td>NaN</td>\n",
       "      <td>2.112000e+09</td>\n",
       "      <td>uuid:42cc75b5-cd1e-4099-b8a7-f92963922c56</td>\n",
       "      <td>OKAY</td>\n",
       "      <td>NaN</td>\n",
       "      <td>28jan2022 11:20:00</td>\n",
       "      <td>06jan2022 22:38:14</td>\n",
       "      <td>26jan2022 13:44:00</td>\n",
       "      <td>29mar2013</td>\n",
       "      <td>07jan2022</td>\n",
       "    </tr>\n",
       "  </tbody>\n",
       "</table>\n",
       "<p>5 rows × 555 columns</p>\n",
       "</div>"
      ],
      "text/plain": [
       "           deviceid  updatelistselected barcodehouse  residents_id  \\\n",
       "0  1111dda705a8df02                2104    JBI000024          2104   \n",
       "1  1833a79c47db6bdc                2864    GMH000071          2864   \n",
       "2  1833a79c47db6bdc               15697    GMH000980         15697   \n",
       "3  1833a79c47db6bdc                1382    JBI000014          1382   \n",
       "4  1833a79c47db6bdc                3632    JBI000329          3632   \n",
       "\n",
       "   respondent_status  verify_note  verify_address  address_barcode  \\\n",
       "0                  1          NaN             1.0              1.0   \n",
       "1                  1          NaN             1.0              1.0   \n",
       "2                  1          NaN             1.0              1.0   \n",
       "3                  1          NaN             1.0              1.0   \n",
       "4                  1          NaN             1.0              1.0   \n",
       "\n",
       "   respondent_sex  respondent_ethnicity  ...  field_note  formdef_version  \\\n",
       "0             1.0                   1.0  ...  Done blood     2.112000e+09   \n",
       "1             1.0                   1.0  ...         NaN     2.112000e+09   \n",
       "2             1.0                   1.0  ...         NaN     2.112000e+09   \n",
       "3             1.0                   1.0  ...         NaN     2.112000e+09   \n",
       "4             2.0                   1.0  ...         NaN     2.112000e+09   \n",
       "\n",
       "                                         key  review_quality  \\\n",
       "0  uuid:9c4dfbbd-efd6-4dfa-bd94-35e1e64a7f45            OKAY   \n",
       "1  uuid:cd20720f-3c19-48f9-bc27-76f749e257c9            OKAY   \n",
       "2  uuid:39a85c45-a319-45e7-bbab-ff683d328ef9            GOOD   \n",
       "3  uuid:3471f3f6-fe16-4d76-b747-210b12d2266a            GOOD   \n",
       "4  uuid:42cc75b5-cd1e-4099-b8a7-f92963922c56            OKAY   \n",
       "\n",
       "                                  review_corrections      submissiondate  \\\n",
       "0  nurul.syazwana@monash.edu (Mar 11, 2022 4:21:3...  19jan2022 09:17:38   \n",
       "1                                                NaN  26jan2022 12:01:19   \n",
       "2                                                NaN  26jan2022 12:01:19   \n",
       "3                                                NaN  26jan2022 12:01:20   \n",
       "4                                                NaN  28jan2022 11:20:00   \n",
       "\n",
       "            starttime             endtime        dob   bp_start  \n",
       "0  18jan2022 21:44:56  19jan2022 08:59:50  13mar2007  18jan2022  \n",
       "1  21jan2022 16:22:03  24jan2022 11:32:27  11jul2013  24jan2022  \n",
       "2  24jan2022 11:37:03  24jan2022 12:01:56  10mar2008  24jan2022  \n",
       "3  24jan2022 12:12:45  26jan2022 11:35:36  13jan2013  26jan2022  \n",
       "4  06jan2022 22:38:14  26jan2022 13:44:00  29mar2013  07jan2022  \n",
       "\n",
       "[5 rows x 555 columns]"
      ]
     },
     "execution_count": 2,
     "metadata": {},
     "output_type": "execute_result"
    }
   ],
   "source": [
    "\"\"\"\n",
    "Read in the questionnaire data\n",
    "\n",
    "\"\"\"\n",
    "import pandas as pd\n",
    "\n",
    "# Need to mount the SEACO RDSF drive here\n",
    "path = \"/mnt/z/SEACO data/SEACO-CH20 qnaire data/SEACO_CH20_17082022_de_id.csv\"\n",
    "qnaire_data = pd.read_csv(path)\n",
    "\n",
    "qnaire_data.head()"
   ]
  },
  {
   "cell_type": "code",
   "execution_count": 3,
   "metadata": {},
   "outputs": [
    {
     "data": {
      "text/plain": [
       "626"
      ]
     },
     "execution_count": 3,
     "metadata": {},
     "output_type": "execute_result"
    }
   ],
   "source": [
    "\"\"\"\n",
    "Choose only respondents who agreed to take part\n",
    "\n",
    "\"\"\"\n",
    "accepted_df = qnaire_data[qnaire_data[\"respondent_status\"] == 1].copy()\n",
    "len(accepted_df)"
   ]
  },
  {
   "cell_type": "code",
   "execution_count": 4,
   "metadata": {},
   "outputs": [],
   "source": [
    "\"\"\"\n",
    "Add a column for age group\n",
    "\n",
    "\"\"\"\n",
    "import numpy as np\n",
    "\n",
    "lims = (7, 9, 18)\n",
    "accepted_df[\"child\"] = (accepted_df[\"age_dob\"] >= lims[0]) & (\n",
    "    accepted_df[\"age_dob\"] <= lims[1]\n",
    ")\n",
    "accepted_df[\"adolescent\"] = (accepted_df[\"age_dob\"] > lims[1]) & (\n",
    "    accepted_df[\"age_dob\"] <= lims[2]\n",
    ")\n",
    "\n",
    "# Check no overlap\n",
    "assert not (accepted_df[\"child\"] & accepted_df[\"adolescent\"]).any()\n",
    "\n",
    "# Check no unassigned\n",
    "assert (accepted_df[\"child\"] | accepted_df[\"adolescent\"]).all()"
   ]
  },
  {
   "cell_type": "code",
   "execution_count": 5,
   "metadata": {},
   "outputs": [
    {
     "data": {
      "text/plain": [
       "(smart1_7to9\n",
       " 1.0    4\n",
       " 2.0    1\n",
       " Name: count, dtype: int64,\n",
       " smart1_10to17\n",
       " 1.0    79\n",
       " 2.0     3\n",
       " Name: count, dtype: int64)"
      ]
     },
     "execution_count": 5,
     "metadata": {},
     "output_type": "execute_result"
    }
   ],
   "source": [
    "\"\"\"\n",
    "Find the number of each who agreed to take part in the smartwatch study\n",
    "\n",
    "\"\"\"\n",
    "\n",
    "# We only care about the participants who were asked about the smartwatches\n",
    "child_df = accepted_df[accepted_df[\"child\"] & ~pd.isna(accepted_df[\"smart1_7to9\"])]\n",
    "adolescent_df = accepted_df[\n",
    "    accepted_df[\"adolescent\"] & ~pd.isna(accepted_df[\"smart1_10to17\"])\n",
    "]\n",
    "\n",
    "child_df[\"smart1_7to9\"].value_counts(dropna=False), adolescent_df[\"smart1_10to17\"].value_counts(dropna=False)"
   ]
  },
  {
   "cell_type": "code",
   "execution_count": 6,
   "metadata": {},
   "outputs": [
    {
     "data": {
      "image/png": "[encoded data removed]",
      "text/plain": [
       "<Figure size 640x480 with 1 Axes>"
      ]
     },
     "metadata": {},
     "output_type": "display_data"
    }
   ],
   "source": [
    "\"\"\" Histogram of ages \"\"\"\n",
    "\n",
    "import matplotlib.pyplot as plt\n",
    "\n",
    "fig, axis = plt.subplots()\n",
    "\n",
    "bins = np.linspace(6.5, 18.5, 13)\n",
    "child_df[\"age_dob\"].hist(ax=axis, bins=bins, label=\"Child\")\n",
    "adolescent_df[\"age_dob\"].hist(ax=axis, bins=bins, label=\"Adolescent\", color=\"C1\")\n",
    "\n",
    "axis.grid(False)\n",
    "axis.legend()\n",
    "axis.set_xlabel(\"Age\")\n",
    "\n",
    "fig.tight_layout()"
   ]
  },
  {
   "cell_type": "code",
   "execution_count": 7,
   "metadata": {},
   "outputs": [
    {
     "name": "stdout",
     "output_type": "stream",
     "text": [
      "smart2_7to9\n",
      "7.0    1\n",
      "Name: count, dtype: int64\n",
      "41   -99.0\n",
      "Name: smart2a_7to9, dtype: float64\n"
     ]
    }
   ],
   "source": [
    "\"\"\"\n",
    "For the participants who didn't take part, find out why\n",
    "\n",
    "\"\"\"\n",
    "\n",
    "print(child_df[child_df[\"smart1_7to9\"] == 2][\"smart2_7to9\"].value_counts(dropna=False))\n",
    "\n",
    "# Here, 7 means \"Other\"\n",
    "print(\n",
    "    child_df[(child_df[\"smart1_7to9\"] == 2) & (child_df[\"smart2_7to9\"] == 7)][\n",
    "        \"smart2a_7to9\"\n",
    "    ]\n",
    ")"
   ]
  },
  {
   "cell_type": "code",
   "execution_count": 8,
   "metadata": {},
   "outputs": [
    {
     "name": "stdout",
     "output_type": "stream",
     "text": [
      "smart2_10to17\n",
      "-9.0    1\n",
      " 7.0    1\n",
      " NaN    1\n",
      "Name: count, dtype: int64\n",
      "94    takut bawa ke sekolah\n",
      "Name: smart2a_10to17, dtype: object\n"
     ]
    }
   ],
   "source": [
    "print(\n",
    "    adolescent_df[adolescent_df[\"smart1_10to17\"] == 2][\"smart2_10to17\"].value_counts(\n",
    "        dropna=False\n",
    "    )\n",
    ")\n",
    "\n",
    "# Here, 7 means \"Other\" and -9 means \"Refused to answer\"\n",
    "print(\n",
    "    adolescent_df[\n",
    "        (adolescent_df[\"smart1_10to17\"] == 2) & (adolescent_df[\"smart2_10to17\"] == 7)\n",
    "    ][\"smart2a_10to17\"]\n",
    ")"
   ]
  },
  {
   "cell_type": "code",
   "execution_count": 9,
   "metadata": {},
   "outputs": [
    {
     "data": {
      "text/plain": [
       "smart3_7to9\n",
       "0.0    2\n",
       "3.0    1\n",
       "5.0    1\n",
       "4.0    1\n",
       "Name: count, dtype: int64"
      ]
     },
     "execution_count": 9,
     "metadata": {},
     "output_type": "execute_result"
    },
    {
     "data": {
      "image/png": "[encoded data removed]",
      "text/plain": [
       "<Figure size 1000x500 with 2 Axes>"
      ]
     },
     "metadata": {},
     "output_type": "display_data"
    }
   ],
   "source": [
    "\"\"\"\n",
    "Make a bar chart of experience of using the smartwatch\n",
    "\n",
    "\"\"\"\n",
    "\n",
    "child_counts = child_df[\"smart3_7to9\"].value_counts(dropna=False)\n",
    "adolescent_counts = adolescent_df[\"smart3_10to17\"].value_counts(dropna=False)\n",
    "\n",
    "# Replace the NaN in the index with 0\n",
    "child_counts.index = child_counts.index.fillna(0)\n",
    "adolescent_counts.index = adolescent_counts.index.fillna(0)\n",
    "\n",
    "fig, axes = plt.subplots(1, 2, figsize=(10, 5), sharex=True, sharey=True)\n",
    "\n",
    "axes[0].bar(child_counts.index, child_counts.values)\n",
    "axes[1].bar(adolescent_counts.index, adolescent_counts.values, color=\"\")\n",
    "\n",
    "# Label each bar with the number\n",
    "for i, v in child_counts.items():\n",
    "    axes[0].text(i, v + 0.5, str(v), ha=\"center\")\n",
    "for i, v in adolescent_counts.items():\n",
    "    axes[1].text(i, v + 0.5, str(v), ha=\"center\")\n",
    "\n",
    "\n",
    "for axis in axes:\n",
    "    axis.set_xlabel(\"Experience of using smartwatch\")\n",
    "    axis.set_xticks(range(6), [\"N/A\", *range(1, 6)])\n",
    "\n",
    "axes[0].set_title(\"Children\")\n",
    "axes[0].set_ylabel(\"Count\")\n",
    "axes[1].set_title(\"Adolescents\")\n",
    "\n",
    "fig.suptitle(\"How would you rate your child's/your experience of using the smartwatch?\")\n",
    "fig.tight_layout()\n",
    "child_counts"
   ]
  },
  {
   "cell_type": "code",
   "execution_count": 10,
   "metadata": {},
   "outputs": [
    {
     "data": {
      "image/png": "[encoded data removed]",
      "text/plain": [
       "<Figure size 640x480 with 1 Axes>"
      ]
     },
     "metadata": {},
     "output_type": "display_data"
    }
   ],
   "source": [
    "\"\"\"\n",
    "Would you do it again?\n",
    "\n",
    "\"\"\"\n",
    "\n",
    "fig, axis = plt.subplots()\n",
    "\n",
    "child_counts = child_df[\"smart4_7to9\"].value_counts(dropna=False)\n",
    "adolescent_counts = adolescent_df[\"smart4_10to17\"].value_counts(dropna=False)\n",
    "\n",
    "# Fill NA with a negative value so it appears at the bottom of my plot\n",
    "na_val = -100\n",
    "child_counts.index = child_counts.index.fillna(na_val)\n",
    "adolescent_counts.index = adolescent_counts.index.fillna(na_val)\n",
    "\n",
    "child_counts.sort_index(inplace=True)\n",
    "adolescent_counts.sort_index(inplace=True)\n",
    "\n",
    "child_counts, adolescent_counts\n",
    "# Stacked bar chart\n",
    "color = {na_val: \"k\", 1.0: \"g\", 2.0: \"gold\", 3.0: \"r\", -9.0: \"grey\"}\n",
    "\n",
    "total = 0\n",
    "for val, count in child_counts.items():\n",
    "    axis.bar(0, count, color=color[val], label=i, bottom=total, width=0.4)\n",
    "    total += count\n",
    "\n",
    "total = 0\n",
    "for val, count in adolescent_counts.items():\n",
    "    axis.bar(1, count, color=color[val], label=i, bottom=total, width=0.4)\n",
    "    total += count\n",
    "\n",
    "axis.legend(\n",
    "    handles=[plt.Rectangle((0, 0), 1, 1, color=color[val]) for val in color],\n",
    "    labels=[\"N/A\", \"Yes\", \"Maybe\", \"No\", \"Refused to Answer\"],\n",
    ")\n",
    "\n",
    "axis.set_xticks([0, 1], [\"Children\", \"Adolescents\"])\n",
    "\n",
    "axis.set_title(\n",
    "    \"If your child/you were asked to use the smartwatch again in another study, would you?\"\n",
    ")\n",
    "\n",
    "fig.tight_layout()"
   ]
  },
  {
   "cell_type": "code",
   "execution_count": 12,
   "metadata": {},
   "outputs": [
    {
     "data": {
      "image/png": "[encoded data removed]",
      "text/plain": [
       "<Figure size 1000x500 with 2 Axes>"
      ]
     },
     "metadata": {},
     "output_type": "display_data"
    }
   ],
   "source": [
    "\"\"\"\n",
    "Days of self-reported wear\n",
    "\n",
    "\"\"\"\n",
    "\n",
    "fig, axes = plt.subplots(1, 2, figsize=(10, 5), sharex=True, sharey=True)\n",
    "\n",
    "child_counts = child_df[\"smart5_7to9\"].value_counts(dropna=False)\n",
    "adolescent_counts = adolescent_df[\"smart5_10to17\"].value_counts(dropna=False)\n",
    "\n",
    "# Fill NA with a negative value so it appears at the bottom of my plot\n",
    "na_val = -1\n",
    "child_counts.index = child_counts.index.fillna(na_val)\n",
    "adolescent_counts.index = adolescent_counts.index.fillna(na_val)\n",
    "\n",
    "child_counts.sort_index(inplace=True)\n",
    "adolescent_counts.sort_index(inplace=True)\n",
    "\n",
    "for i, val in child_counts.items():\n",
    "    axes[0].bar(i, val, color=\"C0\", width=0.5)\n",
    "for i, val in adolescent_counts.items():\n",
    "    axes[1].bar(i, val, color=\"C1\", width=0.5)\n",
    "\n",
    "# Label each bar with the number\n",
    "for i, v in child_counts.items():\n",
    "    axes[0].text(i, v + 0.5, str(v), ha=\"center\")\n",
    "for i, v in adolescent_counts.items():\n",
    "    axes[1].text(i, v + 0.5, str(v), ha=\"center\")\n",
    "\n",
    "for axis in axes:\n",
    "    axis.set_xticks(range(-1, 9), [\"N/A\", *range(0, 9)])\n",
    "\n",
    "axes[0].set_title(\"Children\")\n",
    "axes[1].set_title(\"Adolescents\")\n",
    "\n",
    "fig.supxlabel(\"Days of self-reported wear\")\n",
    "fig.supylabel(\"Count\")\n",
    "fig.suptitle(\"How many days in total did you wear the smartwatch for?\")\n",
    "\n",
    "fig.tight_layout()"
   ]
  },
  {
   "cell_type": "code",
   "execution_count": 29,
   "metadata": {},
   "outputs": [
    {
     "name": "stdout",
     "output_type": "stream",
     "text": [
      "Children\n",
      "\t N/A 1\n",
      "\t Did not find the smartwatch comfortable to wear 1\n"
     ]
    }
   ],
   "source": [
    "\"\"\"\n",
    "Reasons given for not wearing the smartwatch for the whole study\n",
    "\n",
    "\"\"\"\n",
    "\n",
    "child_counts = child_df[child_df[\"smart5_7to9\"] != 8][\"smart6_7to9\"].value_counts(\n",
    "    dropna=False\n",
    ")\n",
    "child_counts.index = child_counts.index.fillna(na_val)\n",
    "\n",
    "lookup = {\n",
    "    -9: \"Refused to answer\",\n",
    "    1: \"Did not like the look of the smartwatch\",\n",
    "    2: \"Did not find the smartwatch comfortable to wear\",\n",
    "    3: \"Recharging took too much time\",\n",
    "    4: \"Did not see the benefit, when could not see the data\",\n",
    "    5: \"Other reasons (please specify)\",\n",
    "    na_val: \"N/A\",\n",
    "}\n",
    "\n",
    "print(\"Children\")\n",
    "for i, val in child_counts.items():\n",
    "    print(\"\\t\", lookup[i], val)"
   ]
  },
  {
   "cell_type": "code",
   "execution_count": 35,
   "metadata": {},
   "outputs": [
    {
     "name": "stdout",
     "output_type": "stream",
     "text": [
      "Adolescents\n",
      "\t Did not find the smartwatch comfortable to wear 10\n",
      "\t Other reasons (please specify) 7\n",
      "\t Refused to answer 3\n",
      "\t N/A 2\n",
      "\t Did not see the benefit, when could not see the data 2\n"
     ]
    },
    {
     "data": {
      "text/plain": [
       "smart6a_10to17\n",
       "terlupa pakai selepas aktiviti merenang          1\n",
       "-99                                              1\n",
       "pihak sekolah tidak membenarkan memakai gajet    1\n",
       "Terlupa                                          1\n",
       "Kehabisan bateri                                 1\n",
       "Lupa                                             1\n",
       "Sakit dan gatal                                  1\n",
       "Name: count, dtype: int64"
      ]
     },
     "execution_count": 35,
     "metadata": {},
     "output_type": "execute_result"
    }
   ],
   "source": [
    "adolescent_counts = adolescent_df[adolescent_df[\"smart5_10to17\"] != 8][\n",
    "    \"smart6_10to17\"\n",
    "].value_counts(dropna=False)\n",
    "adolescent_counts.index = adolescent_counts.index.fillna(na_val)\n",
    "\n",
    "lookup = {\n",
    "    -9: \"Refused to answer\",\n",
    "    1: \"Did not like the look of the smartwatch\",\n",
    "    2: \"Did not find the smartwatch comfortable to wear\",\n",
    "    3: \"Recharging took too much time\",\n",
    "    4: \"Did not see the benefit, when could not see the data\",\n",
    "    5: \"Other reasons (please specify)\",\n",
    "    na_val: \"N/A\",\n",
    "}\n",
    "\n",
    "print(\"Adolescents\")\n",
    "for i, val in adolescent_counts.items():\n",
    "    print(\"\\t\", lookup[i], val)\n",
    "\n",
    "\n",
    "# Other reasons\n",
    "adolescent_df[\"smart6a_10to17\"].value_counts()"
   ]
  },
  {
   "cell_type": "markdown",
   "metadata": {},
   "source": [
    "Malay                                            | Count | English\n",
    "-------------------------------------------------|-------|------------------------------------------\n",
    "terlupa pakai selepas aktiviti merenang          | 1     | \"Forgot to use after swimming activity\"  \n",
    "-99                                              | 1     | N/A  \n",
    "pihak sekolah tidak membenarkan memakai gajet    | 1     | \"The school does not allow the use of gadgets\"  \n",
    "Terlupa                                          | 1     | \"Forgotten\"  \n",
    "Kehabisan bateri                                 | 1     | \"Out of battery\"   \n",
    "Lupa                                             | 1     | \"Forget\"  \n",
    "Sakit dan gatal                                  | 1     | \"Pain and itching\"  "
   ]
  },
  {
   "cell_type": "markdown",
   "metadata": {},
   "source": []
  }
 ],
 "metadata": {
  "kernelspec": {
   "display_name": "Python 3",
   "language": "python",
   "name": "python3"
  },
  "language_info": {
   "codemirror_mode": {
    "name": "ipython",
    "version": 3
   },
   "file_extension": ".py",
   "mimetype": "text/x-python",
   "name": "python",
   "nbconvert_exporter": "python",
   "pygments_lexer": "ipython3",
   "version": "3.10.12"
  }
 },
 "nbformat": 4,
 "nbformat_minor": 2
}
