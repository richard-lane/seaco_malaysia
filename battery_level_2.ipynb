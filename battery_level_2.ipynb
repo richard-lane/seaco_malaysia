{
 "cells": [
  {
   "cell_type": "markdown",
   "metadata": {},
   "source": [
    "Battery level study, but only interesting things\n",
    "===="
   ]
  },
  {
   "cell_type": "code",
   "execution_count": 1,
   "metadata": {},
   "outputs": [],
   "source": [
    "%load_ext autoreload\n",
    "%autoreload 2"
   ]
  },
  {
   "cell_type": "code",
   "execution_count": 3,
   "metadata": {},
   "outputs": [],
   "source": [
    "\"\"\"\n",
    "Copy files from RDSF to a local directory so I can read them\n",
    "\n",
    "\"\"\"\n",
    "\n",
    "from ema import read\n",
    "\n",
    "read.copy_battery_files()"
   ]
  },
  {
   "cell_type": "code",
   "execution_count": 10,
   "metadata": {},
   "outputs": [
    {
     "name": "stderr",
     "output_type": "stream",
     "text": [
      " 79%|███████▉  | 61/77 [00:00<00:00, 299.01it/s]"
     ]
    },
    {
     "name": "stdout",
     "output_type": "stream",
     "text": [
      "/home/mh19137/seaco_malaysia/data/battery_dbs/EMADATA_22904_20211209.db failed with Execution failed on sql 'SELECT * FROM Event;': database disk image is malformed\n",
      "/home/mh19137/seaco_malaysia/data/battery_dbs/EMADATA_20050_20220412.db failed with Execution failed on sql 'SELECT * FROM Event;': database disk image is malformed\n",
      "/home/mh19137/seaco_malaysia/data/battery_dbs/EMADATA_15082_20220420.db failed with Execution failed on sql 'SELECT * FROM Event;': database disk image is malformed\n",
      "/home/mh19137/seaco_malaysia/data/battery_dbs/EMADATA_638_20220428.db failed with Execution failed on sql 'SELECT * FROM Event;': database disk image is malformed\n",
      "/home/mh19137/seaco_malaysia/data/battery_dbs/EMADATA_35272_20220520.db failed with Execution failed on sql 'SELECT * FROM Event;': database disk image is malformed\n",
      "/home/mh19137/seaco_malaysia/data/battery_dbs/EMADATA_27345_20220615.db failed with Execution failed on sql 'SELECT * FROM Event;': database disk image is malformed\n",
      "/home/mh19137/seaco_malaysia/data/battery_dbs/EMADATA_29061_20220628.db failed with Execution failed on sql 'SELECT * FROM Event;': database disk image is malformed\n",
      "/home/mh19137/seaco_malaysia/data/battery_dbs/EMADATA_4260_20211221.db failed with Execution failed on sql 'SELECT * FROM Event;': database disk image is malformed\n",
      "/home/mh19137/seaco_malaysia/data/battery_dbs/EMADATA_9359_20220719.db failed with Execution failed on sql 'SELECT * FROM Event;': database disk image is malformed\n"
     ]
    },
    {
     "name": "stderr",
     "output_type": "stream",
     "text": [
      "100%|██████████| 77/77 [00:00<00:00, 311.09it/s]\n"
     ]
    },
    {
     "name": "stdout",
     "output_type": "stream",
     "text": [
      "/home/mh19137/seaco_malaysia/data/battery_dbs/EMADATA_23532_20220204.db failed with Execution failed on sql 'SELECT * FROM Event;': database disk image is malformed\n",
      "/home/mh19137/seaco_malaysia/data/battery_dbs/EMADATA_3017_20220204.db failed with Execution failed on sql 'SELECT * FROM Event;': database disk image is malformed\n"
     ]
    },
    {
     "name": "stderr",
     "output_type": "stream",
     "text": [
      "/home/mh19137/seaco_malaysia/ema/clean.py:118: FutureWarning: Setting an item of incompatible dtype is deprecated and will raise an error in a future version of pandas. Value 'Normal' has dtype incompatible with float64, please explicitly cast to a compatible dtype first.\n",
      "  copy.loc[start_time, col_name] = \"Normal\"\n",
      "/home/mh19137/seaco_malaysia/ema/clean.py:189: UserWarning: \u001b[94mLong catchup: not marking Meal at 2022-05-19 09:02:49 as catchup\u001b[0m\n",
      "  warnings.warn(\n"
     ]
    },
    {
     "name": "stdout",
     "output_type": "stream",
     "text": [
      " Open ended catchup at \u001b[92m2022-02-11 20:02:05\u001b[0m ended by No response at \u001b[92m2022-02-12 08:02:11\u001b[0m\n",
      " Open ended catchup at \u001b[92m2022-02-14 20:26:30\u001b[0m ended by No response at \u001b[92m2022-02-15 08:02:16\u001b[0m\n",
      " Open ended catchup at \u001b[93m2022-04-19 08:01:14\u001b[0m ended by No catch-up at \u001b[93m2022-04-19 08:01:17\u001b[0m\n",
      " Open ended catchup at \u001b[91m2022-06-27 15:53:14\u001b[0m ended by Catch-up start at \u001b[91m2022-06-27 15:54:06\u001b[0m\n",
      " Open ended catchup at \u001b[93m2021-12-31 22:11:10\u001b[0m ended by No catch-up at \u001b[93m2022-01-01 08:01:15\u001b[0m\n",
      " Open ended catchup at \u001b[91m2022-05-24 07:25:36\u001b[0m ended by Catch-up start at \u001b[91m2022-05-24 07:26:00\u001b[0m\n",
      " Open ended catchup at \u001b[93m2022-03-21 08:01:57\u001b[0m ended by No catch-up at \u001b[93m2022-03-21 08:02:04\u001b[0m\n",
      " Open ended catchup at \u001b[93m2022-03-07 18:33:30\u001b[0m ended by No catch-up at \u001b[93m2022-03-07 18:33:34\u001b[0m\n",
      " Open ended catchup at \u001b[93m2022-03-07 18:37:08\u001b[0m ended by No catch-up at \u001b[93m2022-03-07 18:37:14\u001b[0m\n",
      " Open ended catchup at \u001b[92m2022-03-07 19:29:23\u001b[0m ended by No response at \u001b[92m2022-03-08 08:02:56\u001b[0m\n",
      " Open ended catchup at \u001b[93m2022-03-08 08:30:40\u001b[0m ended by No catch-up at \u001b[93m2022-03-08 08:31:08\u001b[0m\n",
      " Open ended catchup at \u001b[93m2022-03-08 09:49:20\u001b[0m ended by No catch-up at \u001b[93m2022-03-08 09:49:28\u001b[0m\n",
      " Open ended catchup at \u001b[93m2022-03-09 08:00:59\u001b[0m ended by No catch-up at \u001b[93m2022-03-09 08:01:03\u001b[0m\n",
      " Open ended catchup at \u001b[92m2022-04-28 15:48:57\u001b[0m ended by No response at \u001b[92m2022-04-28 15:50:59\u001b[0m\n",
      " Open ended catchup at \u001b[92m2022-04-28 16:24:21\u001b[0m ended by No response at \u001b[92m2022-05-10 09:53:52\u001b[0m\n",
      " Open ended catchup at \u001b[93m2021-12-05 08:00:54\u001b[0m ended by No catch-up at \u001b[93m2021-12-05 08:00:57\u001b[0m\n",
      " Open ended catchup at \u001b[93m2022-04-04 08:04:36\u001b[0m ended by No catch-up at \u001b[93m2022-04-04 08:04:45\u001b[0m\n",
      " Open ended catchup at \u001b[93m2022-04-04 14:20:29\u001b[0m ended by No catch-up at \u001b[93m2022-04-04 14:23:32\u001b[0m\n",
      " Open ended catchup at \u001b[92m2021-12-23 23:03:50\u001b[0m ended by No response at \u001b[92m2021-12-24 08:02:07\u001b[0m\n",
      " Open ended catchup at \u001b[92m2021-12-24 19:40:45\u001b[0m ended by No response at \u001b[92m2021-12-24 19:49:38\u001b[0m\n",
      " Open ended catchup at \u001b[93m2021-12-15 08:00:55\u001b[0m ended by No catch-up at \u001b[93m2021-12-15 08:01:06\u001b[0m\n",
      " Open ended catchup at \u001b[93m2021-11-09 08:00:19\u001b[0m ended by No catch-up at \u001b[93m2021-11-09 08:00:30\u001b[0m\n",
      " Open ended catchup at \u001b[93m2022-04-06 08:01:23\u001b[0m ended by No catch-up at \u001b[93m2022-04-06 08:02:01\u001b[0m\n",
      " Open ended catchup at \u001b[93m2022-07-12 15:19:19\u001b[0m ended by No catch-up at \u001b[93m2022-07-12 15:19:27\u001b[0m\n",
      " Open ended catchup at \u001b[93m2022-05-12 10:02:47\u001b[0m ended by No catch-up at \u001b[93m2022-05-12 10:03:16\u001b[0m\n",
      " Open ended catchup at \u001b[93m2022-02-16 16:56:14\u001b[0m ended by No catch-up at \u001b[93m2022-02-16 16:56:50\u001b[0m\n",
      "n_open_ended=26\n"
     ]
    },
    {
     "data": {
      "text/html": [
       "<div>\n",
       "<style scoped>\n",
       "    .dataframe tbody tr th:only-of-type {\n",
       "        vertical-align: middle;\n",
       "    }\n",
       "\n",
       "    .dataframe tbody tr th {\n",
       "        vertical-align: top;\n",
       "    }\n",
       "\n",
       "    .dataframe thead th {\n",
       "        text-align: right;\n",
       "    }\n",
       "</style>\n",
       "<table border=\"1\" class=\"dataframe\">\n",
       "  <thead>\n",
       "    <tr style=\"text-align: right;\">\n",
       "      <th></th>\n",
       "      <th>p_id</th>\n",
       "      <th>battery_lvl</th>\n",
       "      <th>delta</th>\n",
       "      <th>charges</th>\n",
       "      <th>discharges</th>\n",
       "      <th>respondent_sex</th>\n",
       "      <th>respondent_ethnicity</th>\n",
       "      <th>age_dob</th>\n",
       "      <th>residents_id</th>\n",
       "      <th>all_in_ramadan</th>\n",
       "      <th>any_in_ramadan</th>\n",
       "    </tr>\n",
       "  </thead>\n",
       "  <tbody>\n",
       "    <tr>\n",
       "      <th>0</th>\n",
       "      <td>15402</td>\n",
       "      <td>99</td>\n",
       "      <td>1 days 08:00:52</td>\n",
       "      <td>5</td>\n",
       "      <td>6</td>\n",
       "      <td>2.0</td>\n",
       "      <td>1.0</td>\n",
       "      <td>15.0</td>\n",
       "      <td>15402</td>\n",
       "      <td>False</td>\n",
       "      <td>False</td>\n",
       "    </tr>\n",
       "    <tr>\n",
       "      <th>1</th>\n",
       "      <td>15402</td>\n",
       "      <td>99</td>\n",
       "      <td>1 days 08:00:52</td>\n",
       "      <td>5</td>\n",
       "      <td>6</td>\n",
       "      <td>2.0</td>\n",
       "      <td>1.0</td>\n",
       "      <td>15.0</td>\n",
       "      <td>15402</td>\n",
       "      <td>False</td>\n",
       "      <td>False</td>\n",
       "    </tr>\n",
       "    <tr>\n",
       "      <th>2</th>\n",
       "      <td>15402</td>\n",
       "      <td>99</td>\n",
       "      <td>1 days 08:00:52</td>\n",
       "      <td>5</td>\n",
       "      <td>6</td>\n",
       "      <td>2.0</td>\n",
       "      <td>1.0</td>\n",
       "      <td>15.0</td>\n",
       "      <td>15402</td>\n",
       "      <td>False</td>\n",
       "      <td>False</td>\n",
       "    </tr>\n",
       "    <tr>\n",
       "      <th>3</th>\n",
       "      <td>15402</td>\n",
       "      <td>99</td>\n",
       "      <td>1 days 08:00:52</td>\n",
       "      <td>5</td>\n",
       "      <td>6</td>\n",
       "      <td>2.0</td>\n",
       "      <td>1.0</td>\n",
       "      <td>15.0</td>\n",
       "      <td>15402</td>\n",
       "      <td>False</td>\n",
       "      <td>False</td>\n",
       "    </tr>\n",
       "    <tr>\n",
       "      <th>4</th>\n",
       "      <td>15402</td>\n",
       "      <td>99</td>\n",
       "      <td>1 days 08:00:52</td>\n",
       "      <td>5</td>\n",
       "      <td>6</td>\n",
       "      <td>2.0</td>\n",
       "      <td>1.0</td>\n",
       "      <td>15.0</td>\n",
       "      <td>15402</td>\n",
       "      <td>False</td>\n",
       "      <td>False</td>\n",
       "    </tr>\n",
       "  </tbody>\n",
       "</table>\n",
       "</div>"
      ],
      "text/plain": [
       "    p_id  battery_lvl           delta  charges  discharges  respondent_sex  \\\n",
       "0  15402           99 1 days 08:00:52        5           6             2.0   \n",
       "1  15402           99 1 days 08:00:52        5           6             2.0   \n",
       "2  15402           99 1 days 08:00:52        5           6             2.0   \n",
       "3  15402           99 1 days 08:00:52        5           6             2.0   \n",
       "4  15402           99 1 days 08:00:52        5           6             2.0   \n",
       "\n",
       "   respondent_ethnicity  age_dob  residents_id  all_in_ramadan  any_in_ramadan  \n",
       "0                   1.0     15.0         15402           False           False  \n",
       "1                   1.0     15.0         15402           False           False  \n",
       "2                   1.0     15.0         15402           False           False  \n",
       "3                   1.0     15.0         15402           False           False  \n",
       "4                   1.0     15.0         15402           False           False  "
      ]
     },
     "execution_count": 10,
     "metadata": {},
     "output_type": "execute_result"
    }
   ],
   "source": [
    "\"\"\"\n",
    "Create a dataframe of all the battery data\n",
    "\n",
    "\"\"\"\n",
    "\n",
    "battery_df = read.battery_lvl_df()\n",
    "battery_df.head()"
   ]
  }
 ],
 "metadata": {
  "kernelspec": {
   "display_name": "Python 3",
   "language": "python",
   "name": "python3"
  },
  "language_info": {
   "codemirror_mode": {
    "name": "ipython",
    "version": 3
   },
   "file_extension": ".py",
   "mimetype": "text/x-python",
   "name": "python",
   "nbconvert_exporter": "python",
   "pygments_lexer": "ipython3",
   "version": "3.10.12"
  }
 },
 "nbformat": 4,
 "nbformat_minor": 2
}
